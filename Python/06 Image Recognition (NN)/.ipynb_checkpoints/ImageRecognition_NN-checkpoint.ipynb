{
 "cells": [
  {
   "cell_type": "code",
   "execution_count": 1,
   "metadata": {},
   "outputs": [
    {
     "name": "stdout",
     "output_type": "stream",
     "text": [
      "2.0.0\n"
     ]
    }
   ],
   "source": [
    "import tensorflow as tf\n",
    "print(tf.__version__)"
   ]
  },
  {
   "cell_type": "code",
   "execution_count": 2,
   "metadata": {},
   "outputs": [
    {
     "name": "stdout",
     "output_type": "stream",
     "text": [
      "2.3.1\n"
     ]
    },
    {
     "name": "stderr",
     "output_type": "stream",
     "text": [
      "Using TensorFlow backend.\n"
     ]
    }
   ],
   "source": [
    "import keras\n",
    "print(keras.__version__)"
   ]
  },
  {
   "cell_type": "code",
   "execution_count": 3,
   "metadata": {},
   "outputs": [
    {
     "name": "stdout",
     "output_type": "stream",
     "text": [
      "[name: \"/device:CPU:0\"\n",
      "device_type: \"CPU\"\n",
      "memory_limit: 268435456\n",
      "locality {\n",
      "}\n",
      "incarnation: 18177535298842202316\n",
      ", name: \"/device:GPU:0\"\n",
      "device_type: \"GPU\"\n",
      "memory_limit: 6682068255\n",
      "locality {\n",
      "  bus_id: 1\n",
      "  links {\n",
      "  }\n",
      "}\n",
      "incarnation: 5342875759854608877\n",
      "physical_device_desc: \"device: 0, name: GeForce GTX 1070, pci bus id: 0000:01:00.0, compute capability: 6.1\"\n",
      "]\n"
     ]
    }
   ],
   "source": [
    "from tensorflow.python.client import device_lib\n",
    "print(device_lib.list_local_devices())"
   ]
  },
  {
   "cell_type": "code",
   "execution_count": 4,
   "metadata": {},
   "outputs": [],
   "source": [
    "import matplotlib.pyplot as plt\n",
    "import numpy as np\n",
    "import pandas as pd"
   ]
  },
  {
   "cell_type": "code",
   "execution_count": 5,
   "metadata": {},
   "outputs": [],
   "source": [
    "from keras.datasets import fashion_mnist\n",
    "((trainX, trainY), (testX, testY)) = fashion_mnist.load_data()"
   ]
  },
  {
   "cell_type": "code",
   "execution_count": 6,
   "metadata": {},
   "outputs": [],
   "source": [
    "trainX = trainX/255\n",
    "testX = testX/255"
   ]
  },
  {
   "cell_type": "code",
   "execution_count": 7,
   "metadata": {},
   "outputs": [
    {
     "data": {
      "text/plain": [
       "(60000,)"
      ]
     },
     "execution_count": 7,
     "metadata": {},
     "output_type": "execute_result"
    }
   ],
   "source": [
    "trainY.shape"
   ]
  },
  {
   "cell_type": "code",
   "execution_count": 8,
   "metadata": {},
   "outputs": [],
   "source": [
    "from keras.utils import np_utils\n",
    "\n",
    "# one-hot encode the training and testing labels\n",
    "trainY = np_utils.to_categorical(trainY, 10)\n",
    "testY = np_utils.to_categorical(testY, 10)\n",
    " \n",
    "# initialize the label names\n",
    "labelNames = [\"top\", \"trouser\", \"pullover\", \"dress\", \"coat\",\n",
    "\"sandal\", \"shirt\", \"sneaker\", \"bag\", \"ankle boot\"]"
   ]
  },
  {
   "cell_type": "code",
   "execution_count": 9,
   "metadata": {},
   "outputs": [],
   "source": [
    "categories = np.array([\"top\", \"trouser\", \"pullover\", \"dress\", \"coat\",\n",
    "\"sandal\", \"shirt\", \"sneaker\", \"bag\", \"ankle boot\"])"
   ]
  },
  {
   "cell_type": "code",
   "execution_count": 10,
   "metadata": {},
   "outputs": [
    {
     "data": {
      "text/plain": [
       "(60000, 28, 28)"
      ]
     },
     "execution_count": 10,
     "metadata": {},
     "output_type": "execute_result"
    }
   ],
   "source": [
    "trainX.shape"
   ]
  },
  {
   "cell_type": "code",
   "execution_count": 11,
   "metadata": {},
   "outputs": [],
   "source": [
    "from keras.models import Sequential\n",
    "from keras.layers import Dense"
   ]
  },
  {
   "cell_type": "code",
   "execution_count": 12,
   "metadata": {},
   "outputs": [],
   "source": [
    "# train_data has shape: (50, 28, 28, 1) - 50 samples, 28x28 size, 1 for bw"
   ]
  },
  {
   "cell_type": "code",
   "execution_count": 13,
   "metadata": {},
   "outputs": [],
   "source": [
    "trainX = trainX.reshape((trainX.shape[0], 28, 28, 1))\n",
    "testX = testX.reshape((testX.shape[0], 28, 28, 1))"
   ]
  },
  {
   "cell_type": "code",
   "execution_count": 14,
   "metadata": {},
   "outputs": [
    {
     "data": {
      "text/plain": [
       "array([0.])"
      ]
     },
     "execution_count": 14,
     "metadata": {},
     "output_type": "execute_result"
    }
   ],
   "source": [
    "trainX[1,1,2,:]"
   ]
  },
  {
   "cell_type": "code",
   "execution_count": 15,
   "metadata": {},
   "outputs": [],
   "source": [
    "from keras.layers import Dense, Conv2D, Flatten, MaxPool2D, Dropout, BatchNormalization\n",
    "#Conv2D is for convolution layers, Flatten - is a connector betweer Conv and Dense layers."
   ]
  },
  {
   "cell_type": "code",
   "execution_count": 16,
   "metadata": {},
   "outputs": [],
   "source": [
    "model = Sequential() #Initialize a model\n",
    "\n",
    "# Add convolution layer\n",
    "model.add(Conv2D(10, kernel_size=3, activation='relu', input_shape=((28,28,1)), padding='same'))\n",
    "\n",
    "# Define what proportion of the further units will be ignored\n",
    "\n",
    "model.add(Dropout(0.25))\n",
    "# model.add(BatchNormalization())\n",
    "\n",
    "model.add(Conv2D(10, kernel_size=3, activation='relu', padding='valid'))\n",
    "\n",
    "# model.add(MaxPool2D(2))\n",
    "\n",
    "# Add Flatten layer\n",
    "model.add(Flatten())\n",
    "\n",
    "#add a fully-connected layer with 100 neurons\n",
    "model.add(Dense(100, activation='relu')) \n",
    "\n",
    "# #add another layer\n",
    "model.add(Dense(100, activation='relu'))\n",
    "\n",
    "#add output layer\n",
    "model.add(Dense(10, activation='softmax')) # here 10 is the number of classes to classify"
   ]
  },
  {
   "cell_type": "code",
   "execution_count": 17,
   "metadata": {},
   "outputs": [],
   "source": [
    "model.compile(optimizer='adam', loss = 'categorical_crossentropy', metrics = ['accuracy'])"
   ]
  },
  {
   "cell_type": "code",
   "execution_count": 18,
   "metadata": {},
   "outputs": [],
   "source": [
    "# train_data = trainX.reshape((60000, 784)) # to fit the model's input layer"
   ]
  },
  {
   "cell_type": "code",
   "execution_count": 19,
   "metadata": {},
   "outputs": [
    {
     "name": "stdout",
     "output_type": "stream",
     "text": [
      "Train on 57000 samples, validate on 3000 samples\n",
      "Epoch 1/10\n",
      "57000/57000 [==============================] - 6s 99us/step - loss: 0.4856 - accuracy: 0.8269 - val_loss: 0.3200 - val_accuracy: 0.8813\n",
      "Epoch 2/10\n",
      "57000/57000 [==============================] - 4s 68us/step - loss: 0.3213 - accuracy: 0.8826 - val_loss: 0.2972 - val_accuracy: 0.8970\n",
      "Epoch 3/10\n",
      "57000/57000 [==============================] - 4s 68us/step - loss: 0.2673 - accuracy: 0.9023 - val_loss: 0.2689 - val_accuracy: 0.9023\n",
      "Epoch 4/10\n",
      "57000/57000 [==============================] - 4s 68us/step - loss: 0.2342 - accuracy: 0.9128 - val_loss: 0.2477 - val_accuracy: 0.9083\n",
      "Epoch 5/10\n",
      "57000/57000 [==============================] - 4s 67us/step - loss: 0.2062 - accuracy: 0.9236 - val_loss: 0.2473 - val_accuracy: 0.9107\n",
      "Epoch 6/10\n",
      "57000/57000 [==============================] - 4s 67us/step - loss: 0.1835 - accuracy: 0.9316 - val_loss: 0.2386 - val_accuracy: 0.9157\n",
      "Epoch 7/10\n",
      "57000/57000 [==============================] - 4s 68us/step - loss: 0.1642 - accuracy: 0.9382 - val_loss: 0.2336 - val_accuracy: 0.9170\n",
      "Epoch 8/10\n",
      "57000/57000 [==============================] - 4s 67us/step - loss: 0.1424 - accuracy: 0.9473 - val_loss: 0.2531 - val_accuracy: 0.9173\n",
      "Epoch 9/10\n",
      "57000/57000 [==============================] - 4s 67us/step - loss: 0.1284 - accuracy: 0.9520 - val_loss: 0.2498 - val_accuracy: 0.9180\n",
      "Epoch 10/10\n",
      "57000/57000 [==============================] - 4s 68us/step - loss: 0.1132 - accuracy: 0.9571 - val_loss: 0.2657 - val_accuracy: 0.9130\n"
     ]
    }
   ],
   "source": [
    "from keras.callbacks import ModelCheckpoint\n",
    "checkpoint = ModelCheckpoint('w.hdf5', monitor='val_loss', save_best_only=True)\n",
    "callback_list = [checkpoint]\n",
    "\n",
    "training = model.fit(trainX, trainY, \n",
    "          validation_split = 0.05,\n",
    "          batch_size=100,\n",
    "          epochs = 10,\n",
    "           callbacks = callback_list)"
   ]
  },
  {
   "cell_type": "code",
   "execution_count": 20,
   "metadata": {},
   "outputs": [
    {
     "name": "stdout",
     "output_type": "stream",
     "text": [
      "10000/10000 [==============================] - 1s 75us/step\n"
     ]
    },
    {
     "data": {
      "text/plain": [
       "[0.2636530778110027, 0.9059000015258789]"
      ]
     },
     "execution_count": 20,
     "metadata": {},
     "output_type": "execute_result"
    }
   ],
   "source": [
    "# test_data = testX.reshape((10000, 784))\n",
    "\n",
    "model.load_weights('w.hdf5')\n",
    "\n",
    "model.evaluate(testX, testY)"
   ]
  },
  {
   "cell_type": "markdown",
   "metadata": {},
   "source": [
    "<b>Training process"
   ]
  },
  {
   "cell_type": "code",
   "execution_count": 21,
   "metadata": {},
   "outputs": [
    {
     "data": {
      "text/plain": [
       "[<matplotlib.lines.Line2D at 0x2662b45ed88>]"
      ]
     },
     "execution_count": 21,
     "metadata": {},
     "output_type": "execute_result"
    },
    {
     "data": {
      "image/png": "[encoded data removed]",
      "text/plain": [
       "<Figure size 432x288 with 1 Axes>"
      ]
     },
     "metadata": {
      "needs_background": "light"
     },
     "output_type": "display_data"
    }
   ],
   "source": [
    "plt.plot(training.history['loss'])\n",
    "plt.plot(training.history['val_loss'])"
   ]
  },
  {
   "cell_type": "markdown",
   "metadata": {},
   "source": [
    "<b>Understanding of CNN"
   ]
  },
  {
   "cell_type": "code",
   "execution_count": 22,
   "metadata": {},
   "outputs": [
    {
     "data": {
      "text/plain": [
       "(10000, 28, 28, 1)"
      ]
     },
     "execution_count": 22,
     "metadata": {},
     "output_type": "execute_result"
    }
   ],
   "source": [
    "testX.shape"
   ]
  },
  {
   "cell_type": "code",
   "execution_count": 23,
   "metadata": {},
   "outputs": [
    {
     "data": {
      "text/plain": [
       "<matplotlib.image.AxesImage at 0x2662b83ca08>"
      ]
     },
     "execution_count": 23,
     "metadata": {},
     "output_type": "execute_result"
    },
    {
     "data": {
      "image/png": "[encoded data removed]",
      "text/plain": [
       "<Figure size 432x288 with 1 Axes>"
      ]
     },
     "metadata": {
      "needs_background": "light"
     },
     "output_type": "display_data"
    }
   ],
   "source": [
    "l = model.layers[2]\n",
    "weights = l.get_weights()\n",
    "\n",
    "\n",
    "\n",
    "test = testX[3854].reshape((28,28))\n",
    "\n",
    "kernel1 = weights[0][:, :, 0, 1]\n",
    "\n",
    "\n",
    "def conv(image, kernel):\n",
    "    k_h = kernel.shape[0]\n",
    "    k_w = kernel.shape[1]\n",
    "    img_h = image.shape[0]\n",
    "    img_w = image.shape[1]\n",
    "    result = np.zeros(shape = (img_h - k_h + 1, img_w - k_w + 1))\n",
    "    \n",
    "    for ii in range(img_w-k_w+1):\n",
    "        for jj in range(img_h-k_h+1):\n",
    "#             result[ii,jj] = np.matmul(image[ii:ii+k_h, jj:jj+k_w], kernel).sum()\n",
    "            result[ii,jj] = (image[ii:ii+k_h, jj:jj+k_w]*kernel).sum()\n",
    "    return result\n",
    "\n",
    "plt.imshow(conv(test, kernel1))"
   ]
  },
  {
   "cell_type": "code",
   "execution_count": 24,
   "metadata": {},
   "outputs": [
    {
     "data": {
      "text/plain": [
       "[<keras.layers.convolutional.Conv2D at 0x2667a268c88>,\n",
       " <keras.layers.core.Dropout at 0x2664d632848>,\n",
       " <keras.layers.convolutional.Conv2D at 0x2660029bcc8>,\n",
       " <keras.layers.core.Flatten at 0x266003b2088>,\n",
       " <keras.layers.core.Dense at 0x26600281988>,\n",
       " <keras.layers.core.Dense at 0x266003b2408>,\n",
       " <keras.layers.core.Dense at 0x26600414e08>]"
      ]
     },
     "execution_count": 24,
     "metadata": {},
     "output_type": "execute_result"
    }
   ],
   "source": [
    "l = model.layers\n",
    "l"
   ]
  },
  {
   "cell_type": "code",
   "execution_count": 25,
   "metadata": {},
   "outputs": [
    {
     "data": {
      "text/plain": [
       "-1"
      ]
     },
     "execution_count": 25,
     "metadata": {},
     "output_type": "execute_result"
    }
   ],
   "source": [
    "import cv2\n",
    "from imutils import build_montages\n",
    "\n",
    "# initialize our list of output images\n",
    "images = []\n",
    "\n",
    "for i in np.random.choice(np.arange(0, len(testY)), size=(16,)):\n",
    "     # classify the clothing\n",
    "    probs = model.predict(testX[np.newaxis, i])\n",
    "    prediction = probs.argmax(axis=1)\n",
    "    label = labelNames[prediction[0]]\n",
    "    \n",
    "    image = (testX[i] * 255).astype(\"uint8\")\n",
    "    \n",
    "    # initialize the text label color as green (correct)\n",
    "    color = (0, 255, 0)\n",
    " \n",
    "    # otherwise, the class label prediction is incorrect\n",
    "    if prediction[0] != np.argmax(testY[i]):\n",
    "        color = (0, 0, 255)\n",
    "    image = cv2.merge([image] * 3)\n",
    "    image = cv2.resize(image, (96, 96), interpolation=cv2.INTER_LINEAR)\n",
    "    cv2.putText(image, label, (5, 20), cv2.FONT_HERSHEY_SIMPLEX, 0.75,\n",
    "        color, 2)\n",
    " \n",
    "    # add the image to our list of output images\n",
    "    images.append(image)\n",
    "    \n",
    "# construct the montage for the images\n",
    "montage = build_montages(images, (96, 96), (4, 4))[0]\n",
    " \n",
    "# show the output montage\n",
    "cv2.imshow(\"Fashion MNIST\", montage)\n",
    "cv2.waitKey(0)"
   ]
  },
  {
   "cell_type": "code",
   "execution_count": 26,
   "metadata": {},
   "outputs": [
    {
     "data": {
      "text/plain": [
       "<matplotlib.image.AxesImage at 0x2665c6f8b08>"
      ]
     },
     "execution_count": 26,
     "metadata": {},
     "output_type": "execute_result"
    },
    {
     "data": {
      "image/png": "[encoded data removed]",
      "text/plain": [
       "<Figure size 360x720 with 1 Axes>"
      ]
     },
     "metadata": {
      "needs_background": "light"
     },
     "output_type": "display_data"
    }
   ],
   "source": [
    "import keras\n",
    "import pydot\n",
    "import pydotplus\n",
    "from keras.utils.vis_utils import model_to_dot\n",
    "from keras.utils import plot_model\n",
    "\n",
    "keras.utils.vis_utils.pydot = pydot\n",
    "plot_model(model, to_file='model.png')\n",
    "img = plt.imread('model.png')\n",
    "plt.figure(figsize=(5,10))\n",
    "plt.imshow(img)"
   ]
  }
 ],
 "metadata": {
  "kernelspec": {
   "display_name": "Python 3",
   "language": "python",
   "name": "python3"
  },
  "language_info": {
   "codemirror_mode": {
    "name": "ipython",
    "version": 3
   },
   "file_extension": ".py",
   "mimetype": "text/x-python",
   "name": "python",
   "nbconvert_exporter": "python",
   "pygments_lexer": "ipython3",
   "version": "3.7.4"
  }
 },
 "nbformat": 4,
 "nbformat_minor": 2
}
