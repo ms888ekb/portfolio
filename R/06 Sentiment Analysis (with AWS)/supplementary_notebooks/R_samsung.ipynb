{
 "cells": [
  {
   "cell_type": "code",
   "execution_count": 1,
   "metadata": {},
   "outputs": [
    {
     "name": "stderr",
     "output_type": "stream",
     "text": [
      "Loading required package: foreach\n",
      "\n",
      "Loading required package: iterators\n",
      "\n",
      "Loading required package: parallel\n",
      "\n"
     ]
    }
   ],
   "source": [
    "# C4T3\n",
    "\n",
    "library('doParallel')"
   ]
  },
  {
   "cell_type": "code",
   "execution_count": 2,
   "metadata": {},
   "outputs": [
    {
     "name": "stderr",
     "output_type": "stream",
     "text": [
      "Loading required package: lattice\n",
      "\n",
      "Loading required package: ggplot2\n",
      "\n"
     ]
    }
   ],
   "source": [
    "library('caret')"
   ]
  },
  {
   "cell_type": "code",
   "execution_count": 3,
   "metadata": {},
   "outputs": [
    {
     "name": "stderr",
     "output_type": "stream",
     "text": [
      "corrplot 0.84 loaded\n",
      "\n"
     ]
    }
   ],
   "source": [
    "library('catboost')\n",
    "library('corrplot')"
   ]
  },
  {
   "cell_type": "code",
   "execution_count": 4,
   "metadata": {},
   "outputs": [
    {
     "name": "stderr",
     "output_type": "stream",
     "text": [
      "\n",
      "Attaching package: 'plotly'\n",
      "\n",
      "\n",
      "The following object is masked from 'package:ggplot2':\n",
      "\n",
      "    last_plot\n",
      "\n",
      "\n",
      "The following object is masked from 'package:stats':\n",
      "\n",
      "    filter\n",
      "\n",
      "\n",
      "The following object is masked from 'package:graphics':\n",
      "\n",
      "    layout\n",
      "\n",
      "\n"
     ]
    }
   ],
   "source": [
    "library('plotly')"
   ]
  },
  {
   "cell_type": "code",
   "execution_count": 5,
   "metadata": {},
   "outputs": [
    {
     "data": {
      "text/html": [
       "12"
      ],
      "text/latex": [
       "12"
      ],
      "text/markdown": [
       "12"
      ],
      "text/plain": [
       "[1] 12"
      ]
     },
     "metadata": {},
     "output_type": "display_data"
    }
   ],
   "source": [
    "detectCores() # Result = Typically 4 to 6"
   ]
  },
  {
   "cell_type": "code",
   "execution_count": 6,
   "metadata": {},
   "outputs": [
    {
     "data": {
      "text/html": [
       "10"
      ],
      "text/latex": [
       "10"
      ],
      "text/markdown": [
       "10"
      ],
      "text/plain": [
       "[1] 10"
      ]
     },
     "metadata": {},
     "output_type": "display_data"
    }
   ],
   "source": [
    "# Setting a number of cores used for the cluster\n",
    "cl <- makeCluster(10)\n",
    "\n",
    "# Register Cluster\n",
    "registerDoParallel(cl)\n",
    "\n",
    "# Confirm how many cores are now \"assigned\" to R and RStudio\n",
    "getDoParWorkers() # Result 2 \n",
    "\n",
    "# Stop Cluster. After performing your tasks, stop your cluster. \n",
    "# stopCluster(cl)"
   ]
  },
  {
   "cell_type": "markdown",
   "metadata": {},
   "source": [
    "<b>Exploring the Data</b>"
   ]
  },
  {
   "cell_type": "code",
   "execution_count": 7,
   "metadata": {},
   "outputs": [],
   "source": [
    "samsung <- read.csv('galaxy_smallmatrix_labeled_9d.csv')"
   ]
  },
  {
   "cell_type": "code",
   "execution_count": 8,
   "metadata": {},
   "outputs": [
    {
     "data": {
      "text/html": [
       "<table>\n",
       "<caption>A data.frame: 6 × 59</caption>\n",
       "<thead>\n",
       "\t<tr><th scope=col>iphone</th><th scope=col>samsunggalaxy</th><th scope=col>sonyxperia</th><th scope=col>nokialumina</th><th scope=col>htcphone</th><th scope=col>ios</th><th scope=col>googleandroid</th><th scope=col>iphonecampos</th><th scope=col>samsungcampos</th><th scope=col>sonycampos</th><th scope=col>...</th><th scope=col>sonyperunc</th><th scope=col>nokiaperunc</th><th scope=col>htcperunc</th><th scope=col>iosperpos</th><th scope=col>googleperpos</th><th scope=col>iosperneg</th><th scope=col>googleperneg</th><th scope=col>iosperunc</th><th scope=col>googleperunc</th><th scope=col>galaxysentiment</th></tr>\n",
       "\t<tr><th scope=col>&lt;int&gt;</th><th scope=col>&lt;int&gt;</th><th scope=col>&lt;int&gt;</th><th scope=col>&lt;int&gt;</th><th scope=col>&lt;int&gt;</th><th scope=col>&lt;int&gt;</th><th scope=col>&lt;int&gt;</th><th scope=col>&lt;int&gt;</th><th scope=col>&lt;int&gt;</th><th scope=col>&lt;int&gt;</th><th scope=col>...</th><th scope=col>&lt;int&gt;</th><th scope=col>&lt;int&gt;</th><th scope=col>&lt;int&gt;</th><th scope=col>&lt;int&gt;</th><th scope=col>&lt;int&gt;</th><th scope=col>&lt;int&gt;</th><th scope=col>&lt;int&gt;</th><th scope=col>&lt;int&gt;</th><th scope=col>&lt;int&gt;</th><th scope=col>&lt;int&gt;</th></tr>\n",
       "</thead>\n",
       "<tbody>\n",
       "\t<tr><td>1</td><td>0</td><td>0</td><td>0</td><td>0</td><td>0</td><td>0</td><td>0</td><td>0</td><td>0</td><td>...</td><td>0</td><td>0</td><td>0</td><td>0</td><td>0</td><td>0</td><td>0</td><td>0</td><td>0</td><td>5</td></tr>\n",
       "\t<tr><td>1</td><td>0</td><td>0</td><td>0</td><td>0</td><td>0</td><td>0</td><td>0</td><td>0</td><td>0</td><td>...</td><td>0</td><td>0</td><td>0</td><td>0</td><td>0</td><td>0</td><td>0</td><td>0</td><td>0</td><td>3</td></tr>\n",
       "\t<tr><td>1</td><td>1</td><td>0</td><td>0</td><td>0</td><td>0</td><td>0</td><td>1</td><td>1</td><td>0</td><td>...</td><td>0</td><td>0</td><td>0</td><td>0</td><td>0</td><td>0</td><td>0</td><td>0</td><td>0</td><td>3</td></tr>\n",
       "\t<tr><td>0</td><td>0</td><td>0</td><td>0</td><td>1</td><td>0</td><td>0</td><td>0</td><td>0</td><td>0</td><td>...</td><td>0</td><td>0</td><td>1</td><td>0</td><td>0</td><td>0</td><td>0</td><td>0</td><td>0</td><td>0</td></tr>\n",
       "\t<tr><td>1</td><td>0</td><td>0</td><td>0</td><td>0</td><td>0</td><td>0</td><td>0</td><td>0</td><td>0</td><td>...</td><td>0</td><td>0</td><td>0</td><td>0</td><td>0</td><td>0</td><td>0</td><td>0</td><td>0</td><td>1</td></tr>\n",
       "\t<tr><td>2</td><td>0</td><td>0</td><td>0</td><td>0</td><td>0</td><td>0</td><td>1</td><td>0</td><td>0</td><td>...</td><td>0</td><td>0</td><td>0</td><td>0</td><td>0</td><td>0</td><td>0</td><td>0</td><td>0</td><td>0</td></tr>\n",
       "</tbody>\n",
       "</table>\n"
      ],
      "text/latex": [
       "A data.frame: 6 × 59\n",
       "\\begin{tabular}{r|lllllllllllllllllllllllllllllllllllllllllllllllllllllllllll}\n",
       " iphone & samsunggalaxy & sonyxperia & nokialumina & htcphone & ios & googleandroid & iphonecampos & samsungcampos & sonycampos & nokiacampos & htccampos & iphonecamneg & samsungcamneg & sonycamneg & nokiacamneg & htccamneg & iphonecamunc & samsungcamunc & sonycamunc & nokiacamunc & htccamunc & iphonedispos & samsungdispos & sonydispos & nokiadispos & htcdispos & iphonedisneg & samsungdisneg & sonydisneg & nokiadisneg & htcdisneg & iphonedisunc & samsungdisunc & sonydisunc & nokiadisunc & htcdisunc & iphoneperpos & samsungperpos & sonyperpos & nokiaperpos & htcperpos & iphoneperneg & samsungperneg & sonyperneg & nokiaperneg & htcperneg & iphoneperunc & samsungperunc & sonyperunc & nokiaperunc & htcperunc & iosperpos & googleperpos & iosperneg & googleperneg & iosperunc & googleperunc & galaxysentiment\\\\\n",
       " <int> & <int> & <int> & <int> & <int> & <int> & <int> & <int> & <int> & <int> & <int> & <int> & <int> & <int> & <int> & <int> & <int> & <int> & <int> & <int> & <int> & <int> & <int> & <int> & <int> & <int> & <int> & <int> & <int> & <int> & <int> & <int> & <int> & <int> & <int> & <int> & <int> & <int> & <int> & <int> & <int> & <int> & <int> & <int> & <int> & <int> & <int> & <int> & <int> & <int> & <int> & <int> & <int> & <int> & <int> & <int> & <int> & <int> & <int>\\\\\n",
       "\\hline\n",
       "\t 1 & 0 & 0 & 0 & 0 & 0 & 0 & 0 & 0 & 0 & 0 & 0 & 0 & 0 & 0 & 0 & 0 & 0 & 0 & 0 & 0 & 0 & 0 & 0 & 0 & 0 & 0 & 0 & 0 & 0 & 0 & 0 & 0 & 0 & 0 & 0 & 0 & 0 & 0 & 0 & 0 & 0 & 0 & 0 & 0 & 0 & 0 & 0 & 0 & 0 & 0 & 0 & 0 & 0 & 0 & 0 & 0 & 0 & 5\\\\\n",
       "\t 1 & 0 & 0 & 0 & 0 & 0 & 0 & 0 & 0 & 0 & 0 & 0 & 0 & 0 & 0 & 0 & 0 & 0 & 0 & 0 & 0 & 0 & 1 & 0 & 0 & 0 & 0 & 1 & 0 & 0 & 0 & 0 & 1 & 0 & 0 & 0 & 0 & 0 & 0 & 0 & 0 & 0 & 0 & 0 & 0 & 0 & 0 & 0 & 0 & 0 & 0 & 0 & 0 & 0 & 0 & 0 & 0 & 0 & 3\\\\\n",
       "\t 1 & 1 & 0 & 0 & 0 & 0 & 0 & 1 & 1 & 0 & 0 & 0 & 0 & 0 & 0 & 0 & 0 & 0 & 0 & 0 & 0 & 0 & 0 & 0 & 0 & 0 & 0 & 0 & 0 & 0 & 0 & 0 & 0 & 0 & 0 & 0 & 0 & 0 & 0 & 0 & 0 & 0 & 0 & 0 & 0 & 0 & 0 & 0 & 0 & 0 & 0 & 0 & 0 & 0 & 0 & 0 & 0 & 0 & 3\\\\\n",
       "\t 0 & 0 & 0 & 0 & 1 & 0 & 0 & 0 & 0 & 0 & 0 & 0 & 0 & 0 & 0 & 0 & 0 & 0 & 0 & 0 & 0 & 0 & 0 & 0 & 0 & 0 & 1 & 0 & 0 & 0 & 0 & 0 & 0 & 0 & 0 & 0 & 1 & 0 & 0 & 0 & 0 & 1 & 0 & 0 & 0 & 0 & 1 & 0 & 0 & 0 & 0 & 1 & 0 & 0 & 0 & 0 & 0 & 0 & 0\\\\\n",
       "\t 1 & 0 & 0 & 0 & 0 & 0 & 0 & 0 & 0 & 0 & 0 & 0 & 0 & 0 & 0 & 0 & 0 & 0 & 0 & 0 & 0 & 0 & 0 & 0 & 0 & 0 & 0 & 0 & 0 & 0 & 0 & 0 & 0 & 0 & 0 & 0 & 0 & 0 & 0 & 0 & 0 & 0 & 0 & 0 & 0 & 0 & 0 & 0 & 0 & 0 & 0 & 0 & 0 & 0 & 0 & 0 & 0 & 0 & 1\\\\\n",
       "\t 2 & 0 & 0 & 0 & 0 & 0 & 0 & 1 & 0 & 0 & 0 & 0 & 0 & 0 & 0 & 0 & 0 & 0 & 0 & 0 & 0 & 0 & 0 & 0 & 0 & 0 & 0 & 0 & 0 & 0 & 0 & 0 & 0 & 0 & 0 & 0 & 0 & 0 & 0 & 0 & 0 & 0 & 0 & 0 & 0 & 0 & 0 & 0 & 0 & 0 & 0 & 0 & 0 & 0 & 0 & 0 & 0 & 0 & 0\\\\\n",
       "\\end{tabular}\n"
      ],
      "text/markdown": [
       "\n",
       "A data.frame: 6 × 59\n",
       "\n",
       "| iphone &lt;int&gt; | samsunggalaxy &lt;int&gt; | sonyxperia &lt;int&gt; | nokialumina &lt;int&gt; | htcphone &lt;int&gt; | ios &lt;int&gt; | googleandroid &lt;int&gt; | iphonecampos &lt;int&gt; | samsungcampos &lt;int&gt; | sonycampos &lt;int&gt; | ... ... | sonyperunc &lt;int&gt; | nokiaperunc &lt;int&gt; | htcperunc &lt;int&gt; | iosperpos &lt;int&gt; | googleperpos &lt;int&gt; | iosperneg &lt;int&gt; | googleperneg &lt;int&gt; | iosperunc &lt;int&gt; | googleperunc &lt;int&gt; | galaxysentiment &lt;int&gt; |\n",
       "|---|---|---|---|---|---|---|---|---|---|---|---|---|---|---|---|---|---|---|---|---|\n",
       "| 1 | 0 | 0 | 0 | 0 | 0 | 0 | 0 | 0 | 0 | ... | 0 | 0 | 0 | 0 | 0 | 0 | 0 | 0 | 0 | 5 |\n",
       "| 1 | 0 | 0 | 0 | 0 | 0 | 0 | 0 | 0 | 0 | ... | 0 | 0 | 0 | 0 | 0 | 0 | 0 | 0 | 0 | 3 |\n",
       "| 1 | 1 | 0 | 0 | 0 | 0 | 0 | 1 | 1 | 0 | ... | 0 | 0 | 0 | 0 | 0 | 0 | 0 | 0 | 0 | 3 |\n",
       "| 0 | 0 | 0 | 0 | 1 | 0 | 0 | 0 | 0 | 0 | ... | 0 | 0 | 1 | 0 | 0 | 0 | 0 | 0 | 0 | 0 |\n",
       "| 1 | 0 | 0 | 0 | 0 | 0 | 0 | 0 | 0 | 0 | ... | 0 | 0 | 0 | 0 | 0 | 0 | 0 | 0 | 0 | 1 |\n",
       "| 2 | 0 | 0 | 0 | 0 | 0 | 0 | 1 | 0 | 0 | ... | 0 | 0 | 0 | 0 | 0 | 0 | 0 | 0 | 0 | 0 |\n",
       "\n"
      ],
      "text/plain": [
       "  iphone samsunggalaxy sonyxperia nokialumina htcphone ios googleandroid\n",
       "1 1      0             0          0           0        0   0            \n",
       "2 1      0             0          0           0        0   0            \n",
       "3 1      1             0          0           0        0   0            \n",
       "4 0      0             0          0           1        0   0            \n",
       "5 1      0             0          0           0        0   0            \n",
       "6 2      0             0          0           0        0   0            \n",
       "  iphonecampos samsungcampos sonycampos ... sonyperunc nokiaperunc htcperunc\n",
       "1 0            0             0          ... 0          0           0        \n",
       "2 0            0             0          ... 0          0           0        \n",
       "3 1            1             0          ... 0          0           0        \n",
       "4 0            0             0          ... 0          0           1        \n",
       "5 0            0             0          ... 0          0           0        \n",
       "6 1            0             0          ... 0          0           0        \n",
       "  iosperpos googleperpos iosperneg googleperneg iosperunc googleperunc\n",
       "1 0         0            0         0            0         0           \n",
       "2 0         0            0         0            0         0           \n",
       "3 0         0            0         0            0         0           \n",
       "4 0         0            0         0            0         0           \n",
       "5 0         0            0         0            0         0           \n",
       "6 0         0            0         0            0         0           \n",
       "  galaxysentiment\n",
       "1 5              \n",
       "2 3              \n",
       "3 3              \n",
       "4 0              \n",
       "5 1              \n",
       "6 0              "
      ]
     },
     "metadata": {},
     "output_type": "display_data"
    }
   ],
   "source": [
    "head(samsung)"
   ]
  },
  {
   "cell_type": "code",
   "execution_count": 9,
   "metadata": {},
   "outputs": [],
   "source": [
    "samsung$galaxysentiment <- as.factor(samsung$galaxysentiment)\n",
    "\n",
    "# str(iphone)"
   ]
  },
  {
   "cell_type": "code",
   "execution_count": 10,
   "metadata": {},
   "outputs": [],
   "source": [
    "# summary(samsung)"
   ]
  },
  {
   "cell_type": "code",
   "execution_count": 11,
   "metadata": {},
   "outputs": [
    {
     "data": {
      "text/html": [
       "0"
      ],
      "text/latex": [
       "0"
      ],
      "text/markdown": [
       "0"
      ],
      "text/plain": [
       "[1] 0"
      ]
     },
     "metadata": {},
     "output_type": "display_data"
    }
   ],
   "source": [
    "sum(is.na(samsung))"
   ]
  },
  {
   "cell_type": "code",
   "execution_count": 12,
   "metadata": {},
   "outputs": [],
   "source": [
    "# p <- plot_ly(iphone, x= ~iphone['iphonesentiment'], type='histogram')\n",
    "\n",
    "# embed_notebook(p)\n",
    "\n",
    "# hist(iphone$iphonesentiment,  breaks = 8, xlim = c(0,6), main = 'Sendiments distribution', col=\"chocolate\")"
   ]
  },
  {
   "cell_type": "code",
   "execution_count": 13,
   "metadata": {},
   "outputs": [
    {
     "name": "stdout",
     "output_type": "stream",
     "text": [
      "'data.frame':\t12911 obs. of  45 variables:\n",
      " $ samsunggalaxy  : int  0 0 1 0 0 0 0 0 0 0 ...\n",
      " $ sonyxperia     : int  0 0 0 0 0 0 0 0 0 0 ...\n",
      " $ nokialumina    : int  0 0 0 0 0 0 0 0 0 0 ...\n",
      " $ ios            : int  0 0 0 0 0 0 0 0 0 0 ...\n",
      " $ googleandroid  : int  0 0 0 0 0 0 0 0 0 0 ...\n",
      " $ iphonecampos   : int  0 0 1 0 0 1 0 0 0 0 ...\n",
      " $ samsungcampos  : int  0 0 1 0 0 0 0 0 0 0 ...\n",
      " $ sonycampos     : int  0 0 0 0 0 0 0 0 0 0 ...\n",
      " $ htccampos      : int  0 0 0 0 0 0 0 0 0 0 ...\n",
      " $ iphonecamneg   : int  0 0 0 0 0 0 0 0 0 0 ...\n",
      " $ samsungcamneg  : int  0 0 0 0 0 0 0 0 0 0 ...\n",
      " $ sonycamneg     : int  0 0 0 0 0 0 0 0 0 0 ...\n",
      " $ nokiacamneg    : int  0 0 0 0 0 0 0 0 0 0 ...\n",
      " $ htccamneg      : int  0 0 0 0 0 0 0 0 0 0 ...\n",
      " $ iphonecamunc   : int  0 0 0 0 0 0 0 0 0 0 ...\n",
      " $ samsungcamunc  : int  0 0 0 0 0 0 0 0 0 0 ...\n",
      " $ sonycamunc     : int  0 0 0 0 0 0 0 0 0 0 ...\n",
      " $ htccamunc      : int  0 0 0 0 0 0 0 0 0 0 ...\n",
      " $ iphonedispos   : int  0 1 0 0 0 0 2 0 0 0 ...\n",
      " $ htcdispos      : int  0 0 0 1 0 0 0 0 0 0 ...\n",
      " $ iphonedisneg   : int  0 1 0 0 0 0 0 0 0 0 ...\n",
      " $ sonydisneg     : int  0 0 0 0 0 0 0 0 0 0 ...\n",
      " $ nokiadisneg    : int  0 0 0 0 0 0 0 0 0 0 ...\n",
      " $ htcdisneg      : int  0 0 0 0 0 0 0 0 0 0 ...\n",
      " $ iphonedisunc   : int  0 1 0 0 0 0 0 0 0 0 ...\n",
      " $ sonydisunc     : int  0 0 0 0 0 0 0 0 0 0 ...\n",
      " $ htcdisunc      : int  0 0 0 1 0 0 0 0 0 0 ...\n",
      " $ iphoneperpos   : int  0 0 0 0 0 0 0 0 0 0 ...\n",
      " $ samsungperpos  : int  0 0 0 0 0 0 0 0 0 0 ...\n",
      " $ sonyperpos     : int  0 0 0 0 0 0 0 0 0 0 ...\n",
      " $ htcperpos      : int  0 0 0 1 0 0 0 0 0 0 ...\n",
      " $ iphoneperneg   : int  0 0 0 0 0 0 0 0 0 0 ...\n",
      " $ samsungperneg  : int  0 0 0 0 0 0 0 0 0 0 ...\n",
      " $ sonyperneg     : int  0 0 0 0 0 0 0 0 0 0 ...\n",
      " $ htcperneg      : int  0 0 0 1 0 0 0 0 0 0 ...\n",
      " $ iphoneperunc   : int  0 0 0 0 0 0 0 0 0 0 ...\n",
      " $ samsungperunc  : int  0 0 0 0 0 0 0 0 0 0 ...\n",
      " $ sonyperunc     : int  0 0 0 0 0 0 0 0 0 0 ...\n",
      " $ nokiaperunc    : int  0 0 0 0 0 0 0 0 0 0 ...\n",
      " $ htcperunc      : int  0 0 0 1 0 0 0 0 0 0 ...\n",
      " $ iosperneg      : int  0 0 0 0 0 0 0 0 0 0 ...\n",
      " $ googleperneg   : int  0 0 0 0 0 0 0 0 0 0 ...\n",
      " $ iosperunc      : int  0 0 0 0 0 0 0 0 0 0 ...\n",
      " $ googleperunc   : int  0 0 0 0 0 0 0 0 0 0 ...\n",
      " $ galaxysentiment: Factor w/ 6 levels \"0\",\"1\",\"2\",\"3\",..: 6 4 4 1 2 1 4 6 6 6 ...\n"
     ]
    },
    {
     "data": {
      "image/png": "[encoded data removed]",
      "text/plain": [
       "Plot with title \"\""
      ]
     },
     "metadata": {
      "image/png": {
       "height": 420,
       "width": 420
      },
      "text/plain": {
       "height": 420,
       "width": 420
      }
     },
     "output_type": "display_data"
    }
   ],
   "source": [
    "# Feature selection. Remove highly correlated (>0.9) independent variables\n",
    "\n",
    "smsng_tmp <- samsung[, 1:(ncol(samsung)-1)]\n",
    "\n",
    "tmp <- cor(samsung[, 1:(ncol(samsung)-1)])\n",
    "\n",
    "tmp[upper.tri(tmp)] <- 0\n",
    "\n",
    "diag(tmp) <- 0\n",
    "\n",
    "samsung.f_corr <- smsng_tmp[,!apply(tmp,2,function(x) any(x >= 0.90))]\n",
    "\n",
    "corrplot(cor(samsung.f_corr))\n",
    "\n",
    "\n",
    "samsung.f_corr$galaxysentiment <- samsung$galaxysentiment\n",
    "                                \n",
    "str(samsung.f_corr)\n",
    "                                \n",
    "# number of variables shortened from 58 to 45"
   ]
  },
  {
   "cell_type": "code",
   "execution_count": 14,
   "metadata": {},
   "outputs": [
    {
     "name": "stdout",
     "output_type": "stream",
     "text": [
      "'data.frame':\t12911 obs. of  59 variables:\n",
      " $ iphone         : int  1 1 1 0 1 2 1 1 4 1 ...\n",
      " $ samsunggalaxy  : int  0 0 1 0 0 0 0 0 0 0 ...\n",
      " $ sonyxperia     : int  0 0 0 0 0 0 0 0 0 0 ...\n",
      " $ nokialumina    : int  0 0 0 0 0 0 0 0 0 0 ...\n",
      " $ htcphone       : int  0 0 0 1 0 0 0 0 0 0 ...\n",
      " $ ios            : int  0 0 0 0 0 0 0 0 0 0 ...\n",
      " $ googleandroid  : int  0 0 0 0 0 0 0 0 0 0 ...\n",
      " $ iphonecampos   : int  0 0 1 0 0 1 0 0 0 0 ...\n",
      " $ samsungcampos  : int  0 0 1 0 0 0 0 0 0 0 ...\n",
      " $ sonycampos     : int  0 0 0 0 0 0 0 0 0 0 ...\n",
      " $ nokiacampos    : int  0 0 0 0 0 0 0 0 0 0 ...\n",
      " $ htccampos      : int  0 0 0 0 0 0 0 0 0 0 ...\n",
      " $ iphonecamneg   : int  0 0 0 0 0 0 0 0 0 0 ...\n",
      " $ samsungcamneg  : int  0 0 0 0 0 0 0 0 0 0 ...\n",
      " $ sonycamneg     : int  0 0 0 0 0 0 0 0 0 0 ...\n",
      " $ nokiacamneg    : int  0 0 0 0 0 0 0 0 0 0 ...\n",
      " $ htccamneg      : int  0 0 0 0 0 0 0 0 0 0 ...\n",
      " $ iphonecamunc   : int  0 0 0 0 0 0 0 0 0 0 ...\n",
      " $ samsungcamunc  : int  0 0 0 0 0 0 0 0 0 0 ...\n",
      " $ sonycamunc     : int  0 0 0 0 0 0 0 0 0 0 ...\n",
      " $ nokiacamunc    : int  0 0 0 0 0 0 0 0 0 0 ...\n",
      " $ htccamunc      : int  0 0 0 0 0 0 0 0 0 0 ...\n",
      " $ iphonedispos   : int  0 1 0 0 0 0 2 0 0 0 ...\n",
      " $ samsungdispos  : int  0 0 0 0 0 0 0 0 0 0 ...\n",
      " $ sonydispos     : int  0 0 0 0 0 0 0 0 0 0 ...\n",
      " $ nokiadispos    : int  0 0 0 0 0 0 0 0 0 0 ...\n",
      " $ htcdispos      : int  0 0 0 1 0 0 0 0 0 0 ...\n",
      " $ iphonedisneg   : int  0 1 0 0 0 0 0 0 0 0 ...\n",
      " $ samsungdisneg  : int  0 0 0 0 0 0 0 0 0 0 ...\n",
      " $ sonydisneg     : int  0 0 0 0 0 0 0 0 0 0 ...\n",
      " $ nokiadisneg    : int  0 0 0 0 0 0 0 0 0 0 ...\n",
      " $ htcdisneg      : int  0 0 0 0 0 0 0 0 0 0 ...\n",
      " $ iphonedisunc   : int  0 1 0 0 0 0 0 0 0 0 ...\n",
      " $ samsungdisunc  : int  0 0 0 0 0 0 0 0 0 0 ...\n",
      " $ sonydisunc     : int  0 0 0 0 0 0 0 0 0 0 ...\n",
      " $ nokiadisunc    : int  0 0 0 0 0 0 0 0 0 0 ...\n",
      " $ htcdisunc      : int  0 0 0 1 0 0 0 0 0 0 ...\n",
      " $ iphoneperpos   : int  0 0 0 0 0 0 0 0 0 0 ...\n",
      " $ samsungperpos  : int  0 0 0 0 0 0 0 0 0 0 ...\n",
      " $ sonyperpos     : int  0 0 0 0 0 0 0 0 0 0 ...\n",
      " $ nokiaperpos    : int  0 0 0 0 0 0 0 0 0 0 ...\n",
      " $ htcperpos      : int  0 0 0 1 0 0 0 0 0 0 ...\n",
      " $ iphoneperneg   : int  0 0 0 0 0 0 0 0 0 0 ...\n",
      " $ samsungperneg  : int  0 0 0 0 0 0 0 0 0 0 ...\n",
      " $ sonyperneg     : int  0 0 0 0 0 0 0 0 0 0 ...\n",
      " $ nokiaperneg    : int  0 0 0 0 0 0 0 0 0 0 ...\n",
      " $ htcperneg      : int  0 0 0 1 0 0 0 0 0 0 ...\n",
      " $ iphoneperunc   : int  0 0 0 0 0 0 0 0 0 0 ...\n",
      " $ samsungperunc  : int  0 0 0 0 0 0 0 0 0 0 ...\n",
      " $ sonyperunc     : int  0 0 0 0 0 0 0 0 0 0 ...\n",
      " $ nokiaperunc    : int  0 0 0 0 0 0 0 0 0 0 ...\n",
      " $ htcperunc      : int  0 0 0 1 0 0 0 0 0 0 ...\n",
      " $ iosperpos      : int  0 0 0 0 0 0 0 0 0 0 ...\n",
      " $ googleperpos   : int  0 0 0 0 0 0 0 0 0 0 ...\n",
      " $ iosperneg      : int  0 0 0 0 0 0 0 0 0 0 ...\n",
      " $ googleperneg   : int  0 0 0 0 0 0 0 0 0 0 ...\n",
      " $ iosperunc      : int  0 0 0 0 0 0 0 0 0 0 ...\n",
      " $ googleperunc   : int  0 0 0 0 0 0 0 0 0 0 ...\n",
      " $ galaxysentiment: Factor w/ 6 levels \"0\",\"1\",\"2\",\"3\",..: 6 4 4 1 2 1 4 6 6 6 ...\n"
     ]
    }
   ],
   "source": [
    "# Feature selection. Remove zero variance columns\n",
    "\n",
    "samsung.f_zv <- samsung[ , apply(samsung, 2, var) != 0]\n",
    "\n",
    "\n",
    "str(samsung.f_zv)\n",
    "# number of variables kept the same"
   ]
  },
  {
   "cell_type": "code",
   "execution_count": 15,
   "metadata": {},
   "outputs": [
    {
     "data": {
      "text/plain": [
       "\n",
       "Recursive feature selection\n",
       "\n",
       "Outer resampling method: Cross-Validated (10 fold, repeated 5 times) \n",
       "\n",
       "Resampling performance over subset size:\n",
       "\n",
       " Variables Accuracy  Kappa AccuracySD KappaSD Selected\n",
       "         1   0.7101 0.3143    0.02253 0.06148         \n",
       "         2   0.7127 0.3265    0.02045 0.05709         \n",
       "         3   0.7201 0.3588    0.02269 0.06324         \n",
       "         4   0.7322 0.3923    0.02661 0.07448         \n",
       "         5   0.7372 0.4040    0.02825 0.07848         \n",
       "         6   0.7371 0.4050    0.02872 0.07912         \n",
       "         7   0.7370 0.4052    0.02910 0.07966         \n",
       "         8   0.7367 0.4061    0.02872 0.07845         \n",
       "         9   0.7446 0.4407    0.02986 0.07525         \n",
       "        10   0.7468 0.4471    0.03158 0.07859         \n",
       "        11   0.7465 0.4470    0.03155 0.07870         \n",
       "        12   0.7458 0.4451    0.03127 0.07794         \n",
       "        13   0.7461 0.4447    0.03240 0.07829         \n",
       "        14   0.7465 0.4466    0.03092 0.07673         \n",
       "        15   0.7481 0.4482    0.03142 0.07885         \n",
       "        16   0.7481 0.4555    0.03234 0.07729         \n",
       "        17   0.7493 0.4569    0.03092 0.07563         \n",
       "        18   0.7505 0.4592    0.03053 0.07291        *\n",
       "        19   0.7491 0.4557    0.03137 0.07533         \n",
       "        20   0.7491 0.4531    0.03061 0.07454         \n",
       "        21   0.7495 0.4536    0.03033 0.07515         \n",
       "        22   0.7485 0.4494    0.02945 0.07352         \n",
       "        23   0.7447 0.4387    0.02895 0.07277         \n",
       "        24   0.7445 0.4367    0.02918 0.07450         \n",
       "        25   0.7497 0.4542    0.03145 0.07741         \n",
       "        26   0.7491 0.4516    0.03005 0.07523         \n",
       "        27   0.7473 0.4465    0.03002 0.07533         \n",
       "        28   0.7477 0.4461    0.02933 0.07454         \n",
       "        29   0.7463 0.4410    0.02895 0.07385         \n",
       "        30   0.7455 0.4386    0.02875 0.07447         \n",
       "        31   0.7455 0.4373    0.02792 0.07253         \n",
       "        32   0.7439 0.4326    0.02867 0.07389         \n",
       "        33   0.7433 0.4308    0.02856 0.07353         \n",
       "        34   0.7433 0.4300    0.02885 0.07426         \n",
       "        35   0.7429 0.4289    0.02814 0.07288         \n",
       "        36   0.7451 0.4373    0.02898 0.07531         \n",
       "        37   0.7459 0.4383    0.02951 0.07626         \n",
       "        38   0.7445 0.4352    0.02895 0.07605         \n",
       "        39   0.7449 0.4353    0.02933 0.07575         \n",
       "        40   0.7437 0.4316    0.02942 0.07575         \n",
       "        41   0.7433 0.4308    0.02892 0.07396         \n",
       "        42   0.7435 0.4309    0.02886 0.07433         \n",
       "        43   0.7435 0.4305    0.02877 0.07398         \n",
       "        44   0.7431 0.4299    0.02836 0.07322         \n",
       "        45   0.7435 0.4303    0.02870 0.07375         \n",
       "        46   0.7435 0.4302    0.02864 0.07428         \n",
       "        47   0.7433 0.4296    0.02839 0.07273         \n",
       "        48   0.7437 0.4301    0.02879 0.07463         \n",
       "        49   0.7431 0.4296    0.02962 0.07575         \n",
       "        50   0.7423 0.4282    0.02928 0.07513         \n",
       "        51   0.7427 0.4289    0.02999 0.07672         \n",
       "        52   0.7427 0.4289    0.02925 0.07506         \n",
       "        53   0.7429 0.4292    0.03007 0.07691         \n",
       "        54   0.7431 0.4290    0.02923 0.07451         \n",
       "        55   0.7429 0.4289    0.02919 0.07520         \n",
       "        56   0.7433 0.4296    0.02872 0.07394         \n",
       "        57   0.7433 0.4296    0.02906 0.07497         \n",
       "        58   0.7413 0.4244    0.02832 0.07378         \n",
       "\n",
       "The top 5 variables (out of 18):\n",
       "   iphone, samsunggalaxy, googleandroid, htcphone, iphonedisunc\n"
      ]
     },
     "metadata": {},
     "output_type": "display_data"
    },
    {
     "data": {
      "image/png": "[encoded data removed]",
      "text/plain": [
       "plot without title"
      ]
     },
     "metadata": {
      "image/png": {
       "height": 420,
       "width": 420
      },
      "text/plain": {
       "height": 420,
       "width": 420
      }
     },
     "output_type": "display_data"
    }
   ],
   "source": [
    "# Feature selection. Recursive Feature Elimination\n",
    "\n",
    "set.seed(123)\n",
    "samsungSample <- samsung[sample(1:nrow(samsung), 1000, replace=FALSE),]\n",
    "\n",
    "# Set up rfeControl with randomforest, repeated cross validation and no updates\n",
    "ctrl <- rfeControl(functions = rfFuncs, \n",
    "                   method = \"repeatedcv\",\n",
    "                   repeats = 5,\n",
    "                   verbose = FALSE)\n",
    "\n",
    "# Use rfe and omit the response variable (attribute 59 iphonesentiment) \n",
    "rfeResults <- rfe(samsungSample[,1:(ncol(samsung)-1)], \n",
    "                  samsungSample$galaxysentiment, \n",
    "                  sizes=(1:(ncol(samsung)-1)), \n",
    "                  rfeControl=ctrl)\n",
    "\n",
    "# Get results\n",
    "rfeResults\n",
    "\n",
    "# Plot results\n",
    "plot(rfeResults, type=c(\"g\", \"o\"))"
   ]
  },
  {
   "cell_type": "code",
   "execution_count": 16,
   "metadata": {},
   "outputs": [
    {
     "name": "stdout",
     "output_type": "stream",
     "text": [
      "'data.frame':\t12911 obs. of  19 variables:\n",
      " $ iphone         : int  1 1 1 0 1 2 1 1 4 1 ...\n",
      " $ samsunggalaxy  : int  0 0 1 0 0 0 0 0 0 0 ...\n",
      " $ googleandroid  : int  0 0 0 0 0 0 0 0 0 0 ...\n",
      " $ htcphone       : int  0 0 0 1 0 0 0 0 0 0 ...\n",
      " $ iphonedisunc   : int  0 1 0 0 0 0 0 0 0 0 ...\n",
      " $ sonyxperia     : int  0 0 0 0 0 0 0 0 0 0 ...\n",
      " $ iphonedispos   : int  0 1 0 0 0 0 2 0 0 0 ...\n",
      " $ iphoneperpos   : int  0 0 0 0 0 0 0 0 0 0 ...\n",
      " $ ios            : int  0 0 0 0 0 0 0 0 0 0 ...\n",
      " $ iphoneperneg   : int  0 0 0 0 0 0 0 0 0 0 ...\n",
      " $ htcdispos      : int  0 0 0 1 0 0 0 0 0 0 ...\n",
      " $ iphonecampos   : int  0 0 1 0 0 1 0 0 0 0 ...\n",
      " $ iphonedisneg   : int  0 1 0 0 0 0 0 0 0 0 ...\n",
      " $ iphonecamunc   : int  0 0 0 0 0 0 0 0 0 0 ...\n",
      " $ iphoneperunc   : int  0 0 0 0 0 0 0 0 0 0 ...\n",
      " $ htccampos      : int  0 0 0 0 0 0 0 0 0 0 ...\n",
      " $ htcperpos      : int  0 0 0 1 0 0 0 0 0 0 ...\n",
      " $ htcperneg      : int  0 0 0 1 0 0 0 0 0 0 ...\n",
      " $ galaxysentiment: Factor w/ 6 levels \"0\",\"1\",\"2\",\"3\",..: 6 4 4 1 2 1 4 6 6 6 ...\n"
     ]
    }
   ],
   "source": [
    "# create new data set with rfe recommended features\n",
    "samsungRFE <- samsung[,predictors(rfeResults)]\n",
    "\n",
    "# add the dependent variable to iphoneRFE\n",
    "samsungRFE$galaxysentiment <- samsung$galaxysentiment\n",
    "\n",
    "# review outcome\n",
    "str(samsungRFE)"
   ]
  },
  {
   "cell_type": "markdown",
   "metadata": {},
   "source": [
    "<b>Modeling</b>"
   ]
  },
  {
   "cell_type": "code",
   "execution_count": 17,
   "metadata": {},
   "outputs": [],
   "source": [
    "partition <- createDataPartition(samsung$galaxysentiment, p = .70, list = FALSE)\n",
    "training <- samsung[partition,]\n",
    "testing <- samsung[-partition,]"
   ]
  },
  {
   "cell_type": "code",
   "execution_count": 18,
   "metadata": {},
   "outputs": [],
   "source": [
    "# Set 5 folds for cross-validation\n",
    "\n",
    "fitControl0 <- trainControl(method = \"repeatedcv\", number = 5, repeats = 1)"
   ]
  },
  {
   "cell_type": "code",
   "execution_count": 19,
   "metadata": {},
   "outputs": [
    {
     "data": {
      "text/html": [
       "<dl class=dl-horizontal>\n",
       "\t<dt>Accuracy</dt>\n",
       "\t\t<dd>0.764401963316972</dd>\n",
       "\t<dt>Kappa</dt>\n",
       "\t\t<dd>0.526202801486152</dd>\n",
       "</dl>\n"
      ],
      "text/latex": [
       "\\begin{description*}\n",
       "\\item[Accuracy] 0.764401963316972\n",
       "\\item[Kappa] 0.526202801486152\n",
       "\\end{description*}\n"
      ],
      "text/markdown": [
       "Accuracy\n",
       ":   0.764401963316972Kappa\n",
       ":   0.526202801486152\n",
       "\n"
      ],
      "text/plain": [
       " Accuracy     Kappa \n",
       "0.7644020 0.5262028 "
      ]
     },
     "metadata": {},
     "output_type": "display_data"
    }
   ],
   "source": [
    "# Train C5.0 model\n",
    "\n",
    "C5Fit <- train(galaxysentiment~., data = training, method = \"C5.0\", metric = 'Kappa', trControl=fitControl0, tuneLength = 1)\n",
    "\n",
    "C5Pred <- predict(C5Fit, testing)\n",
    "\n",
    "postResample(C5Pred, testing$galaxysentiment)"
   ]
  },
  {
   "cell_type": "code",
   "execution_count": 20,
   "metadata": {},
   "outputs": [
    {
     "data": {
      "text/html": [
       "<dl class=dl-horizontal>\n",
       "\t<dt>Accuracy</dt>\n",
       "\t\t<dd>0.767760268664428</dd>\n",
       "\t<dt>Kappa</dt>\n",
       "\t\t<dd>0.532174183543208</dd>\n",
       "</dl>\n"
      ],
      "text/latex": [
       "\\begin{description*}\n",
       "\\item[Accuracy] 0.767760268664428\n",
       "\\item[Kappa] 0.532174183543208\n",
       "\\end{description*}\n"
      ],
      "text/markdown": [
       "Accuracy\n",
       ":   0.767760268664428Kappa\n",
       ":   0.532174183543208\n",
       "\n"
      ],
      "text/plain": [
       " Accuracy     Kappa \n",
       "0.7677603 0.5321742 "
      ]
     },
     "metadata": {},
     "output_type": "display_data"
    }
   ],
   "source": [
    "# Train Random Forest model\n",
    "\n",
    "rfFit <- train(galaxysentiment~., data = training, method = \"rf\", metric = 'Kappa', trControl=fitControl0, tuneLength = 1)\n",
    "\n",
    "rfPred <- predict(rfFit, testing)\n",
    "\n",
    "postResample(rfPred, testing$galaxysentiment)"
   ]
  },
  {
   "cell_type": "code",
   "execution_count": 21,
   "metadata": {},
   "outputs": [
    {
     "data": {
      "text/html": [
       "<dl class=dl-horizontal>\n",
       "\t<dt>Accuracy</dt>\n",
       "\t\t<dd>0.700852492895893</dd>\n",
       "\t<dt>Kappa</dt>\n",
       "\t\t<dd>0.361338343139423</dd>\n",
       "</dl>\n"
      ],
      "text/latex": [
       "\\begin{description*}\n",
       "\\item[Accuracy] 0.700852492895893\n",
       "\\item[Kappa] 0.361338343139423\n",
       "\\end{description*}\n"
      ],
      "text/markdown": [
       "Accuracy\n",
       ":   0.700852492895893Kappa\n",
       ":   0.361338343139423\n",
       "\n"
      ],
      "text/plain": [
       " Accuracy     Kappa \n",
       "0.7008525 0.3613383 "
      ]
     },
     "metadata": {},
     "output_type": "display_data"
    }
   ],
   "source": [
    "# Train Linear Support Vector Machines\n",
    "library('e1071')\n",
    "\n",
    "\n",
    "svmFit <- svm(galaxysentiment~., data = training, kernel =\n",
    "\"linear\", metric = 'Kappa', scale = TRUE, trControl=fitControl0, tuneLength = 1)\n",
    "\n",
    "svmPred <- predict(svmFit, testing)\n",
    "\n",
    "postResample(svmPred, testing$galaxysentiment)"
   ]
  },
  {
   "cell_type": "code",
   "execution_count": 22,
   "metadata": {},
   "outputs": [
    {
     "data": {
      "text/html": [
       "<dl class=dl-horizontal>\n",
       "\t<dt>Accuracy</dt>\n",
       "\t\t<dd>0.688710927408938</dd>\n",
       "\t<dt>Kappa</dt>\n",
       "\t\t<dd>0.437959036378303</dd>\n",
       "</dl>\n"
      ],
      "text/latex": [
       "\\begin{description*}\n",
       "\\item[Accuracy] 0.688710927408938\n",
       "\\item[Kappa] 0.437959036378303\n",
       "\\end{description*}\n"
      ],
      "text/markdown": [
       "Accuracy\n",
       ":   0.688710927408938Kappa\n",
       ":   0.437959036378303\n",
       "\n"
      ],
      "text/plain": [
       " Accuracy     Kappa \n",
       "0.6887109 0.4379590 "
      ]
     },
     "metadata": {},
     "output_type": "display_data"
    }
   ],
   "source": [
    "# Train k-NN\n",
    "# install.packages('kknn')\n",
    "\n",
    "kknnFit <- train(galaxysentiment~., data = training, method = \"kknn\", preProcess = c(\"center\", \"scale\"), metric = 'Kappa', trControl=fitControl0, tuneLength = 1)\n",
    "\n",
    "kknnPred <- predict(kknnFit, testing)\n",
    "\n",
    "postResample(kknnPred, testing$galaxysentiment)"
   ]
  },
  {
   "cell_type": "code",
   "execution_count": 23,
   "metadata": {},
   "outputs": [],
   "source": [
    "# library('catboost')\n",
    "\n",
    "# labels <- as.numeric(training$iphonesentiment)\n",
    "\n",
    "# labels_test <- as.numeric(testing$iphonesentiment)\n",
    "\n",
    "# cat_training <- training[, 1:(ncol(training)-1)]\n",
    "# cat_training <- sapply(cat_training, as.numeric)\n",
    "\n",
    "# cat_testing <- testing[, 1:(ncol(training)-1)]\n",
    "# cat_testing <- sapply(cat_testing, as.numeric)\n",
    "\n",
    "\n",
    "# fit_params <- list(iterations = 5000,\n",
    "#                    loss_function = 'CrossEntropy',\n",
    "#                   eval_metric = 'Kappa',\n",
    "#                   task_type = 'CPU',\n",
    "#                   random_seed = 123)\n",
    "\n",
    "# train_pool <- catboost.load_pool(cat_training, label = labels)\n",
    "\n",
    "# test_pool <- catboost.load_pool(cat_testing, label = labels_test)\n",
    "\n",
    "# # catFit <- catboost.train(train_pool, params = fit_params)\n",
    "\n",
    "# catFit <- catboost.train(train_pool, test_pool, params = fit_params)\n",
    "\n",
    "# catPred <- catboost.predict(catFit, \n",
    "#                  test_pool)\n",
    "\n",
    "# postResample(catPred, labels_test)"
   ]
  },
  {
   "cell_type": "code",
   "execution_count": 24,
   "metadata": {},
   "outputs": [],
   "source": [
    "# catPred <- catboost.predict(catFit, \n",
    "#                  test_pool)"
   ]
  },
  {
   "cell_type": "markdown",
   "metadata": {},
   "source": [
    "The best \"out-of-the-box\" model is Random Forest. Let's apply it to feature selected datasets"
   ]
  },
  {
   "cell_type": "code",
   "execution_count": 25,
   "metadata": {},
   "outputs": [
    {
     "data": {
      "text/html": [
       "<dl class=dl-horizontal>\n",
       "\t<dt>Accuracy</dt>\n",
       "\t\t<dd>0.735727202273314</dd>\n",
       "\t<dt>Kappa</dt>\n",
       "\t\t<dd>0.467087045357378</dd>\n",
       "</dl>\n"
      ],
      "text/latex": [
       "\\begin{description*}\n",
       "\\item[Accuracy] 0.735727202273314\n",
       "\\item[Kappa] 0.467087045357378\n",
       "\\end{description*}\n"
      ],
      "text/markdown": [
       "Accuracy\n",
       ":   0.735727202273314Kappa\n",
       ":   0.467087045357378\n",
       "\n"
      ],
      "text/plain": [
       " Accuracy     Kappa \n",
       "0.7357272 0.4670870 "
      ]
     },
     "metadata": {},
     "output_type": "display_data"
    }
   ],
   "source": [
    "# Apply to a dataset where highly correlated variables are dropped\n",
    "\n",
    "partition_fcorr <- createDataPartition(samsung.f_corr$galaxysentiment, p = .70, list = FALSE)\n",
    "\n",
    "training_fcorr <- samsung.f_corr[partition_fcorr,]\n",
    "testing_fcorr <- samsung.f_corr[-partition_fcorr,]\n",
    "\n",
    "# Train Random Forest model\n",
    "\n",
    "rfcFit <- train(galaxysentiment~., data = training_fcorr, method = \"rf\", metric = 'Kappa', trControl=fitControl0, tuneLength = 1)\n",
    "\n",
    "rfcPred <- predict(rfcFit, testing_fcorr)\n",
    "\n",
    "postResample(rfcPred, testing_fcorr$galaxysentiment)"
   ]
  },
  {
   "cell_type": "code",
   "execution_count": 26,
   "metadata": {},
   "outputs": [
    {
     "data": {
      "text/html": [
       "<dl class=dl-horizontal>\n",
       "\t<dt>Accuracy</dt>\n",
       "\t\t<dd>0.757943683802635</dd>\n",
       "\t<dt>Kappa</dt>\n",
       "\t\t<dd>0.513844687729532</dd>\n",
       "</dl>\n"
      ],
      "text/latex": [
       "\\begin{description*}\n",
       "\\item[Accuracy] 0.757943683802635\n",
       "\\item[Kappa] 0.513844687729532\n",
       "\\end{description*}\n"
      ],
      "text/markdown": [
       "Accuracy\n",
       ":   0.757943683802635Kappa\n",
       ":   0.513844687729532\n",
       "\n"
      ],
      "text/plain": [
       " Accuracy     Kappa \n",
       "0.7579437 0.5138447 "
      ]
     },
     "metadata": {},
     "output_type": "display_data"
    }
   ],
   "source": [
    "# Apply to a dataset where variables are those selected by Recursive Feature Elimination\n",
    "\n",
    "partition_rfe <- createDataPartition(samsungRFE$galaxysentiment, p = .70, list = FALSE)\n",
    "\n",
    "training_rfe <- samsungRFE[partition_rfe,]\n",
    "testing_rfe <- samsungRFE[-partition_rfe,]\n",
    "\n",
    "# Train Random Forest model\n",
    "\n",
    "rfeFit <- train(galaxysentiment~., data = training_rfe, method = \"rf\", metric = 'Kappa', trControl=fitControl0, tuneLength = 1)\n",
    "\n",
    "rfePred <- predict(rfeFit, testing_rfe)\n",
    "\n",
    "postResample(rfePred, testing_rfe$galaxysentiment)"
   ]
  },
  {
   "cell_type": "code",
   "execution_count": 49,
   "metadata": {},
   "outputs": [
    {
     "data": {
      "text/plain": [
       "\n",
       "Call:\n",
       "summary.resamples(object = modeldata)\n",
       "\n",
       "Models: C50, kNN, RF_base, RF_corr, RF_rfe \n",
       "Number of resamples: 5 \n",
       "\n",
       "Accuracy \n",
       "             Min.   1st Qu.    Median      Mean   3rd Qu.      Max. NA's\n",
       "C50     0.7595357 0.7631433 0.7668882 0.7650443 0.7671460 0.7685083    0\n",
       "kNN     0.6485888 0.6834532 0.6943062 0.6878235 0.6996681 0.7131012    0\n",
       "RF_base 0.7540077 0.7631433 0.7708910 0.7684733 0.7732301 0.7810945    0\n",
       "RF_corr 0.7169707 0.7206858 0.7308970 0.7283198 0.7341072 0.7389381    0\n",
       "RF_rfe  0.7670172 0.7685493 0.7726770 0.7719000 0.7744610 0.7767956    0\n",
       "\n",
       "Kappa \n",
       "             Min.   1st Qu.    Median      Mean   3rd Qu.      Max. NA's\n",
       "C50     0.5237832 0.5248292 0.5338903 0.5311673 0.5345805 0.5387534    0\n",
       "kNN     0.4113496 0.4246956 0.4490227 0.4401106 0.4505064 0.4649786    0\n",
       "RF_base 0.5025604 0.5243541 0.5405975 0.5372662 0.5541497 0.5646694    0\n",
       "RF_corr 0.4243233 0.4321933 0.4587166 0.4501257 0.4663494 0.4690459    0\n",
       "RF_rfe  0.5343452 0.5356429 0.5458811 0.5454905 0.5487807 0.5628025    0\n"
      ]
     },
     "metadata": {},
     "output_type": "display_data"
    }
   ],
   "source": [
    "###\n",
    "\n",
    "modeldata <- resamples(list(C50 = C5Fit, kNN = kknnFit, RF_base = rfFit, RF_corr = rfcFit, RF_rfe = rfeFit))\n",
    "\n",
    "summary(modeldata)"
   ]
  },
  {
   "cell_type": "code",
   "execution_count": 28,
   "metadata": {},
   "outputs": [
    {
     "data": {
      "text/plain": [
       "\n",
       "Call:\n",
       "summary.diff.resamples(object = kappaDiffs)\n",
       "\n",
       "p-value adjustment: bonferroni \n",
       "Upper diagonal: estimates of the difference\n",
       "Lower diagonal: p-value for H0: difference = 0\n",
       "\n",
       "Kappa \n",
       "        C50      kNN       RF_base   RF_corr   RF_rfe   \n",
       "C50               0.091057 -0.006099  0.081042 -0.014323\n",
       "kNN     0.013876           -0.097156 -0.010015 -0.105380\n",
       "RF_base 1.000000 0.015574             0.087141 -0.008224\n",
       "RF_corr 0.014960 0.925680  0.006713            -0.095365\n",
       "RF_rfe  0.150745 0.018246  1.000000  0.019716           \n"
      ]
     },
     "metadata": {},
     "output_type": "display_data"
    }
   ],
   "source": [
    "###\n",
    "\n",
    "kappaDiffs <- diff(modeldata, metric = \"Kappa\")\n",
    "summary(kappaDiffs)"
   ]
  },
  {
   "cell_type": "code",
   "execution_count": 29,
   "metadata": {},
   "outputs": [
    {
     "data": {
      "image/png": "[encoded data removed]",
      "text/plain": [
       "plot without title"
      ]
     },
     "metadata": {
      "image/png": {
       "height": 420,
       "width": 420
      },
      "text/plain": {
       "height": 420,
       "width": 420
      }
     },
     "output_type": "display_data"
    }
   ],
   "source": [
    "parallelplot(modeldata, metric = \"Kappa\")"
   ]
  },
  {
   "cell_type": "code",
   "execution_count": 30,
   "metadata": {},
   "outputs": [
    {
     "data": {
      "image/png": "[encoded data removed]",
      "text/plain": [
       "plot without title"
      ]
     },
     "metadata": {
      "image/png": {
       "height": 420,
       "width": 420
      },
      "text/plain": {
       "height": 420,
       "width": 420
      }
     },
     "output_type": "display_data"
    }
   ],
   "source": [
    "dotplot(modeldata, metric = \"Kappa\")"
   ]
  },
  {
   "cell_type": "code",
   "execution_count": 31,
   "metadata": {},
   "outputs": [
    {
     "data": {
      "text/plain": [
       "Confusion Matrix and Statistics\n",
       "\n",
       "          Reference\n",
       "Prediction    0    1    2    3    4    5\n",
       "         0  350    0    0    2    6   23\n",
       "         1    0    0    0    0    2    1\n",
       "         2    1    0   15    1    1    2\n",
       "         3    2    1    0  205    4   20\n",
       "         4    4    2    0    2  128   17\n",
       "         5  151  111  120  142  284 2274\n",
       "\n",
       "Overall Statistics\n",
       "                                         \n",
       "               Accuracy : 0.7678         \n",
       "                 95% CI : (0.7541, 0.781)\n",
       "    No Information Rate : 0.6037         \n",
       "    P-Value [Acc > NIR] : < 2.2e-16      \n",
       "                                         \n",
       "                  Kappa : 0.5322         \n",
       "                                         \n",
       " Mcnemar's Test P-Value : NA             \n",
       "\n",
       "Statistics by Class:\n",
       "\n",
       "                     Class: 0 Class: 1 Class: 2 Class: 3 Class: 4 Class: 5\n",
       "Sensitivity           0.68898 0.000000 0.111111  0.58239  0.30118   0.9730\n",
       "Specificity           0.99078 0.999201 0.998662  0.99233  0.99275   0.4733\n",
       "Pos Pred Value        0.91864 0.000000 0.750000  0.88362  0.83660   0.7378\n",
       "Neg Pred Value        0.95473 0.970527 0.968839  0.95960  0.92012   0.9202\n",
       "Prevalence            0.13123 0.029450 0.034875  0.09093  0.10979   0.6037\n",
       "Detection Rate        0.09042 0.000000 0.003875  0.05296  0.03307   0.5874\n",
       "Detection Prevalence  0.09842 0.000775 0.005167  0.05993  0.03952   0.7962\n",
       "Balanced Accuracy     0.83988 0.499601 0.554886  0.78736  0.64696   0.7232"
      ]
     },
     "metadata": {},
     "output_type": "display_data"
    }
   ],
   "source": [
    "cmRF <- confusionMatrix(rfPred, testing$galaxysentiment) \n",
    "cmRF"
   ]
  },
  {
   "cell_type": "markdown",
   "metadata": {},
   "source": [
    "<b>Feature Engineering</b>"
   ]
  },
  {
   "cell_type": "code",
   "execution_count": 32,
   "metadata": {},
   "outputs": [
    {
     "name": "stderr",
     "output_type": "stream",
     "text": [
      "\n",
      "Attaching package: 'dplyr'\n",
      "\n",
      "\n",
      "The following objects are masked from 'package:stats':\n",
      "\n",
      "    filter, lag\n",
      "\n",
      "\n",
      "The following objects are masked from 'package:base':\n",
      "\n",
      "    intersect, setdiff, setequal, union\n",
      "\n",
      "\n"
     ]
    },
    {
     "name": "stdout",
     "output_type": "stream",
     "text": [
      "'data.frame':\t12911 obs. of  59 variables:\n",
      " $ iphone         : int  1 1 1 0 1 2 1 1 4 1 ...\n",
      " $ samsunggalaxy  : int  0 0 1 0 0 0 0 0 0 0 ...\n",
      " $ sonyxperia     : int  0 0 0 0 0 0 0 0 0 0 ...\n",
      " $ nokialumina    : int  0 0 0 0 0 0 0 0 0 0 ...\n",
      " $ htcphone       : int  0 0 0 1 0 0 0 0 0 0 ...\n",
      " $ ios            : int  0 0 0 0 0 0 0 0 0 0 ...\n",
      " $ googleandroid  : int  0 0 0 0 0 0 0 0 0 0 ...\n",
      " $ iphonecampos   : int  0 0 1 0 0 1 0 0 0 0 ...\n",
      " $ samsungcampos  : int  0 0 1 0 0 0 0 0 0 0 ...\n",
      " $ sonycampos     : int  0 0 0 0 0 0 0 0 0 0 ...\n",
      " $ nokiacampos    : int  0 0 0 0 0 0 0 0 0 0 ...\n",
      " $ htccampos      : int  0 0 0 0 0 0 0 0 0 0 ...\n",
      " $ iphonecamneg   : int  0 0 0 0 0 0 0 0 0 0 ...\n",
      " $ samsungcamneg  : int  0 0 0 0 0 0 0 0 0 0 ...\n",
      " $ sonycamneg     : int  0 0 0 0 0 0 0 0 0 0 ...\n",
      " $ nokiacamneg    : int  0 0 0 0 0 0 0 0 0 0 ...\n",
      " $ htccamneg      : int  0 0 0 0 0 0 0 0 0 0 ...\n",
      " $ iphonecamunc   : int  0 0 0 0 0 0 0 0 0 0 ...\n",
      " $ samsungcamunc  : int  0 0 0 0 0 0 0 0 0 0 ...\n",
      " $ sonycamunc     : int  0 0 0 0 0 0 0 0 0 0 ...\n",
      " $ nokiacamunc    : int  0 0 0 0 0 0 0 0 0 0 ...\n",
      " $ htccamunc      : int  0 0 0 0 0 0 0 0 0 0 ...\n",
      " $ iphonedispos   : int  0 1 0 0 0 0 2 0 0 0 ...\n",
      " $ samsungdispos  : int  0 0 0 0 0 0 0 0 0 0 ...\n",
      " $ sonydispos     : int  0 0 0 0 0 0 0 0 0 0 ...\n",
      " $ nokiadispos    : int  0 0 0 0 0 0 0 0 0 0 ...\n",
      " $ htcdispos      : int  0 0 0 1 0 0 0 0 0 0 ...\n",
      " $ iphonedisneg   : int  0 1 0 0 0 0 0 0 0 0 ...\n",
      " $ samsungdisneg  : int  0 0 0 0 0 0 0 0 0 0 ...\n",
      " $ sonydisneg     : int  0 0 0 0 0 0 0 0 0 0 ...\n",
      " $ nokiadisneg    : int  0 0 0 0 0 0 0 0 0 0 ...\n",
      " $ htcdisneg      : int  0 0 0 0 0 0 0 0 0 0 ...\n",
      " $ iphonedisunc   : int  0 1 0 0 0 0 0 0 0 0 ...\n",
      " $ samsungdisunc  : int  0 0 0 0 0 0 0 0 0 0 ...\n",
      " $ sonydisunc     : int  0 0 0 0 0 0 0 0 0 0 ...\n",
      " $ nokiadisunc    : int  0 0 0 0 0 0 0 0 0 0 ...\n",
      " $ htcdisunc      : int  0 0 0 1 0 0 0 0 0 0 ...\n",
      " $ iphoneperpos   : int  0 0 0 0 0 0 0 0 0 0 ...\n",
      " $ samsungperpos  : int  0 0 0 0 0 0 0 0 0 0 ...\n",
      " $ sonyperpos     : int  0 0 0 0 0 0 0 0 0 0 ...\n",
      " $ nokiaperpos    : int  0 0 0 0 0 0 0 0 0 0 ...\n",
      " $ htcperpos      : int  0 0 0 1 0 0 0 0 0 0 ...\n",
      " $ iphoneperneg   : int  0 0 0 0 0 0 0 0 0 0 ...\n",
      " $ samsungperneg  : int  0 0 0 0 0 0 0 0 0 0 ...\n",
      " $ sonyperneg     : int  0 0 0 0 0 0 0 0 0 0 ...\n",
      " $ nokiaperneg    : int  0 0 0 0 0 0 0 0 0 0 ...\n",
      " $ htcperneg      : int  0 0 0 1 0 0 0 0 0 0 ...\n",
      " $ iphoneperunc   : int  0 0 0 0 0 0 0 0 0 0 ...\n",
      " $ samsungperunc  : int  0 0 0 0 0 0 0 0 0 0 ...\n",
      " $ sonyperunc     : int  0 0 0 0 0 0 0 0 0 0 ...\n",
      " $ nokiaperunc    : int  0 0 0 0 0 0 0 0 0 0 ...\n",
      " $ htcperunc      : int  0 0 0 1 0 0 0 0 0 0 ...\n",
      " $ iosperpos      : int  0 0 0 0 0 0 0 0 0 0 ...\n",
      " $ googleperpos   : int  0 0 0 0 0 0 0 0 0 0 ...\n",
      " $ iosperneg      : int  0 0 0 0 0 0 0 0 0 0 ...\n",
      " $ googleperneg   : int  0 0 0 0 0 0 0 0 0 0 ...\n",
      " $ iosperunc      : int  0 0 0 0 0 0 0 0 0 0 ...\n",
      " $ googleperunc   : int  0 0 0 0 0 0 0 0 0 0 ...\n",
      " $ galaxysentiment: Factor w/ 4 levels \"1\",\"2\",\"3\",\"4\": 4 3 3 1 1 1 3 4 4 4 ...\n"
     ]
    }
   ],
   "source": [
    "library('dplyr')\n",
    "\n",
    "# create a new dataset that will be used for recoding sentiment\n",
    "samsungRC <- samsung\n",
    "\n",
    "# recode sentiment to combine factor levels 0 & 1 and 4 & 5\n",
    "samsungRC$galaxysentiment <- recode(samsungRC$galaxysentiment, '0' = 1, '1' = 1, '2' = 2, '3' = 3, '4' = 4, '5' = 4) \n",
    "\n",
    "# samsungRC$iphonesentiment <- NULL\n",
    "# inspect results\n",
    "# summary(samsungRC)\n",
    "\n",
    "# make iphonesentiment a factor\n",
    "samsungRC$galaxysentiment <- as.factor(samsungRC$galaxysentiment)\n",
    "\n",
    "str(samsungRC)"
   ]
  },
  {
   "cell_type": "code",
   "execution_count": 33,
   "metadata": {},
   "outputs": [
    {
     "data": {
      "text/html": [
       "<dl class=dl-horizontal>\n",
       "\t<dt>Accuracy</dt>\n",
       "\t\t<dd>0.847365702479339</dd>\n",
       "\t<dt>Kappa</dt>\n",
       "\t\t<dd>0.600177865526324</dd>\n",
       "</dl>\n"
      ],
      "text/latex": [
       "\\begin{description*}\n",
       "\\item[Accuracy] 0.847365702479339\n",
       "\\item[Kappa] 0.600177865526324\n",
       "\\end{description*}\n"
      ],
      "text/markdown": [
       "Accuracy\n",
       ":   0.847365702479339Kappa\n",
       ":   0.600177865526324\n",
       "\n"
      ],
      "text/plain": [
       " Accuracy     Kappa \n",
       "0.8473657 0.6001779 "
      ]
     },
     "metadata": {},
     "output_type": "display_data"
    }
   ],
   "source": [
    "# Apply Random Forest to recoded dataset\n",
    "\n",
    "partition_rc <- createDataPartition(samsungRC$galaxysentiment, p = .70, list = FALSE)\n",
    "\n",
    "training_rc <- samsungRC[partition_rc,]\n",
    "testing_rc <- samsungRC[-partition_rc,]\n",
    "\n",
    "# Train Random Forest model\n",
    "\n",
    "rcFit <- train(galaxysentiment~., data = training_rc, method = \"rf\", metric = 'Kappa', trControl=fitControl0, tuneLength = 1)\n",
    "\n",
    "rcPred <- predict(rcFit, testing_rc)\n",
    "\n",
    "postResample(rcPred, testing_rc$galaxysentiment)"
   ]
  },
  {
   "cell_type": "code",
   "execution_count": 34,
   "metadata": {},
   "outputs": [
    {
     "data": {
      "text/plain": [
       "Confusion Matrix and Statistics\n",
       "\n",
       "          Reference\n",
       "Prediction    1    2    3    4\n",
       "         1  356    3    2   29\n",
       "         2    0   14    0    1\n",
       "         3    7    1  200   21\n",
       "         4  260  117  150 2711\n",
       "\n",
       "Overall Statistics\n",
       "                                          \n",
       "               Accuracy : 0.8474          \n",
       "                 95% CI : (0.8356, 0.8586)\n",
       "    No Information Rate : 0.7133          \n",
       "    P-Value [Acc > NIR] : < 2.2e-16       \n",
       "                                          \n",
       "                  Kappa : 0.6002          \n",
       "                                          \n",
       " Mcnemar's Test P-Value : < 2.2e-16       \n",
       "\n",
       "Statistics by Class:\n",
       "\n",
       "                     Class: 1 Class: 2 Class: 3 Class: 4\n",
       "Sensitivity           0.57143 0.103704  0.56818   0.9815\n",
       "Specificity           0.98954 0.999732  0.99176   0.5252\n",
       "Pos Pred Value        0.91282 0.933333  0.87336   0.8372\n",
       "Neg Pred Value        0.92332 0.968628  0.95828   0.9196\n",
       "Prevalence            0.16090 0.034866  0.09091   0.7133\n",
       "Detection Rate        0.09194 0.003616  0.05165   0.7002\n",
       "Detection Prevalence  0.10072 0.003874  0.05914   0.8363\n",
       "Balanced Accuracy     0.78048 0.551718  0.77997   0.7534"
      ]
     },
     "metadata": {},
     "output_type": "display_data"
    }
   ],
   "source": [
    "cmRFrc <- confusionMatrix(rcPred, testing_rc$galaxysentiment) \n",
    "cmRFrc"
   ]
  },
  {
   "cell_type": "markdown",
   "metadata": {},
   "source": [
    "Accuracy increased significantly, as well as a kappa score."
   ]
  },
  {
   "cell_type": "markdown",
   "metadata": {},
   "source": [
    "PCA"
   ]
  },
  {
   "cell_type": "code",
   "execution_count": 35,
   "metadata": {},
   "outputs": [
    {
     "name": "stdout",
     "output_type": "stream",
     "text": [
      "Created from 9040 samples and 58 variables\n",
      "\n",
      "Pre-processing:\n",
      "  - centered (58)\n",
      "  - ignored (0)\n",
      "  - principal component signal extraction (58)\n",
      "  - scaled (58)\n",
      "\n",
      "PCA needed 25 components to capture 95 percent of the variance\n"
     ]
    }
   ],
   "source": [
    "# data = training and testing from iphoneDF (no feature selection) \n",
    "# create object containing centered, scaled PCA components from training set\n",
    "# excluded the dependent variable and set threshold to .95\n",
    "\n",
    "preprocessParams <- preProcess(training[,-59], method=c(\"center\", \"scale\", \"pca\"), thresh = 0.95)\n",
    "\n",
    "print(preprocessParams)"
   ]
  },
  {
   "cell_type": "code",
   "execution_count": 36,
   "metadata": {},
   "outputs": [
    {
     "name": "stdout",
     "output_type": "stream",
     "text": [
      "'data.frame':\t9040 obs. of  26 variables:\n",
      " $ PC1            : num  0.6458 0.0502 -0.0407 0.6458 0.6119 ...\n",
      " $ PC2            : num  -0.1171 0.0926 0.1544 -0.1171 -0.0993 ...\n",
      " $ PC3            : num  0.3384 0.6731 -0.0662 0.3384 0.2736 ...\n",
      " $ PC4            : num  -0.521 -0.801 -0.367 -0.521 -0.451 ...\n",
      " $ PC5            : num  0.1618 -0.0962 1.6272 0.1618 0.1823 ...\n",
      " $ PC6            : num  -0.0452 0.0158 -0.3723 -0.0452 0.0746 ...\n",
      " $ PC7            : num  0.1216 0.1152 0.2501 0.1216 0.0638 ...\n",
      " $ PC8            : num  -0.00958 -0.23152 -0.45993 -0.00958 -0.06444 ...\n",
      " $ PC9            : num  -0.0343 0.0112 0.0111 -0.0343 -0.0366 ...\n",
      " $ PC10           : num  -0.0149 0.1574 -0.0193 -0.0149 -0.0236 ...\n",
      " $ PC11           : num  0.0379 -0.9481 0.8485 0.0379 -0.1654 ...\n",
      " $ PC12           : num  0.1895 -1.2552 0.0251 0.1895 0.2519 ...\n",
      " $ PC13           : num  -0.154 1.747 -0.126 -0.154 -0.192 ...\n",
      " $ PC14           : num  0.0913 -0.6759 -0.2221 0.0913 0.0565 ...\n",
      " $ PC15           : num  -0.0417 -0.5438 0.0413 -0.0417 -0.0543 ...\n",
      " $ PC16           : num  -0.116 0.8 -0.154 -0.116 -0.116 ...\n",
      " $ PC17           : num  -0.0316 -0.6175 -0.0308 -0.0316 -0.0571 ...\n",
      " $ PC18           : num  0.0148 -0.831 0.3246 0.0148 0.0342 ...\n",
      " $ PC19           : num  -0.079 0.82 -0.167 -0.079 -0.133 ...\n",
      " $ PC20           : num  -0.00444 1.12487 0.46162 -0.00444 0.06038 ...\n",
      " $ PC21           : num  -0.0383 0.3642 0.0586 -0.0383 -0.0531 ...\n",
      " $ PC22           : num  0.0606 0.6506 -0.1334 0.0606 0.0451 ...\n",
      " $ PC23           : num  0.0524 -0.87754 -0.38809 0.0524 0.00787 ...\n",
      " $ PC24           : num  -0.00524 0.13814 -0.19715 -0.00524 -0.02907 ...\n",
      " $ PC25           : num  0.00534 0.54241 -0.3509 0.00534 -0.05015 ...\n",
      " $ galaxysentiment: Factor w/ 6 levels \"0\",\"1\",\"2\",\"3\",..: 6 4 1 2 1 6 6 6 2 5 ...\n",
      "'data.frame':\t3871 obs. of  26 variables:\n",
      " $ PC1            : num  0.57472 0.60164 0.64373 0.64576 -0.00578 ...\n",
      " $ PC2            : num  -0.0788 -0.094 -0.1161 -0.1171 0.1735 ...\n",
      " $ PC3            : num  0.131 0.209 0.338 0.338 -0.861 ...\n",
      " $ PC4            : num  -0.216 -0.333 -0.521 -0.521 1.006 ...\n",
      " $ PC5            : num  -0.0314 0.0542 0.1702 0.1618 -0.6617 ...\n",
      " $ PC6            : num  0.0104 -0.0427 -0.0466 -0.0452 0.0401 ...\n",
      " $ PC7            : num  0.345 0.292 0.123 0.122 0.438 ...\n",
      " $ PC8            : num  -0.01585 -0.01393 -0.01924 -0.00958 0.0579 ...\n",
      " $ PC9            : num  -0.0289 -0.0312 0.1058 -0.0343 -0.0197 ...\n",
      " $ PC10           : num  0.01767 0.00336 -0.01623 -0.01494 -0.04237 ...\n",
      " $ PC11           : num  0.1655 0.0562 0.0433 0.0379 -0.3049 ...\n",
      " $ PC12           : num  0.116 0.166 0.19 0.189 0.275 ...\n",
      " $ PC13           : num  -0.0408 -0.0959 -0.1528 -0.1538 -0.2723 ...\n",
      " $ PC14           : num  0.17828 0.13422 0.09038 0.09129 -0.00999 ...\n",
      " $ PC15           : num  -0.2052 -0.122 -0.0401 -0.0417 0.4482 ...\n",
      " $ PC16           : num  -0.402 -0.264 -0.115 -0.116 0.906 ...\n",
      " $ PC17           : num  -0.202 -0.1059 -0.03 -0.0316 0.5093 ...\n",
      " $ PC18           : num  -0.02165 -0.00847 0.02061 0.01483 0.34347 ...\n",
      " $ PC19           : num  -0.1368 -0.0939 -0.0772 -0.079 -0.1143 ...\n",
      " $ PC20           : num  0.026479 0.010494 -0.000548 -0.004443 0.198074 ...\n",
      " $ PC21           : num  -0.0463 -0.0396 -0.0379 -0.0383 -0.0183 ...\n",
      " $ PC22           : num  0.0661 0.0497 0.0617 0.0606 0.0601 ...\n",
      " $ PC23           : num  0.0701 0.0318 0.0591 0.0524 0.1441 ...\n",
      " $ PC24           : num  -0.00467 -0.0134 -0.00472 -0.00524 0.04373 ...\n",
      " $ PC25           : num  0.00616 -0.01788 0.00857 0.00534 0.03408 ...\n",
      " $ galaxysentiment: Factor w/ 6 levels \"0\",\"1\",\"2\",\"3\",..: 4 4 6 6 5 4 4 6 4 2 ...\n"
     ]
    }
   ],
   "source": [
    "# use predict to apply pca parameters, create training, exclude dependant\n",
    "train.pca <- predict(preprocessParams, training[,-59])\n",
    "\n",
    "# add the dependent to training\n",
    "train.pca$galaxysentiment <- training$galaxysentiment\n",
    "\n",
    "# use predict to apply pca parameters, create testing, exclude dependant\n",
    "test.pca <- predict(preprocessParams, testing[,-59])\n",
    "\n",
    "# add the dependent to training\n",
    "test.pca$galaxysentiment <- testing$galaxysentiment\n",
    "\n",
    "# inspect results\n",
    "str(train.pca)\n",
    "str(test.pca)"
   ]
  },
  {
   "cell_type": "code",
   "execution_count": 37,
   "metadata": {},
   "outputs": [
    {
     "data": {
      "text/html": [
       "<dl class=dl-horizontal>\n",
       "\t<dt>Accuracy</dt>\n",
       "\t\t<dd>0.756910359080341</dd>\n",
       "\t<dt>Kappa</dt>\n",
       "\t\t<dd>0.51486486018545</dd>\n",
       "</dl>\n"
      ],
      "text/latex": [
       "\\begin{description*}\n",
       "\\item[Accuracy] 0.756910359080341\n",
       "\\item[Kappa] 0.51486486018545\n",
       "\\end{description*}\n"
      ],
      "text/markdown": [
       "Accuracy\n",
       ":   0.756910359080341Kappa\n",
       ":   0.51486486018545\n",
       "\n"
      ],
      "text/plain": [
       " Accuracy     Kappa \n",
       "0.7569104 0.5148649 "
      ]
     },
     "metadata": {},
     "output_type": "display_data"
    }
   ],
   "source": [
    "# Apply Random Forest to PCA transformed dataset\n",
    "\n",
    "# Train Random Forest model\n",
    "\n",
    "pcaFit <- train(galaxysentiment~., data = train.pca, method = \"rf\", metric = 'Kappa', trControl=fitControl0, tuneLength = 1)\n",
    "\n",
    "pcaPred <- predict(pcaFit, test.pca)\n",
    "\n",
    "postResample(pcaPred, test.pca$galaxysentiment)"
   ]
  },
  {
   "cell_type": "code",
   "execution_count": 38,
   "metadata": {},
   "outputs": [
    {
     "data": {
      "text/plain": [
       "Confusion Matrix and Statistics\n",
       "\n",
       "          Reference\n",
       "Prediction    0    1    2    3    4    5\n",
       "         0  350    1    0    5   15   36\n",
       "         1    1    1    0    0    0    1\n",
       "         2    2    0   15    2    2   10\n",
       "         3    3    1    0  201    5   20\n",
       "         4    3    2    0    0  121   28\n",
       "         5  149  109  120  144  282 2242\n",
       "\n",
       "Overall Statistics\n",
       "                                          \n",
       "               Accuracy : 0.7569          \n",
       "                 95% CI : (0.7431, 0.7704)\n",
       "    No Information Rate : 0.6037          \n",
       "    P-Value [Acc > NIR] : < 2.2e-16       \n",
       "                                          \n",
       "                  Kappa : 0.5149          \n",
       "                                          \n",
       " Mcnemar's Test P-Value : NA              \n",
       "\n",
       "Statistics by Class:\n",
       "\n",
       "                     Class: 0  Class: 1 Class: 2 Class: 3 Class: 4 Class: 5\n",
       "Sensitivity           0.68898 0.0087719 0.111111  0.57102  0.28471   0.9593\n",
       "Specificity           0.98305 0.9994677 0.995717  0.99176  0.99042   0.4759\n",
       "Pos Pred Value        0.85995 0.3333333 0.483871  0.87391  0.78571   0.7360\n",
       "Neg Pred Value        0.95439 0.9707859 0.968750  0.95853  0.91821   0.8848\n",
       "Prevalence            0.13123 0.0294498 0.034875  0.09093  0.10979   0.6037\n",
       "Detection Rate        0.09042 0.0002583 0.003875  0.05192  0.03126   0.5792\n",
       "Detection Prevalence  0.10514 0.0007750 0.008008  0.05942  0.03978   0.7869\n",
       "Balanced Accuracy     0.83601 0.5041198 0.553414  0.78139  0.63756   0.7176"
      ]
     },
     "metadata": {},
     "output_type": "display_data"
    }
   ],
   "source": [
    "cmRFpca <- confusionMatrix(pcaPred, test.pca$galaxysentiment) \n",
    "cmRFpca"
   ]
  },
  {
   "cell_type": "code",
   "execution_count": 39,
   "metadata": {},
   "outputs": [
    {
     "data": {
      "text/plain": [
       "     iphone       samsunggalaxy       sonyxperia       nokialumina      \n",
       " Min.   : 0.000   Min.   :0.00000   Min.   :0.00000   Min.   :0.000000  \n",
       " 1st Qu.: 1.000   1st Qu.:0.00000   1st Qu.:0.00000   1st Qu.:0.000000  \n",
       " Median : 1.000   Median :0.00000   Median :0.00000   Median :0.000000  \n",
       " Mean   : 2.209   Mean   :0.07133   Mean   :0.02409   Mean   :0.002324  \n",
       " 3rd Qu.: 1.000   3rd Qu.:0.00000   3rd Qu.:0.00000   3rd Qu.:0.000000  \n",
       " Max.   :46.000   Max.   :8.00000   Max.   :8.00000   Max.   :2.000000  \n",
       "    htcphone             ios         googleandroid      iphonecampos     \n",
       " Min.   :  0.0000   Min.   :0.0000   Min.   :0.00000   Min.   :  0.0000  \n",
       " 1st Qu.:  0.0000   1st Qu.:0.0000   1st Qu.:0.00000   1st Qu.:  0.0000  \n",
       " Median :  0.0000   Median :0.0000   Median :0.00000   Median :  0.0000  \n",
       " Mean   :  0.1375   Mean   :0.1527   Mean   :0.03973   Mean   :  0.2891  \n",
       " 3rd Qu.:  0.0000   3rd Qu.:0.0000   3rd Qu.:0.00000   3rd Qu.:  0.0000  \n",
       " Max.   :479.0000   Max.   :6.0000   Max.   :6.00000   Max.   :156.0000  \n",
       " samsungcampos        sonycampos        nokiacampos          htccampos       \n",
       " Min.   : 0.00000   Min.   :0.000000   Min.   : 0.000000   Min.   :  0.0000  \n",
       " 1st Qu.: 0.00000   1st Qu.:0.000000   1st Qu.: 0.000000   1st Qu.:  0.0000  \n",
       " Median : 0.00000   Median :0.000000   Median : 0.000000   Median :  0.0000  \n",
       " Mean   : 0.05368   Mean   :0.009682   Mean   : 0.006893   Mean   :  0.1132  \n",
       " 3rd Qu.: 0.00000   3rd Qu.:0.000000   3rd Qu.: 0.000000   3rd Qu.:  0.0000  \n",
       " Max.   :65.00000   Max.   :8.000000   Max.   :17.000000   Max.   :156.0000  \n",
       "  iphonecamneg     samsungcamneg        sonycamneg        nokiacamneg       \n",
       " Min.   : 0.0000   Min.   : 0.00000   Min.   :0.000000   Min.   : 0.000000  \n",
       " 1st Qu.: 0.0000   1st Qu.: 0.00000   1st Qu.:0.000000   1st Qu.: 0.000000  \n",
       " Median : 0.0000   Median : 0.00000   Median :0.000000   Median : 0.000000  \n",
       " Mean   : 0.2345   Mean   : 0.05499   Mean   :0.002324   Mean   : 0.006196  \n",
       " 3rd Qu.: 0.0000   3rd Qu.: 0.00000   3rd Qu.:0.000000   3rd Qu.: 0.000000  \n",
       " Max.   :31.0000   Max.   :17.00000   Max.   :5.000000   Max.   :12.000000  \n",
       "   htccamneg        iphonecamunc     samsungcamunc        sonycamunc      \n",
       " Min.   : 0.0000   Min.   : 0.0000   Min.   : 0.00000   Min.   :0.000000  \n",
       " 1st Qu.: 0.0000   1st Qu.: 0.0000   1st Qu.: 0.00000   1st Qu.:0.000000  \n",
       " Median : 0.0000   Median : 0.0000   Median : 0.00000   Median :0.000000  \n",
       " Mean   : 0.0931   Mean   : 0.2539   Mean   : 0.01867   Mean   :0.003098  \n",
       " 3rd Qu.: 0.0000   3rd Qu.: 0.0000   3rd Qu.: 0.00000   3rd Qu.:0.000000  \n",
       " Max.   :21.0000   Max.   :45.0000   Max.   :11.00000   Max.   :4.000000  \n",
       "  nokiacamunc         htccamunc         iphonedispos     samsungdispos     \n",
       " Min.   : 0.00000   Min.   : 0.00000   Min.   : 0.0000   Min.   : 0.00000  \n",
       " 1st Qu.: 0.00000   1st Qu.: 0.00000   1st Qu.: 0.0000   1st Qu.: 0.00000  \n",
       " Median : 0.00000   Median : 0.00000   Median : 0.0000   Median : 0.00000  \n",
       " Mean   : 0.00364   Mean   : 0.04709   Mean   : 0.7165   Mean   : 0.06305  \n",
       " 3rd Qu.: 0.00000   3rd Qu.: 0.00000   3rd Qu.: 0.0000   3rd Qu.: 0.00000  \n",
       " Max.   :10.00000   Max.   :20.00000   Max.   :66.0000   Max.   :51.00000  \n",
       "   sonydispos        nokiadispos          htcdispos         iphonedisneg     \n",
       " Min.   : 0.00000   Min.   : 0.000000   Min.   :  0.0000   Min.   :  0.0000  \n",
       " 1st Qu.: 0.00000   1st Qu.: 0.000000   1st Qu.:  0.0000   1st Qu.:  0.0000  \n",
       " Median : 0.00000   Median : 0.000000   Median :  0.0000   Median :  0.0000  \n",
       " Mean   : 0.01108   Mean   : 0.009991   Mean   :  0.1579   Mean   :  0.6079  \n",
       " 3rd Qu.: 0.00000   3rd Qu.: 0.000000   3rd Qu.:  0.0000   3rd Qu.:  0.0000  \n",
       " Max.   :32.00000   Max.   :23.000000   Max.   :479.0000   Max.   :120.0000  \n",
       " samsungdisneg       sonydisneg        nokiadisneg          htcdisneg      \n",
       " Min.   : 0.0000   Min.   : 0.00000   Min.   : 0.000000   Min.   : 0.0000  \n",
       " 1st Qu.: 0.0000   1st Qu.: 0.00000   1st Qu.: 0.000000   1st Qu.: 0.0000  \n",
       " Median : 0.0000   Median : 0.00000   Median : 0.000000   Median : 0.0000  \n",
       " Mean   : 0.0663   Mean   : 0.01247   Mean   : 0.007978   Mean   : 0.1163  \n",
       " 3rd Qu.: 0.0000   3rd Qu.: 0.00000   3rd Qu.: 0.000000   3rd Qu.: 0.0000  \n",
       " Max.   :48.0000   Max.   :97.00000   Max.   :18.000000   Max.   :48.0000  \n",
       "  iphonedisunc     samsungdisunc        sonydisunc         nokiadisunc       \n",
       " Min.   : 0.0000   Min.   : 0.00000   Min.   : 0.000000   Min.   : 0.000000  \n",
       " 1st Qu.: 0.0000   1st Qu.: 0.00000   1st Qu.: 0.000000   1st Qu.: 0.000000  \n",
       " Median : 0.0000   Median : 0.00000   Median : 0.000000   Median : 0.000000  \n",
       " Mean   : 0.5049   Mean   : 0.02719   Mean   : 0.004492   Mean   : 0.004957  \n",
       " 3rd Qu.: 0.0000   3rd Qu.: 0.00000   3rd Qu.: 0.000000   3rd Qu.: 0.000000  \n",
       " Max.   :77.0000   Max.   :42.00000   Max.   :11.000000   Max.   :16.000000  \n",
       "   htcdisunc         iphoneperpos    samsungperpos        sonyperpos      \n",
       " Min.   : 0.00000   Min.   : 0.000   Min.   : 0.00000   Min.   : 0.00000  \n",
       " 1st Qu.: 0.00000   1st Qu.: 0.000   1st Qu.: 0.00000   1st Qu.: 0.00000  \n",
       " Median : 0.00000   Median : 0.000   Median : 0.00000   Median : 0.00000  \n",
       " Mean   : 0.06274   Mean   : 0.603   Mean   : 0.06204   Mean   : 0.00852  \n",
       " 3rd Qu.: 0.00000   3rd Qu.: 0.000   3rd Qu.: 0.00000   3rd Qu.: 0.00000  \n",
       " Max.   :42.00000   Max.   :46.000   Max.   :57.00000   Max.   :14.00000  \n",
       "  nokiaperpos         htcperpos       iphoneperneg     samsungperneg     \n",
       " Min.   : 0.00000   Min.   : 0.000   Min.   : 0.0000   Min.   : 0.00000  \n",
       " 1st Qu.: 0.00000   1st Qu.: 0.000   1st Qu.: 0.0000   1st Qu.: 0.00000  \n",
       " Median : 0.00000   Median : 0.000   Median : 0.0000   Median : 0.00000  \n",
       " Mean   : 0.01069   Mean   : 0.128   Mean   : 0.4855   Mean   : 0.06444  \n",
       " 3rd Qu.: 0.00000   3rd Qu.: 0.000   3rd Qu.: 0.0000   3rd Qu.: 0.00000  \n",
       " Max.   :21.00000   Max.   :65.000   Max.   :33.0000   Max.   :33.00000  \n",
       "   sonyperneg         nokiaperneg        htcperneg        iphoneperunc   \n",
       " Min.   : 0.000000   Min.   : 0.0000   Min.   : 0.0000   Min.   : 0.000  \n",
       " 1st Qu.: 0.000000   1st Qu.: 0.0000   1st Qu.: 0.0000   1st Qu.: 0.000  \n",
       " Median : 0.000000   Median : 0.0000   Median : 0.0000   Median : 0.000  \n",
       " Mean   : 0.006429   Mean   : 0.0103   Mean   : 0.1207   Mean   : 0.298  \n",
       " 3rd Qu.: 0.000000   3rd Qu.: 0.0000   3rd Qu.: 0.0000   3rd Qu.: 0.000  \n",
       " Max.   :28.000000   Max.   :18.0000   Max.   :33.0000   Max.   :31.000  \n",
       " samsungperunc        sonyperunc        nokiaperunc          htcperunc       \n",
       " Min.   : 0.00000   Min.   :0.000000   Min.   : 0.000000   Min.   : 0.00000  \n",
       " 1st Qu.: 0.00000   1st Qu.:0.000000   1st Qu.: 0.000000   1st Qu.: 0.00000  \n",
       " Median : 0.00000   Median :0.000000   Median : 0.000000   Median : 0.00000  \n",
       " Mean   : 0.02207   Mean   :0.002169   Mean   : 0.005577   Mean   : 0.06421  \n",
       " 3rd Qu.: 0.00000   3rd Qu.:0.000000   3rd Qu.: 0.000000   3rd Qu.: 0.00000  \n",
       " Max.   :31.00000   Max.   :5.000000   Max.   :13.000000   Max.   :59.00000  \n",
       "   iosperpos         googleperpos        iosperneg         googleperneg     \n",
       " Min.   : 0.00000   Min.   : 0.00000   Min.   : 0.00000   Min.   : 0.00000  \n",
       " 1st Qu.: 0.00000   1st Qu.: 0.00000   1st Qu.: 0.00000   1st Qu.: 0.00000  \n",
       " Median : 0.00000   Median : 0.00000   Median : 0.00000   Median : 0.00000  \n",
       " Mean   : 0.05948   Mean   : 0.03873   Mean   : 0.05786   Mean   : 0.05848  \n",
       " 3rd Qu.: 0.00000   3rd Qu.: 0.00000   3rd Qu.: 0.00000   3rd Qu.: 0.00000  \n",
       " Max.   :26.00000   Max.   :24.00000   Max.   :20.00000   Max.   :25.00000  \n",
       "   iosperunc         googleperunc      galaxysentiment\n",
       " Min.   : 0.00000   Min.   : 0.00000   Min.   :1.000  \n",
       " 1st Qu.: 0.00000   1st Qu.: 0.00000   1st Qu.:3.000  \n",
       " Median : 0.00000   Median : 0.00000   Median :4.000  \n",
       " Mean   : 0.03323   Mean   : 0.01619   Mean   :3.356  \n",
       " 3rd Qu.: 0.00000   3rd Qu.: 0.00000   3rd Qu.:4.000  \n",
       " Max.   :10.00000   Max.   :24.00000   Max.   :4.000  "
      ]
     },
     "metadata": {},
     "output_type": "display_data"
    },
    {
     "name": "stdout",
     "output_type": "stream",
     "text": [
      "'data.frame':\t12911 obs. of  59 variables:\n",
      " $ iphone         : int  1 1 1 0 1 2 1 1 4 1 ...\n",
      " $ samsunggalaxy  : int  0 0 1 0 0 0 0 0 0 0 ...\n",
      " $ sonyxperia     : int  0 0 0 0 0 0 0 0 0 0 ...\n",
      " $ nokialumina    : int  0 0 0 0 0 0 0 0 0 0 ...\n",
      " $ htcphone       : int  0 0 0 1 0 0 0 0 0 0 ...\n",
      " $ ios            : int  0 0 0 0 0 0 0 0 0 0 ...\n",
      " $ googleandroid  : int  0 0 0 0 0 0 0 0 0 0 ...\n",
      " $ iphonecampos   : int  0 0 1 0 0 1 0 0 0 0 ...\n",
      " $ samsungcampos  : int  0 0 1 0 0 0 0 0 0 0 ...\n",
      " $ sonycampos     : int  0 0 0 0 0 0 0 0 0 0 ...\n",
      " $ nokiacampos    : int  0 0 0 0 0 0 0 0 0 0 ...\n",
      " $ htccampos      : int  0 0 0 0 0 0 0 0 0 0 ...\n",
      " $ iphonecamneg   : int  0 0 0 0 0 0 0 0 0 0 ...\n",
      " $ samsungcamneg  : int  0 0 0 0 0 0 0 0 0 0 ...\n",
      " $ sonycamneg     : int  0 0 0 0 0 0 0 0 0 0 ...\n",
      " $ nokiacamneg    : int  0 0 0 0 0 0 0 0 0 0 ...\n",
      " $ htccamneg      : int  0 0 0 0 0 0 0 0 0 0 ...\n",
      " $ iphonecamunc   : int  0 0 0 0 0 0 0 0 0 0 ...\n",
      " $ samsungcamunc  : int  0 0 0 0 0 0 0 0 0 0 ...\n",
      " $ sonycamunc     : int  0 0 0 0 0 0 0 0 0 0 ...\n",
      " $ nokiacamunc    : int  0 0 0 0 0 0 0 0 0 0 ...\n",
      " $ htccamunc      : int  0 0 0 0 0 0 0 0 0 0 ...\n",
      " $ iphonedispos   : int  0 1 0 0 0 0 2 0 0 0 ...\n",
      " $ samsungdispos  : int  0 0 0 0 0 0 0 0 0 0 ...\n",
      " $ sonydispos     : int  0 0 0 0 0 0 0 0 0 0 ...\n",
      " $ nokiadispos    : int  0 0 0 0 0 0 0 0 0 0 ...\n",
      " $ htcdispos      : int  0 0 0 1 0 0 0 0 0 0 ...\n",
      " $ iphonedisneg   : int  0 1 0 0 0 0 0 0 0 0 ...\n",
      " $ samsungdisneg  : int  0 0 0 0 0 0 0 0 0 0 ...\n",
      " $ sonydisneg     : int  0 0 0 0 0 0 0 0 0 0 ...\n",
      " $ nokiadisneg    : int  0 0 0 0 0 0 0 0 0 0 ...\n",
      " $ htcdisneg      : int  0 0 0 0 0 0 0 0 0 0 ...\n",
      " $ iphonedisunc   : int  0 1 0 0 0 0 0 0 0 0 ...\n",
      " $ samsungdisunc  : int  0 0 0 0 0 0 0 0 0 0 ...\n",
      " $ sonydisunc     : int  0 0 0 0 0 0 0 0 0 0 ...\n",
      " $ nokiadisunc    : int  0 0 0 0 0 0 0 0 0 0 ...\n",
      " $ htcdisunc      : int  0 0 0 1 0 0 0 0 0 0 ...\n",
      " $ iphoneperpos   : int  0 0 0 0 0 0 0 0 0 0 ...\n",
      " $ samsungperpos  : int  0 0 0 0 0 0 0 0 0 0 ...\n",
      " $ sonyperpos     : int  0 0 0 0 0 0 0 0 0 0 ...\n",
      " $ nokiaperpos    : int  0 0 0 0 0 0 0 0 0 0 ...\n",
      " $ htcperpos      : int  0 0 0 1 0 0 0 0 0 0 ...\n",
      " $ iphoneperneg   : int  0 0 0 0 0 0 0 0 0 0 ...\n",
      " $ samsungperneg  : int  0 0 0 0 0 0 0 0 0 0 ...\n",
      " $ sonyperneg     : int  0 0 0 0 0 0 0 0 0 0 ...\n",
      " $ nokiaperneg    : int  0 0 0 0 0 0 0 0 0 0 ...\n",
      " $ htcperneg      : int  0 0 0 1 0 0 0 0 0 0 ...\n",
      " $ iphoneperunc   : int  0 0 0 0 0 0 0 0 0 0 ...\n",
      " $ samsungperunc  : int  0 0 0 0 0 0 0 0 0 0 ...\n",
      " $ sonyperunc     : int  0 0 0 0 0 0 0 0 0 0 ...\n",
      " $ nokiaperunc    : int  0 0 0 0 0 0 0 0 0 0 ...\n",
      " $ htcperunc      : int  0 0 0 1 0 0 0 0 0 0 ...\n",
      " $ iosperpos      : int  0 0 0 0 0 0 0 0 0 0 ...\n",
      " $ googleperpos   : int  0 0 0 0 0 0 0 0 0 0 ...\n",
      " $ iosperneg      : int  0 0 0 0 0 0 0 0 0 0 ...\n",
      " $ googleperneg   : int  0 0 0 0 0 0 0 0 0 0 ...\n",
      " $ iosperunc      : int  0 0 0 0 0 0 0 0 0 0 ...\n",
      " $ googleperunc   : int  0 0 0 0 0 0 0 0 0 0 ...\n",
      " $ galaxysentiment: num  4 3 3 1 1 1 3 4 4 4 ...\n"
     ]
    }
   ],
   "source": [
    "# Combine Recode + PCA\n",
    "\n",
    "library('dplyr')\n",
    "\n",
    "# create a new dataset that will be used for recoding sentiment\n",
    "samsungRC_PCA <- samsung\n",
    "\n",
    "# recode sentiment to combine factor levels 0 & 1 and 4 & 5\n",
    "samsungRC_PCA$galaxysentiment <- recode(samsungRC_PCA$galaxysentiment, '0' = 1, '1' = 1, '2' = 2, '3' = 3, '4' = 4, '5' = 4) \n",
    "\n",
    "# inspect results\n",
    "summary(samsungRC_PCA)\n",
    "str(samsungRC_PCA)\n",
    "\n",
    "# make iphonesentiment a factor\n",
    "samsungRC_PCA$galaxysentiment <- as.factor(samsungRC_PCA$galaxysentiment)"
   ]
  },
  {
   "cell_type": "code",
   "execution_count": 40,
   "metadata": {},
   "outputs": [
    {
     "name": "stdout",
     "output_type": "stream",
     "text": [
      "'data.frame':\t9039 obs. of  26 variables:\n",
      " $ PC1            : num  0.6458 0.0502 -0.0407 0.6458 0.6119 ...\n",
      " $ PC2            : num  -0.1171 0.0926 0.1544 -0.1171 -0.0993 ...\n",
      " $ PC3            : num  0.3384 0.6731 -0.0662 0.3384 0.2736 ...\n",
      " $ PC4            : num  -0.521 -0.801 -0.367 -0.521 -0.451 ...\n",
      " $ PC5            : num  0.1618 -0.0962 1.6272 0.1618 0.1823 ...\n",
      " $ PC6            : num  -0.0452 0.0158 -0.3723 -0.0452 0.0746 ...\n",
      " $ PC7            : num  0.1216 0.1152 0.2501 0.1216 0.0638 ...\n",
      " $ PC8            : num  -0.00958 -0.23152 -0.45993 -0.00958 -0.06444 ...\n",
      " $ PC9            : num  -0.0343 0.0112 0.0111 -0.0343 -0.0366 ...\n",
      " $ PC10           : num  -0.0149 0.1574 -0.0193 -0.0149 -0.0236 ...\n",
      " $ PC11           : num  0.0379 -0.9481 0.8485 0.0379 -0.1654 ...\n",
      " $ PC12           : num  0.1895 -1.2552 0.0251 0.1895 0.2519 ...\n",
      " $ PC13           : num  -0.154 1.747 -0.126 -0.154 -0.192 ...\n",
      " $ PC14           : num  0.0913 -0.6759 -0.2221 0.0913 0.0565 ...\n",
      " $ PC15           : num  -0.0417 -0.5438 0.0413 -0.0417 -0.0543 ...\n",
      " $ PC16           : num  -0.116 0.8 -0.154 -0.116 -0.116 ...\n",
      " $ PC17           : num  -0.0316 -0.6175 -0.0308 -0.0316 -0.0571 ...\n",
      " $ PC18           : num  0.0148 -0.831 0.3246 0.0148 0.0342 ...\n",
      " $ PC19           : num  -0.079 0.82 -0.167 -0.079 -0.133 ...\n",
      " $ PC20           : num  -0.00444 1.12487 0.46162 -0.00444 0.06038 ...\n",
      " $ PC21           : num  -0.0383 0.3642 0.0586 -0.0383 -0.0531 ...\n",
      " $ PC22           : num  0.0606 0.6506 -0.1334 0.0606 0.0451 ...\n",
      " $ PC23           : num  0.0524 -0.87754 -0.38809 0.0524 0.00787 ...\n",
      " $ PC24           : num  -0.00524 0.13814 -0.19715 -0.00524 -0.02907 ...\n",
      " $ PC25           : num  0.00534 0.54241 -0.3509 0.00534 -0.05015 ...\n",
      " $ galaxysentiment: Factor w/ 4 levels \"1\",\"2\",\"3\",\"4\": 4 3 1 1 1 3 4 4 4 4 ...\n",
      "'data.frame':\t3872 obs. of  26 variables:\n",
      " $ PC1            : num  0.575 0.591 0.291 -24.75 0.646 ...\n",
      " $ PC2            : num  -0.0788 -0.0902 0.0218 8.47 -0.1171 ...\n",
      " $ PC3            : num  0.131 0.235 0.583 -2.483 0.338 ...\n",
      " $ PC4            : num  -0.216 -0.405 -0.707 -5.484 -0.521 ...\n",
      " $ PC5            : num  -0.0314 0.2278 0.055 -1.7288 0.1618 ...\n",
      " $ PC6            : num  0.0104 0.0671 0.0369 0.4649 -0.0452 ...\n",
      " $ PC7            : num  0.3447 0.1158 0.0368 -2.0379 0.1216 ...\n",
      " $ PC8            : num  -0.01585 -0.10244 0.18288 7.07343 -0.00958 ...\n",
      " $ PC9            : num  -0.0289 -0.0397 0.0301 0.5071 -0.0343 ...\n",
      " $ PC10           : num  0.0177 -0.0297 0.1598 0.2374 -0.0149 ...\n",
      " $ PC11           : num  0.1655 -0.431 -0.5977 -1.6668 0.0379 ...\n",
      " $ PC12           : num  0.116 0.329 -1.365 -0.241 0.189 ...\n",
      " $ PC13           : num  -0.0408 -0.2398 1.4755 1.1328 -0.1538 ...\n",
      " $ PC14           : num  0.1783 0.0383 -0.9174 2.1896 0.0913 ...\n",
      " $ PC15           : num  -0.2052 -0.0756 -0.9187 -0.2443 -0.0417 ...\n",
      " $ PC16           : num  -0.402 -0.103 0.912 -0.057 -0.116 ...\n",
      " $ PC17           : num  -0.202 -0.1035 -0.5856 0.385 -0.0316 ...\n",
      " $ PC18           : num  -0.0217 0.0771 -0.9851 0.4598 0.0148 ...\n",
      " $ PC19           : num  -0.137 -0.248 0.968 0.794 -0.079 ...\n",
      " $ PC20           : num  0.02648 0.18363 1.0709 0.16864 -0.00444 ...\n",
      " $ PC21           : num  -0.0463 -0.043 0.0795 -0.6092 -0.0383 ...\n",
      " $ PC22           : num  0.0661 0.0203 0.433 0.3261 0.0606 ...\n",
      " $ PC23           : num  0.0701 -0.022 -0.6963 0.3115 0.0524 ...\n",
      " $ PC24           : num  -0.00467 -0.04768 0.20771 -0.26446 -0.00524 ...\n",
      " $ PC25           : num  0.00616 -0.08271 0.59033 -0.40198 0.00534 ...\n",
      " $ galaxysentiment: Factor w/ 4 levels \"1\",\"2\",\"3\",\"4\": 3 4 3 1 4 3 1 2 4 4 ...\n"
     ]
    }
   ],
   "source": [
    "# use predict to apply pca parameters, create training, exclude dependant\n",
    "trainRC.pca <- predict(preprocessParams, training_rc[,-59])\n",
    "\n",
    "# add the dependent to training\n",
    "trainRC.pca$galaxysentiment <- training_rc$galaxysentiment\n",
    "\n",
    "# use predict to apply pca parameters, create testing, exclude dependant\n",
    "testRC.pca <- predict(preprocessParams, testing_rc[,-59])\n",
    "\n",
    "# add the dependent to training\n",
    "testRC.pca$galaxysentiment <- testing_rc$galaxysentiment\n",
    "\n",
    "# inspect results\n",
    "str(trainRC.pca)\n",
    "str(testRC.pca)"
   ]
  },
  {
   "cell_type": "code",
   "execution_count": 41,
   "metadata": {},
   "outputs": [
    {
     "data": {
      "text/html": [
       "<dl class=dl-horizontal>\n",
       "\t<dt>Accuracy</dt>\n",
       "\t\t<dd>0.834194214876033</dd>\n",
       "\t<dt>Kappa</dt>\n",
       "\t\t<dd>0.572617012113194</dd>\n",
       "</dl>\n"
      ],
      "text/latex": [
       "\\begin{description*}\n",
       "\\item[Accuracy] 0.834194214876033\n",
       "\\item[Kappa] 0.572617012113194\n",
       "\\end{description*}\n"
      ],
      "text/markdown": [
       "Accuracy\n",
       ":   0.834194214876033Kappa\n",
       ":   0.572617012113194\n",
       "\n"
      ],
      "text/plain": [
       " Accuracy     Kappa \n",
       "0.8341942 0.5726170 "
      ]
     },
     "metadata": {},
     "output_type": "display_data"
    }
   ],
   "source": [
    "# Apply Random Forest to RC + PCA transformed dataset\n",
    "\n",
    "# Train Random Forest model\n",
    "\n",
    "rc_pcaFit <- train(galaxysentiment~., data = trainRC.pca, method = \"rf\", metric = 'Kappa', trControl=fitControl0, tuneLength = 1)\n",
    "\n",
    "rc_pcaPred <- predict(rc_pcaFit, testRC.pca)\n",
    "\n",
    "postResample(rc_pcaPred, testRC.pca$galaxysentiment)"
   ]
  },
  {
   "cell_type": "markdown",
   "metadata": {},
   "source": [
    "Applying PCA do not improne neither Accuracy nor Kappa."
   ]
  },
  {
   "cell_type": "code",
   "execution_count": 42,
   "metadata": {},
   "outputs": [],
   "source": [
    "large_matrix = read.csv('LargeMatrix.csv')"
   ]
  },
  {
   "cell_type": "code",
   "execution_count": 43,
   "metadata": {},
   "outputs": [],
   "source": [
    "large_matrix$galaxysentiment <- 0"
   ]
  },
  {
   "cell_type": "code",
   "execution_count": 44,
   "metadata": {},
   "outputs": [],
   "source": [
    "# Predicting target values using recoded model:\n",
    "\n",
    "Pred <- predict(rcFit, large_matrix)"
   ]
  },
  {
   "cell_type": "code",
   "execution_count": 45,
   "metadata": {},
   "outputs": [],
   "source": [
    "large_matrix$galaxysentiment <- Pred"
   ]
  },
  {
   "cell_type": "code",
   "execution_count": 46,
   "metadata": {},
   "outputs": [
    {
     "data": {
      "text/html": [
       "<dl class=dl-horizontal>\n",
       "\t<dt>1</dt>\n",
       "\t\t<dd>9128</dd>\n",
       "\t<dt>2</dt>\n",
       "\t\t<dd>583</dd>\n",
       "\t<dt>3</dt>\n",
       "\t\t<dd>1350</dd>\n",
       "\t<dt>4</dt>\n",
       "\t\t<dd>10747</dd>\n",
       "</dl>\n"
      ],
      "text/latex": [
       "\\begin{description*}\n",
       "\\item[1] 9128\n",
       "\\item[2] 583\n",
       "\\item[3] 1350\n",
       "\\item[4] 10747\n",
       "\\end{description*}\n"
      ],
      "text/markdown": [
       "1\n",
       ":   91282\n",
       ":   5833\n",
       ":   13504\n",
       ":   10747\n",
       "\n"
      ],
      "text/plain": [
       "    1     2     3     4 \n",
       " 9128   583  1350 10747 "
      ]
     },
     "metadata": {},
     "output_type": "display_data"
    }
   ],
   "source": [
    "summary(Pred) "
   ]
  },
  {
   "cell_type": "code",
   "execution_count": 47,
   "metadata": {},
   "outputs": [
    {
     "data": {
      "image/png": "[encoded data removed]",
      "text/plain": [
       "plot without title"
      ]
     },
     "metadata": {
      "image/png": {
       "height": 420,
       "width": 420
      },
      "text/plain": {
       "height": 420,
       "width": 420
      }
     },
     "output_type": "display_data"
    }
   ],
   "source": [
    "barplot(table(large_matrix$galaxysentiment))"
   ]
  },
  {
   "cell_type": "code",
   "execution_count": 51,
   "metadata": {},
   "outputs": [
    {
     "data": {
      "image/png": "[encoded data removed]",
      "text/plain": [
       "Plot with title \"Sentiments Frequency \n",
       " Samsung Galaxy (small matrix)\""
      ]
     },
     "metadata": {
      "image/png": {
       "height": 420,
       "width": 420
      },
      "text/plain": {
       "height": 420,
       "width": 420
      }
     },
     "output_type": "display_data"
    }
   ],
   "source": [
    "barplot(table(samsung$galaxysentiment), main = 'Sentiments Frequency \\n Samsung Galaxy (small matrix)')"
   ]
  },
  {
   "cell_type": "code",
   "execution_count": null,
   "metadata": {},
   "outputs": [],
   "source": []
  }
 ],
 "metadata": {
  "kernelspec": {
   "display_name": "R",
   "language": "R",
   "name": "ir"
  },
  "language_info": {
   "codemirror_mode": "r",
   "file_extension": ".r",
   "mimetype": "text/x-r-source",
   "name": "R",
   "pygments_lexer": "r",
   "version": "3.6.1"
  }
 },
 "nbformat": 4,
 "nbformat_minor": 2
}
