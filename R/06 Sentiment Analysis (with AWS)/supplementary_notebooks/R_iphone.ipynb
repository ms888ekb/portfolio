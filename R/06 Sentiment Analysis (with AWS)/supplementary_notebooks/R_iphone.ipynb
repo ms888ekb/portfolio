{
 "cells": [
  {
   "cell_type": "code",
   "execution_count": 1,
   "metadata": {},
   "outputs": [
    {
     "name": "stderr",
     "output_type": "stream",
     "text": [
      "Loading required package: foreach\n",
      "\n",
      "Loading required package: iterators\n",
      "\n",
      "Loading required package: parallel\n",
      "\n"
     ]
    }
   ],
   "source": [
    "# C4T3\n",
    "\n",
    "library('doParallel')"
   ]
  },
  {
   "cell_type": "code",
   "execution_count": 2,
   "metadata": {},
   "outputs": [
    {
     "name": "stderr",
     "output_type": "stream",
     "text": [
      "Loading required package: lattice\n",
      "\n",
      "Loading required package: ggplot2\n",
      "\n"
     ]
    }
   ],
   "source": [
    "library('caret')"
   ]
  },
  {
   "cell_type": "code",
   "execution_count": 3,
   "metadata": {},
   "outputs": [
    {
     "name": "stderr",
     "output_type": "stream",
     "text": [
      "corrplot 0.84 loaded\n",
      "\n"
     ]
    }
   ],
   "source": [
    "library('catboost')\n",
    "library('corrplot')"
   ]
  },
  {
   "cell_type": "code",
   "execution_count": 4,
   "metadata": {},
   "outputs": [
    {
     "name": "stderr",
     "output_type": "stream",
     "text": [
      "\n",
      "Attaching package: 'plotly'\n",
      "\n",
      "\n",
      "The following object is masked from 'package:ggplot2':\n",
      "\n",
      "    last_plot\n",
      "\n",
      "\n",
      "The following object is masked from 'package:stats':\n",
      "\n",
      "    filter\n",
      "\n",
      "\n",
      "The following object is masked from 'package:graphics':\n",
      "\n",
      "    layout\n",
      "\n",
      "\n"
     ]
    }
   ],
   "source": [
    "library('plotly')"
   ]
  },
  {
   "cell_type": "code",
   "execution_count": 5,
   "metadata": {},
   "outputs": [
    {
     "data": {
      "text/html": [
       "12"
      ],
      "text/latex": [
       "12"
      ],
      "text/markdown": [
       "12"
      ],
      "text/plain": [
       "[1] 12"
      ]
     },
     "metadata": {},
     "output_type": "display_data"
    }
   ],
   "source": [
    "detectCores() # Result = Typically 4 to 6"
   ]
  },
  {
   "cell_type": "code",
   "execution_count": 6,
   "metadata": {},
   "outputs": [
    {
     "data": {
      "text/html": [
       "10"
      ],
      "text/latex": [
       "10"
      ],
      "text/markdown": [
       "10"
      ],
      "text/plain": [
       "[1] 10"
      ]
     },
     "metadata": {},
     "output_type": "display_data"
    }
   ],
   "source": [
    "# Setting a number of cores used for the cluster\n",
    "cl <- makeCluster(10)\n",
    "\n",
    "# Register Cluster\n",
    "registerDoParallel(cl)\n",
    "\n",
    "# Confirm how many cores are now \"assigned\" to R and RStudio\n",
    "getDoParWorkers() # Result 2 \n",
    "\n",
    "# Stop Cluster. After performing your tasks, stop your cluster. \n",
    "# stopCluster(cl)"
   ]
  },
  {
   "cell_type": "markdown",
   "metadata": {},
   "source": [
    "<b>Exploring the Data</b>"
   ]
  },
  {
   "cell_type": "code",
   "execution_count": 7,
   "metadata": {},
   "outputs": [],
   "source": [
    "iphone <- read.csv('iphone_smallmatrix_labeled_8d.csv')"
   ]
  },
  {
   "cell_type": "code",
   "execution_count": 8,
   "metadata": {},
   "outputs": [
    {
     "data": {
      "text/html": [
       "<table>\n",
       "<caption>A data.frame: 6 × 59</caption>\n",
       "<thead>\n",
       "\t<tr><th scope=col>iphone</th><th scope=col>samsunggalaxy</th><th scope=col>sonyxperia</th><th scope=col>nokialumina</th><th scope=col>htcphone</th><th scope=col>ios</th><th scope=col>googleandroid</th><th scope=col>iphonecampos</th><th scope=col>samsungcampos</th><th scope=col>sonycampos</th><th scope=col>...</th><th scope=col>sonyperunc</th><th scope=col>nokiaperunc</th><th scope=col>htcperunc</th><th scope=col>iosperpos</th><th scope=col>googleperpos</th><th scope=col>iosperneg</th><th scope=col>googleperneg</th><th scope=col>iosperunc</th><th scope=col>googleperunc</th><th scope=col>iphonesentiment</th></tr>\n",
       "\t<tr><th scope=col>&lt;int&gt;</th><th scope=col>&lt;int&gt;</th><th scope=col>&lt;int&gt;</th><th scope=col>&lt;int&gt;</th><th scope=col>&lt;int&gt;</th><th scope=col>&lt;int&gt;</th><th scope=col>&lt;int&gt;</th><th scope=col>&lt;int&gt;</th><th scope=col>&lt;int&gt;</th><th scope=col>&lt;int&gt;</th><th scope=col>...</th><th scope=col>&lt;int&gt;</th><th scope=col>&lt;int&gt;</th><th scope=col>&lt;int&gt;</th><th scope=col>&lt;int&gt;</th><th scope=col>&lt;int&gt;</th><th scope=col>&lt;int&gt;</th><th scope=col>&lt;int&gt;</th><th scope=col>&lt;int&gt;</th><th scope=col>&lt;int&gt;</th><th scope=col>&lt;int&gt;</th></tr>\n",
       "</thead>\n",
       "<tbody>\n",
       "\t<tr><td> 1</td><td>0</td><td>0</td><td>0</td><td>0</td><td>0</td><td>0</td><td>0</td><td>0</td><td>0</td><td>...</td><td>0</td><td>0</td><td>0</td><td>0</td><td>0</td><td>0</td><td>0</td><td>0</td><td>0</td><td>0</td></tr>\n",
       "\t<tr><td> 1</td><td>0</td><td>0</td><td>0</td><td>0</td><td>0</td><td>0</td><td>0</td><td>0</td><td>0</td><td>...</td><td>0</td><td>0</td><td>0</td><td>0</td><td>0</td><td>0</td><td>0</td><td>0</td><td>0</td><td>0</td></tr>\n",
       "\t<tr><td> 1</td><td>0</td><td>0</td><td>0</td><td>0</td><td>0</td><td>0</td><td>0</td><td>0</td><td>0</td><td>...</td><td>0</td><td>0</td><td>0</td><td>0</td><td>0</td><td>0</td><td>0</td><td>0</td><td>0</td><td>0</td></tr>\n",
       "\t<tr><td> 1</td><td>0</td><td>0</td><td>0</td><td>0</td><td>0</td><td>0</td><td>0</td><td>0</td><td>0</td><td>...</td><td>0</td><td>0</td><td>0</td><td>0</td><td>0</td><td>0</td><td>0</td><td>0</td><td>0</td><td>0</td></tr>\n",
       "\t<tr><td> 1</td><td>0</td><td>0</td><td>0</td><td>0</td><td>0</td><td>0</td><td>0</td><td>0</td><td>0</td><td>...</td><td>0</td><td>0</td><td>0</td><td>0</td><td>0</td><td>0</td><td>0</td><td>0</td><td>0</td><td>0</td></tr>\n",
       "\t<tr><td>41</td><td>0</td><td>0</td><td>0</td><td>0</td><td>6</td><td>0</td><td>1</td><td>0</td><td>0</td><td>...</td><td>0</td><td>0</td><td>0</td><td>0</td><td>0</td><td>0</td><td>0</td><td>0</td><td>0</td><td>4</td></tr>\n",
       "</tbody>\n",
       "</table>\n"
      ],
      "text/latex": [
       "A data.frame: 6 × 59\n",
       "\\begin{tabular}{r|lllllllllllllllllllllllllllllllllllllllllllllllllllllllllll}\n",
       " iphone & samsunggalaxy & sonyxperia & nokialumina & htcphone & ios & googleandroid & iphonecampos & samsungcampos & sonycampos & nokiacampos & htccampos & iphonecamneg & samsungcamneg & sonycamneg & nokiacamneg & htccamneg & iphonecamunc & samsungcamunc & sonycamunc & nokiacamunc & htccamunc & iphonedispos & samsungdispos & sonydispos & nokiadispos & htcdispos & iphonedisneg & samsungdisneg & sonydisneg & nokiadisneg & htcdisneg & iphonedisunc & samsungdisunc & sonydisunc & nokiadisunc & htcdisunc & iphoneperpos & samsungperpos & sonyperpos & nokiaperpos & htcperpos & iphoneperneg & samsungperneg & sonyperneg & nokiaperneg & htcperneg & iphoneperunc & samsungperunc & sonyperunc & nokiaperunc & htcperunc & iosperpos & googleperpos & iosperneg & googleperneg & iosperunc & googleperunc & iphonesentiment\\\\\n",
       " <int> & <int> & <int> & <int> & <int> & <int> & <int> & <int> & <int> & <int> & <int> & <int> & <int> & <int> & <int> & <int> & <int> & <int> & <int> & <int> & <int> & <int> & <int> & <int> & <int> & <int> & <int> & <int> & <int> & <int> & <int> & <int> & <int> & <int> & <int> & <int> & <int> & <int> & <int> & <int> & <int> & <int> & <int> & <int> & <int> & <int> & <int> & <int> & <int> & <int> & <int> & <int> & <int> & <int> & <int> & <int> & <int> & <int> & <int>\\\\\n",
       "\\hline\n",
       "\t  1 & 0 & 0 & 0 & 0 & 0 & 0 & 0 & 0 & 0 & 0 & 0 & 0 & 0 & 0 & 0 & 0 & 0 & 0 & 0 & 0 & 0 & 0 & 0 & 0 & 0 & 0 & 0 & 0 & 0 & 0 & 0 & 0 & 0 & 0 & 0 & 0 & 0 & 0 & 0 & 0 & 0 & 0 & 0 & 0 & 0 & 0 & 0 & 0 & 0 & 0 & 0 & 0 & 0 & 0 & 0 & 0 & 0 & 0\\\\\n",
       "\t  1 & 0 & 0 & 0 & 0 & 0 & 0 & 0 & 0 & 0 & 0 & 0 & 0 & 0 & 0 & 0 & 0 & 0 & 0 & 0 & 0 & 0 & 0 & 0 & 0 & 0 & 0 & 0 & 0 & 0 & 0 & 0 & 0 & 0 & 0 & 0 & 0 & 1 & 0 & 0 & 0 & 0 & 0 & 0 & 0 & 0 & 0 & 0 & 0 & 0 & 0 & 0 & 0 & 0 & 0 & 0 & 0 & 0 & 0\\\\\n",
       "\t  1 & 0 & 0 & 0 & 0 & 0 & 0 & 0 & 0 & 0 & 0 & 0 & 0 & 0 & 0 & 0 & 0 & 0 & 0 & 0 & 0 & 0 & 0 & 0 & 0 & 0 & 0 & 0 & 0 & 0 & 0 & 0 & 0 & 0 & 0 & 0 & 0 & 0 & 0 & 0 & 0 & 0 & 0 & 0 & 0 & 0 & 0 & 0 & 0 & 0 & 0 & 0 & 0 & 0 & 0 & 0 & 0 & 0 & 0\\\\\n",
       "\t  1 & 0 & 0 & 0 & 0 & 0 & 0 & 0 & 0 & 0 & 0 & 0 & 0 & 0 & 0 & 0 & 0 & 0 & 0 & 0 & 0 & 0 & 0 & 0 & 0 & 0 & 0 & 0 & 0 & 0 & 0 & 0 & 0 & 0 & 0 & 0 & 0 & 1 & 0 & 0 & 0 & 0 & 0 & 0 & 0 & 0 & 0 & 1 & 0 & 0 & 0 & 0 & 0 & 0 & 0 & 0 & 0 & 0 & 0\\\\\n",
       "\t  1 & 0 & 0 & 0 & 0 & 0 & 0 & 0 & 0 & 0 & 0 & 0 & 0 & 0 & 0 & 0 & 0 & 0 & 0 & 0 & 0 & 0 & 0 & 0 & 0 & 0 & 0 & 0 & 0 & 0 & 0 & 0 & 0 & 0 & 0 & 0 & 0 & 1 & 0 & 0 & 0 & 0 & 0 & 0 & 0 & 0 & 0 & 0 & 0 & 0 & 0 & 0 & 0 & 0 & 0 & 0 & 0 & 0 & 0\\\\\n",
       "\t 41 & 0 & 0 & 0 & 0 & 6 & 0 & 1 & 0 & 0 & 0 & 0 & 3 & 0 & 0 & 0 & 0 & 7 & 0 & 0 & 0 & 0 & 1 & 0 & 0 & 0 & 0 & 3 & 0 & 0 & 0 & 0 & 4 & 0 & 0 & 0 & 0 & 0 & 0 & 0 & 0 & 0 & 0 & 0 & 0 & 0 & 0 & 0 & 0 & 0 & 0 & 0 & 0 & 0 & 0 & 0 & 0 & 0 & 4\\\\\n",
       "\\end{tabular}\n"
      ],
      "text/markdown": [
       "\n",
       "A data.frame: 6 × 59\n",
       "\n",
       "| iphone &lt;int&gt; | samsunggalaxy &lt;int&gt; | sonyxperia &lt;int&gt; | nokialumina &lt;int&gt; | htcphone &lt;int&gt; | ios &lt;int&gt; | googleandroid &lt;int&gt; | iphonecampos &lt;int&gt; | samsungcampos &lt;int&gt; | sonycampos &lt;int&gt; | ... ... | sonyperunc &lt;int&gt; | nokiaperunc &lt;int&gt; | htcperunc &lt;int&gt; | iosperpos &lt;int&gt; | googleperpos &lt;int&gt; | iosperneg &lt;int&gt; | googleperneg &lt;int&gt; | iosperunc &lt;int&gt; | googleperunc &lt;int&gt; | iphonesentiment &lt;int&gt; |\n",
       "|---|---|---|---|---|---|---|---|---|---|---|---|---|---|---|---|---|---|---|---|---|\n",
       "|  1 | 0 | 0 | 0 | 0 | 0 | 0 | 0 | 0 | 0 | ... | 0 | 0 | 0 | 0 | 0 | 0 | 0 | 0 | 0 | 0 |\n",
       "|  1 | 0 | 0 | 0 | 0 | 0 | 0 | 0 | 0 | 0 | ... | 0 | 0 | 0 | 0 | 0 | 0 | 0 | 0 | 0 | 0 |\n",
       "|  1 | 0 | 0 | 0 | 0 | 0 | 0 | 0 | 0 | 0 | ... | 0 | 0 | 0 | 0 | 0 | 0 | 0 | 0 | 0 | 0 |\n",
       "|  1 | 0 | 0 | 0 | 0 | 0 | 0 | 0 | 0 | 0 | ... | 0 | 0 | 0 | 0 | 0 | 0 | 0 | 0 | 0 | 0 |\n",
       "|  1 | 0 | 0 | 0 | 0 | 0 | 0 | 0 | 0 | 0 | ... | 0 | 0 | 0 | 0 | 0 | 0 | 0 | 0 | 0 | 0 |\n",
       "| 41 | 0 | 0 | 0 | 0 | 6 | 0 | 1 | 0 | 0 | ... | 0 | 0 | 0 | 0 | 0 | 0 | 0 | 0 | 0 | 4 |\n",
       "\n"
      ],
      "text/plain": [
       "  iphone samsunggalaxy sonyxperia nokialumina htcphone ios googleandroid\n",
       "1  1     0             0          0           0        0   0            \n",
       "2  1     0             0          0           0        0   0            \n",
       "3  1     0             0          0           0        0   0            \n",
       "4  1     0             0          0           0        0   0            \n",
       "5  1     0             0          0           0        0   0            \n",
       "6 41     0             0          0           0        6   0            \n",
       "  iphonecampos samsungcampos sonycampos ... sonyperunc nokiaperunc htcperunc\n",
       "1 0            0             0          ... 0          0           0        \n",
       "2 0            0             0          ... 0          0           0        \n",
       "3 0            0             0          ... 0          0           0        \n",
       "4 0            0             0          ... 0          0           0        \n",
       "5 0            0             0          ... 0          0           0        \n",
       "6 1            0             0          ... 0          0           0        \n",
       "  iosperpos googleperpos iosperneg googleperneg iosperunc googleperunc\n",
       "1 0         0            0         0            0         0           \n",
       "2 0         0            0         0            0         0           \n",
       "3 0         0            0         0            0         0           \n",
       "4 0         0            0         0            0         0           \n",
       "5 0         0            0         0            0         0           \n",
       "6 0         0            0         0            0         0           \n",
       "  iphonesentiment\n",
       "1 0              \n",
       "2 0              \n",
       "3 0              \n",
       "4 0              \n",
       "5 0              \n",
       "6 4              "
      ]
     },
     "metadata": {},
     "output_type": "display_data"
    }
   ],
   "source": [
    "head(iphone)"
   ]
  },
  {
   "cell_type": "code",
   "execution_count": 9,
   "metadata": {},
   "outputs": [],
   "source": [
    "iphone$iphonesentiment <- as.factor(iphone$iphonesentiment)\n",
    "\n",
    "# str(iphone)"
   ]
  },
  {
   "cell_type": "code",
   "execution_count": 10,
   "metadata": {},
   "outputs": [],
   "source": [
    "# summary(iphone)"
   ]
  },
  {
   "cell_type": "code",
   "execution_count": 11,
   "metadata": {},
   "outputs": [
    {
     "data": {
      "text/html": [
       "0"
      ],
      "text/latex": [
       "0"
      ],
      "text/markdown": [
       "0"
      ],
      "text/plain": [
       "[1] 0"
      ]
     },
     "metadata": {},
     "output_type": "display_data"
    }
   ],
   "source": [
    "sum(is.na(iphone))"
   ]
  },
  {
   "cell_type": "code",
   "execution_count": 12,
   "metadata": {},
   "outputs": [],
   "source": [
    "# p <- plot_ly(iphone, x= ~iphone['iphonesentiment'], type='histogram')\n",
    "\n",
    "# embed_notebook(p)\n",
    "\n",
    "# hist(iphone$iphonesentiment,  breaks = 8, xlim = c(0,6), main = 'Sendiments distribution', col=\"chocolate\")"
   ]
  },
  {
   "cell_type": "code",
   "execution_count": 13,
   "metadata": {},
   "outputs": [
    {
     "name": "stdout",
     "output_type": "stream",
     "text": [
      "'data.frame':\t12973 obs. of  46 variables:\n",
      " $ samsunggalaxy  : int  0 0 0 0 0 0 0 0 0 0 ...\n",
      " $ sonyxperia     : int  0 0 0 0 0 0 0 0 0 0 ...\n",
      " $ nokialumina    : int  0 0 0 0 0 0 0 0 0 0 ...\n",
      " $ ios            : int  0 0 0 0 0 6 0 0 0 0 ...\n",
      " $ googleandroid  : int  0 0 0 0 0 0 0 0 0 0 ...\n",
      " $ iphonecampos   : int  0 0 0 0 0 1 1 0 0 0 ...\n",
      " $ samsungcampos  : int  0 0 0 0 0 0 0 0 0 0 ...\n",
      " $ sonycampos     : int  0 0 0 0 0 0 0 0 0 0 ...\n",
      " $ htccampos      : int  0 0 0 0 0 0 0 0 0 0 ...\n",
      " $ iphonecamneg   : int  0 0 0 0 0 3 1 0 0 0 ...\n",
      " $ samsungcamneg  : int  0 0 0 0 0 0 0 0 0 0 ...\n",
      " $ sonycamneg     : int  0 0 0 0 0 0 0 0 0 0 ...\n",
      " $ nokiacamneg    : int  0 0 0 0 0 0 0 0 0 0 ...\n",
      " $ htccamneg      : int  0 0 0 0 0 0 0 0 0 0 ...\n",
      " $ iphonecamunc   : int  0 0 0 0 0 7 1 0 0 0 ...\n",
      " $ samsungcamunc  : int  0 0 0 0 0 0 0 0 0 0 ...\n",
      " $ sonycamunc     : int  0 0 0 0 0 0 0 0 0 0 ...\n",
      " $ htccamunc      : int  0 0 0 0 0 0 0 0 0 0 ...\n",
      " $ iphonedispos   : int  0 0 0 0 0 1 13 0 0 0 ...\n",
      " $ sonydispos     : int  0 0 0 0 0 0 0 0 0 0 ...\n",
      " $ htcdispos      : int  0 0 0 0 0 0 0 0 0 0 ...\n",
      " $ iphonedisneg   : int  0 0 0 0 0 3 10 0 0 0 ...\n",
      " $ sonydisneg     : int  0 0 0 0 0 0 0 0 0 0 ...\n",
      " $ nokiadisneg    : int  0 0 0 0 0 0 0 0 0 0 ...\n",
      " $ htcdisneg      : int  0 0 0 0 0 0 0 0 0 0 ...\n",
      " $ iphonedisunc   : int  0 0 0 0 0 4 9 0 0 0 ...\n",
      " $ sonydisunc     : int  0 0 0 0 0 0 0 0 0 0 ...\n",
      " $ htcdisunc      : int  0 0 0 0 0 0 0 0 0 0 ...\n",
      " $ iphoneperpos   : int  0 1 0 1 1 0 5 3 0 0 ...\n",
      " $ samsungperpos  : int  0 0 0 0 0 0 0 0 0 0 ...\n",
      " $ sonyperpos     : int  0 0 0 0 0 0 0 0 0 0 ...\n",
      " $ htcperpos      : int  0 0 0 0 0 0 0 0 0 0 ...\n",
      " $ iphoneperneg   : int  0 0 0 0 0 0 4 1 0 0 ...\n",
      " $ samsungperneg  : int  0 0 0 0 0 0 0 0 0 0 ...\n",
      " $ sonyperneg     : int  0 0 0 0 0 0 0 0 0 0 ...\n",
      " $ htcperneg      : int  0 0 0 0 0 0 0 0 0 0 ...\n",
      " $ iphoneperunc   : int  0 0 0 1 0 0 5 0 0 0 ...\n",
      " $ samsungperunc  : int  0 0 0 0 0 0 0 0 0 0 ...\n",
      " $ sonyperunc     : int  0 0 0 0 0 0 0 0 0 0 ...\n",
      " $ nokiaperunc    : int  0 0 0 0 0 0 0 0 0 0 ...\n",
      " $ htcperunc      : int  0 0 0 0 0 0 0 0 0 0 ...\n",
      " $ iosperneg      : int  0 0 0 0 0 0 0 0 0 0 ...\n",
      " $ googleperneg   : int  0 0 0 0 0 0 0 0 0 0 ...\n",
      " $ iosperunc      : int  0 0 0 0 0 0 0 0 0 0 ...\n",
      " $ googleperunc   : int  0 0 0 0 0 0 0 0 0 0 ...\n",
      " $ iphonesentiment: Factor w/ 6 levels \"0\",\"1\",\"2\",\"3\",..: 1 1 1 1 1 5 5 1 1 1 ...\n"
     ]
    },
    {
     "data": {
      "image/png": "[encoded data removed]",
      "text/plain": [
       "Plot with title \"\""
      ]
     },
     "metadata": {
      "image/png": {
       "height": 420,
       "width": 420
      },
      "text/plain": {
       "height": 420,
       "width": 420
      }
     },
     "output_type": "display_data"
    }
   ],
   "source": [
    "# Feature selection. Remove highly correlated (>0.9) independent variables\n",
    "\n",
    "iph_tmp <- iphone[, 1:(ncol(iphone)-1)]\n",
    "\n",
    "tmp <- cor(iphone[, 1:(ncol(iphone)-1)])\n",
    "\n",
    "tmp[upper.tri(tmp)] <- 0\n",
    "\n",
    "diag(tmp) <- 0\n",
    "\n",
    "iphone.f_corr <- iph_tmp[,!apply(tmp,2,function(x) any(x >= 0.90))]\n",
    "\n",
    "corrplot(cor(iphone.f_corr))\n",
    "\n",
    "\n",
    "iphone.f_corr$iphonesentiment <- iphone$iphonesentiment\n",
    "                                \n",
    "str(iphone.f_corr)\n",
    "                                \n",
    "# number of variables shortened from 58 to 45"
   ]
  },
  {
   "cell_type": "code",
   "execution_count": 14,
   "metadata": {},
   "outputs": [
    {
     "name": "stdout",
     "output_type": "stream",
     "text": [
      "'data.frame':\t12973 obs. of  59 variables:\n",
      " $ iphone         : int  1 1 1 1 1 41 1 1 1 1 ...\n",
      " $ samsunggalaxy  : int  0 0 0 0 0 0 0 0 0 0 ...\n",
      " $ sonyxperia     : int  0 0 0 0 0 0 0 0 0 0 ...\n",
      " $ nokialumina    : int  0 0 0 0 0 0 0 0 0 0 ...\n",
      " $ htcphone       : int  0 0 0 0 0 0 0 0 0 0 ...\n",
      " $ ios            : int  0 0 0 0 0 6 0 0 0 0 ...\n",
      " $ googleandroid  : int  0 0 0 0 0 0 0 0 0 0 ...\n",
      " $ iphonecampos   : int  0 0 0 0 0 1 1 0 0 0 ...\n",
      " $ samsungcampos  : int  0 0 0 0 0 0 0 0 0 0 ...\n",
      " $ sonycampos     : int  0 0 0 0 0 0 0 0 0 0 ...\n",
      " $ nokiacampos    : int  0 0 0 0 0 0 0 0 0 0 ...\n",
      " $ htccampos      : int  0 0 0 0 0 0 0 0 0 0 ...\n",
      " $ iphonecamneg   : int  0 0 0 0 0 3 1 0 0 0 ...\n",
      " $ samsungcamneg  : int  0 0 0 0 0 0 0 0 0 0 ...\n",
      " $ sonycamneg     : int  0 0 0 0 0 0 0 0 0 0 ...\n",
      " $ nokiacamneg    : int  0 0 0 0 0 0 0 0 0 0 ...\n",
      " $ htccamneg      : int  0 0 0 0 0 0 0 0 0 0 ...\n",
      " $ iphonecamunc   : int  0 0 0 0 0 7 1 0 0 0 ...\n",
      " $ samsungcamunc  : int  0 0 0 0 0 0 0 0 0 0 ...\n",
      " $ sonycamunc     : int  0 0 0 0 0 0 0 0 0 0 ...\n",
      " $ nokiacamunc    : int  0 0 0 0 0 0 0 0 0 0 ...\n",
      " $ htccamunc      : int  0 0 0 0 0 0 0 0 0 0 ...\n",
      " $ iphonedispos   : int  0 0 0 0 0 1 13 0 0 0 ...\n",
      " $ samsungdispos  : int  0 0 0 0 0 0 0 0 0 0 ...\n",
      " $ sonydispos     : int  0 0 0 0 0 0 0 0 0 0 ...\n",
      " $ nokiadispos    : int  0 0 0 0 0 0 0 0 0 0 ...\n",
      " $ htcdispos      : int  0 0 0 0 0 0 0 0 0 0 ...\n",
      " $ iphonedisneg   : int  0 0 0 0 0 3 10 0 0 0 ...\n",
      " $ samsungdisneg  : int  0 0 0 0 0 0 0 0 0 0 ...\n",
      " $ sonydisneg     : int  0 0 0 0 0 0 0 0 0 0 ...\n",
      " $ nokiadisneg    : int  0 0 0 0 0 0 0 0 0 0 ...\n",
      " $ htcdisneg      : int  0 0 0 0 0 0 0 0 0 0 ...\n",
      " $ iphonedisunc   : int  0 0 0 0 0 4 9 0 0 0 ...\n",
      " $ samsungdisunc  : int  0 0 0 0 0 0 0 0 0 0 ...\n",
      " $ sonydisunc     : int  0 0 0 0 0 0 0 0 0 0 ...\n",
      " $ nokiadisunc    : int  0 0 0 0 0 0 0 0 0 0 ...\n",
      " $ htcdisunc      : int  0 0 0 0 0 0 0 0 0 0 ...\n",
      " $ iphoneperpos   : int  0 1 0 1 1 0 5 3 0 0 ...\n",
      " $ samsungperpos  : int  0 0 0 0 0 0 0 0 0 0 ...\n",
      " $ sonyperpos     : int  0 0 0 0 0 0 0 0 0 0 ...\n",
      " $ nokiaperpos    : int  0 0 0 0 0 0 0 0 0 0 ...\n",
      " $ htcperpos      : int  0 0 0 0 0 0 0 0 0 0 ...\n",
      " $ iphoneperneg   : int  0 0 0 0 0 0 4 1 0 0 ...\n",
      " $ samsungperneg  : int  0 0 0 0 0 0 0 0 0 0 ...\n",
      " $ sonyperneg     : int  0 0 0 0 0 0 0 0 0 0 ...\n",
      " $ nokiaperneg    : int  0 0 0 0 0 0 0 0 0 0 ...\n",
      " $ htcperneg      : int  0 0 0 0 0 0 0 0 0 0 ...\n",
      " $ iphoneperunc   : int  0 0 0 1 0 0 5 0 0 0 ...\n",
      " $ samsungperunc  : int  0 0 0 0 0 0 0 0 0 0 ...\n",
      " $ sonyperunc     : int  0 0 0 0 0 0 0 0 0 0 ...\n",
      " $ nokiaperunc    : int  0 0 0 0 0 0 0 0 0 0 ...\n",
      " $ htcperunc      : int  0 0 0 0 0 0 0 0 0 0 ...\n",
      " $ iosperpos      : int  0 0 0 0 0 0 0 0 0 0 ...\n",
      " $ googleperpos   : int  0 0 0 0 0 0 0 0 0 0 ...\n",
      " $ iosperneg      : int  0 0 0 0 0 0 0 0 0 0 ...\n",
      " $ googleperneg   : int  0 0 0 0 0 0 0 0 0 0 ...\n",
      " $ iosperunc      : int  0 0 0 0 0 0 0 0 0 0 ...\n",
      " $ googleperunc   : int  0 0 0 0 0 0 0 0 0 0 ...\n",
      " $ iphonesentiment: Factor w/ 6 levels \"0\",\"1\",\"2\",\"3\",..: 1 1 1 1 1 5 5 1 1 1 ...\n"
     ]
    }
   ],
   "source": [
    "# Feature selection. Remove zero variance columns\n",
    "\n",
    "iphone.f_zv <- iphone[ , apply(iphone, 2, var) != 0]\n",
    "\n",
    "\n",
    "str(iphone.f_zv)\n",
    "# number of variables kept the same"
   ]
  },
  {
   "cell_type": "code",
   "execution_count": 15,
   "metadata": {},
   "outputs": [
    {
     "data": {
      "text/plain": [
       "\n",
       "Recursive feature selection\n",
       "\n",
       "Outer resampling method: Cross-Validated (10 fold, repeated 5 times) \n",
       "\n",
       "Resampling performance over subset size:\n",
       "\n",
       " Variables Accuracy  Kappa AccuracySD KappaSD Selected\n",
       "         1   0.6659 0.2594    0.02312 0.06081         \n",
       "         2   0.6795 0.3121    0.02775 0.07446         \n",
       "         3   0.6815 0.3189    0.02683 0.07218         \n",
       "         4   0.7139 0.4120    0.03230 0.07984         \n",
       "         5   0.7164 0.4247    0.03241 0.07779         \n",
       "         6   0.7269 0.4471    0.03302 0.07644         \n",
       "         7   0.7394 0.4746    0.03653 0.08515         \n",
       "         8   0.7401 0.4724    0.03326 0.08104         \n",
       "         9   0.7588 0.5242    0.04262 0.09260         \n",
       "        10   0.7646 0.5339    0.03850 0.08661         \n",
       "        11   0.7660 0.5362    0.03524 0.08197         \n",
       "        12   0.7640 0.5308    0.03715 0.08579         \n",
       "        13   0.7640 0.5298    0.03746 0.08626         \n",
       "        14   0.7666 0.5350    0.03639 0.08467         \n",
       "        15   0.7644 0.5302    0.03466 0.08018         \n",
       "        16   0.7658 0.5383    0.03570 0.08130         \n",
       "        17   0.7669 0.5387    0.03562 0.08172         \n",
       "        18   0.7673 0.5386    0.03538 0.08204        *\n",
       "        19   0.7666 0.5362    0.03695 0.08435         \n",
       "        20   0.7662 0.5341    0.03678 0.08466         \n",
       "        21   0.7642 0.5299    0.03738 0.08606         \n",
       "        22   0.7636 0.5271    0.03592 0.08285         \n",
       "        23   0.7591 0.5151    0.03584 0.08532         \n",
       "        24   0.7529 0.4999    0.03578 0.08555         \n",
       "        25   0.7642 0.5301    0.03415 0.08018         \n",
       "        26   0.7647 0.5304    0.03382 0.07991         \n",
       "        27   0.7635 0.5273    0.03488 0.08143         \n",
       "        28   0.7627 0.5247    0.03563 0.08182         \n",
       "        29   0.7561 0.5086    0.03495 0.08287         \n",
       "        30   0.7537 0.5019    0.03665 0.08658         \n",
       "        31   0.7525 0.4982    0.03703 0.08882         \n",
       "        32   0.7505 0.4941    0.03650 0.08760         \n",
       "        33   0.7497 0.4918    0.03646 0.08772         \n",
       "        34   0.7493 0.4908    0.03633 0.08746         \n",
       "        35   0.7491 0.4898    0.03669 0.08835         \n",
       "        36   0.7533 0.5015    0.03782 0.08888         \n",
       "        37   0.7523 0.4987    0.03606 0.08584         \n",
       "        38   0.7495 0.4915    0.03625 0.08683         \n",
       "        39   0.7499 0.4926    0.03709 0.08866         \n",
       "        40   0.7495 0.4914    0.03641 0.08767         \n",
       "        41   0.7485 0.4895    0.03663 0.08730         \n",
       "        42   0.7491 0.4901    0.03547 0.08581         \n",
       "        43   0.7489 0.4898    0.03523 0.08549         \n",
       "        44   0.7485 0.4888    0.03650 0.08804         \n",
       "        45   0.7469 0.4846    0.03571 0.08586         \n",
       "        46   0.7469 0.4847    0.03552 0.08583         \n",
       "        47   0.7467 0.4842    0.03695 0.08800         \n",
       "        48   0.7415 0.4712    0.03438 0.08263         \n",
       "        49   0.7485 0.4890    0.03605 0.08614         \n",
       "        50   0.7481 0.4879    0.03560 0.08596         \n",
       "        51   0.7477 0.4865    0.03590 0.08711         \n",
       "        52   0.7469 0.4850    0.03629 0.08689         \n",
       "        53   0.7455 0.4819    0.03560 0.08621         \n",
       "        54   0.7441 0.4780    0.03464 0.08419         \n",
       "        55   0.7439 0.4770    0.03491 0.08490         \n",
       "        56   0.7427 0.4743    0.03528 0.08473         \n",
       "        57   0.7425 0.4726    0.03327 0.08109         \n",
       "        58   0.7425 0.4739    0.03456 0.08359         \n",
       "\n",
       "The top 5 variables (out of 18):\n",
       "   iphone, samsunggalaxy, googleandroid, iphonedisunc, iphonedispos\n"
      ]
     },
     "metadata": {},
     "output_type": "display_data"
    },
    {
     "data": {
      "image/png": "[encoded data removed]",
      "text/plain": [
       "plot without title"
      ]
     },
     "metadata": {
      "image/png": {
       "height": 420,
       "width": 420
      },
      "text/plain": {
       "height": 420,
       "width": 420
      }
     },
     "output_type": "display_data"
    }
   ],
   "source": [
    "# Feature selection. Recursive Feature Elimination\n",
    "\n",
    "set.seed(123)\n",
    "iphoneSample <- iphone[sample(1:nrow(iphone), 1000, replace=FALSE),]\n",
    "\n",
    "# Set up rfeControl with randomforest, repeated cross validation and no updates\n",
    "ctrl <- rfeControl(functions = rfFuncs, \n",
    "                   method = \"repeatedcv\",\n",
    "                   repeats = 5,\n",
    "                   verbose = FALSE)\n",
    "\n",
    "# Use rfe and omit the response variable (attribute 59 iphonesentiment) \n",
    "rfeResults <- rfe(iphoneSample[,1:(ncol(iphone)-1)], \n",
    "                  iphoneSample$iphonesentiment, \n",
    "                  sizes=(1:(ncol(iphone)-1)), \n",
    "                  rfeControl=ctrl)\n",
    "\n",
    "# Get results\n",
    "rfeResults\n",
    "\n",
    "# Plot results\n",
    "plot(rfeResults, type=c(\"g\", \"o\"))"
   ]
  },
  {
   "cell_type": "code",
   "execution_count": 16,
   "metadata": {},
   "outputs": [
    {
     "name": "stdout",
     "output_type": "stream",
     "text": [
      "'data.frame':\t12973 obs. of  19 variables:\n",
      " $ iphone         : int  1 1 1 1 1 41 1 1 1 1 ...\n",
      " $ samsunggalaxy  : int  0 0 0 0 0 0 0 0 0 0 ...\n",
      " $ googleandroid  : int  0 0 0 0 0 0 0 0 0 0 ...\n",
      " $ iphonedisunc   : int  0 0 0 0 0 4 9 0 0 0 ...\n",
      " $ iphonedispos   : int  0 0 0 0 0 1 13 0 0 0 ...\n",
      " $ iphonedisneg   : int  0 0 0 0 0 3 10 0 0 0 ...\n",
      " $ htcphone       : int  0 0 0 0 0 0 0 0 0 0 ...\n",
      " $ iphonecamneg   : int  0 0 0 0 0 3 1 0 0 0 ...\n",
      " $ iphoneperpos   : int  0 1 0 1 1 0 5 3 0 0 ...\n",
      " $ ios            : int  0 0 0 0 0 6 0 0 0 0 ...\n",
      " $ sonyxperia     : int  0 0 0 0 0 0 0 0 0 0 ...\n",
      " $ iphoneperunc   : int  0 0 0 1 0 0 5 0 0 0 ...\n",
      " $ iphonecamunc   : int  0 0 0 0 0 7 1 0 0 0 ...\n",
      " $ iphoneperneg   : int  0 0 0 0 0 0 4 1 0 0 ...\n",
      " $ htcperpos      : int  0 0 0 0 0 0 0 0 0 0 ...\n",
      " $ iphonecampos   : int  0 0 0 0 0 1 1 0 0 0 ...\n",
      " $ htccampos      : int  0 0 0 0 0 0 0 0 0 0 ...\n",
      " $ htcperneg      : int  0 0 0 0 0 0 0 0 0 0 ...\n",
      " $ iphonesentiment: Factor w/ 6 levels \"0\",\"1\",\"2\",\"3\",..: 1 1 1 1 1 5 5 1 1 1 ...\n"
     ]
    }
   ],
   "source": [
    "# create new data set with rfe recommended features\n",
    "iphoneRFE <- iphone[,predictors(rfeResults)]\n",
    "\n",
    "# add the dependent variable to iphoneRFE\n",
    "iphoneRFE$iphonesentiment <- iphone$iphonesentiment\n",
    "\n",
    "# review outcome\n",
    "str(iphoneRFE)"
   ]
  },
  {
   "cell_type": "markdown",
   "metadata": {},
   "source": [
    "<b>Modeling</b>"
   ]
  },
  {
   "cell_type": "code",
   "execution_count": 17,
   "metadata": {},
   "outputs": [],
   "source": [
    "partition <- createDataPartition(iphone$iphonesentiment, p = .70, list = FALSE)\n",
    "training <- iphone[partition,]\n",
    "testing <- iphone[-partition,]"
   ]
  },
  {
   "cell_type": "code",
   "execution_count": 18,
   "metadata": {},
   "outputs": [],
   "source": [
    "# Set 5 folds for cross-validation\n",
    "\n",
    "fitControl0 <- trainControl(method = \"repeatedcv\", number = 5, repeats = 1)"
   ]
  },
  {
   "cell_type": "code",
   "execution_count": 19,
   "metadata": {},
   "outputs": [
    {
     "data": {
      "text/html": [
       "<dl class=dl-horizontal>\n",
       "\t<dt>Accuracy</dt>\n",
       "\t\t<dd>0.770179948586118</dd>\n",
       "\t<dt>Kappa</dt>\n",
       "\t\t<dd>0.55331549246387</dd>\n",
       "</dl>\n"
      ],
      "text/latex": [
       "\\begin{description*}\n",
       "\\item[Accuracy] 0.770179948586118\n",
       "\\item[Kappa] 0.55331549246387\n",
       "\\end{description*}\n"
      ],
      "text/markdown": [
       "Accuracy\n",
       ":   0.770179948586118Kappa\n",
       ":   0.55331549246387\n",
       "\n"
      ],
      "text/plain": [
       " Accuracy     Kappa \n",
       "0.7701799 0.5533155 "
      ]
     },
     "metadata": {},
     "output_type": "display_data"
    }
   ],
   "source": [
    "# Train C5.0 model\n",
    "\n",
    "C5Fit <- train(iphonesentiment~., data = training, method = \"C5.0\", metric = 'Kappa', trControl=fitControl0, tuneLength = 1)\n",
    "\n",
    "C5Pred <- predict(C5Fit, testing)\n",
    "\n",
    "postResample(C5Pred, testing$iphonesentiment)"
   ]
  },
  {
   "cell_type": "code",
   "execution_count": 20,
   "metadata": {},
   "outputs": [
    {
     "data": {
      "text/html": [
       "<dl class=dl-horizontal>\n",
       "\t<dt>Accuracy</dt>\n",
       "\t\t<dd>0.774293059125964</dd>\n",
       "\t<dt>Kappa</dt>\n",
       "\t\t<dd>0.562385909200925</dd>\n",
       "</dl>\n"
      ],
      "text/latex": [
       "\\begin{description*}\n",
       "\\item[Accuracy] 0.774293059125964\n",
       "\\item[Kappa] 0.562385909200925\n",
       "\\end{description*}\n"
      ],
      "text/markdown": [
       "Accuracy\n",
       ":   0.774293059125964Kappa\n",
       ":   0.562385909200925\n",
       "\n"
      ],
      "text/plain": [
       " Accuracy     Kappa \n",
       "0.7742931 0.5623859 "
      ]
     },
     "metadata": {},
     "output_type": "display_data"
    }
   ],
   "source": [
    "# Train Random Forest model\n",
    "\n",
    "rfFit <- train(iphonesentiment~., data = training, method = \"rf\", metric = 'Kappa', trControl=fitControl0, tuneLength = 1)\n",
    "\n",
    "rfPred <- predict(rfFit, testing)\n",
    "\n",
    "postResample(rfPred, testing$iphonesentiment)"
   ]
  },
  {
   "cell_type": "code",
   "execution_count": 21,
   "metadata": {},
   "outputs": [
    {
     "data": {
      "text/html": [
       "<dl class=dl-horizontal>\n",
       "\t<dt>Accuracy</dt>\n",
       "\t\t<dd>0.712082262210797</dd>\n",
       "\t<dt>Kappa</dt>\n",
       "\t\t<dd>0.417572498641787</dd>\n",
       "</dl>\n"
      ],
      "text/latex": [
       "\\begin{description*}\n",
       "\\item[Accuracy] 0.712082262210797\n",
       "\\item[Kappa] 0.417572498641787\n",
       "\\end{description*}\n"
      ],
      "text/markdown": [
       "Accuracy\n",
       ":   0.712082262210797Kappa\n",
       ":   0.417572498641787\n",
       "\n"
      ],
      "text/plain": [
       " Accuracy     Kappa \n",
       "0.7120823 0.4175725 "
      ]
     },
     "metadata": {},
     "output_type": "display_data"
    }
   ],
   "source": [
    "# Train Linear Support Vector Machines\n",
    "library('e1071')\n",
    "\n",
    "\n",
    "svmFit <- svm(iphonesentiment~., data = training, kernel =\n",
    "\"linear\", metric = 'Kappa', scale = TRUE, trControl=fitControl0, tuneLength = 1)\n",
    "\n",
    "svmPred <- predict(svmFit, testing)\n",
    "\n",
    "postResample(svmPred, testing$iphonesentiment)"
   ]
  },
  {
   "cell_type": "code",
   "execution_count": 22,
   "metadata": {},
   "outputs": [
    {
     "data": {
      "text/html": [
       "<dl class=dl-horizontal>\n",
       "\t<dt>Accuracy</dt>\n",
       "\t\t<dd>0.30719794344473</dd>\n",
       "\t<dt>Kappa</dt>\n",
       "\t\t<dd>0.152347017700407</dd>\n",
       "</dl>\n"
      ],
      "text/latex": [
       "\\begin{description*}\n",
       "\\item[Accuracy] 0.30719794344473\n",
       "\\item[Kappa] 0.152347017700407\n",
       "\\end{description*}\n"
      ],
      "text/markdown": [
       "Accuracy\n",
       ":   0.30719794344473Kappa\n",
       ":   0.152347017700407\n",
       "\n"
      ],
      "text/plain": [
       " Accuracy     Kappa \n",
       "0.3071979 0.1523470 "
      ]
     },
     "metadata": {},
     "output_type": "display_data"
    }
   ],
   "source": [
    "# Train k-NN\n",
    "# install.packages('kknn')\n",
    "\n",
    "kknnFit <- train(iphonesentiment~., data = training, method = \"kknn\", preProcess = c(\"center\", \"scale\"), metric = 'Kappa', trControl=fitControl0, tuneLength = 1)\n",
    "\n",
    "kknnPred <- predict(kknnFit, testing)\n",
    "\n",
    "postResample(kknnPred, testing$iphonesentiment)"
   ]
  },
  {
   "cell_type": "code",
   "execution_count": 23,
   "metadata": {},
   "outputs": [],
   "source": [
    "# library('catboost')\n",
    "\n",
    "# labels <- as.numeric(training$iphonesentiment)\n",
    "\n",
    "# labels_test <- as.numeric(testing$iphonesentiment)\n",
    "\n",
    "# cat_training <- training[, 1:(ncol(training)-1)]\n",
    "# cat_training <- sapply(cat_training, as.numeric)\n",
    "\n",
    "# cat_testing <- testing[, 1:(ncol(training)-1)]\n",
    "# cat_testing <- sapply(cat_testing, as.numeric)\n",
    "\n",
    "\n",
    "# fit_params <- list(iterations = 5000,\n",
    "#                    loss_function = 'CrossEntropy',\n",
    "#                   eval_metric = 'Kappa',\n",
    "#                   task_type = 'CPU',\n",
    "#                   random_seed = 123)\n",
    "\n",
    "# train_pool <- catboost.load_pool(cat_training, label = labels)\n",
    "\n",
    "# test_pool <- catboost.load_pool(cat_testing, label = labels_test)\n",
    "\n",
    "# # catFit <- catboost.train(train_pool, params = fit_params)\n",
    "\n",
    "# catFit <- catboost.train(train_pool, test_pool, params = fit_params)\n",
    "\n",
    "# catPred <- catboost.predict(catFit, \n",
    "#                  test_pool)\n",
    "\n",
    "# postResample(catPred, labels_test)"
   ]
  },
  {
   "cell_type": "code",
   "execution_count": 24,
   "metadata": {},
   "outputs": [],
   "source": [
    "# catPred <- catboost.predict(catFit, \n",
    "#                  test_pool)"
   ]
  },
  {
   "cell_type": "markdown",
   "metadata": {},
   "source": [
    "The best \"out-of-the-box\" model is Random Forest. Let's apply it to feature selected datasets"
   ]
  },
  {
   "cell_type": "code",
   "execution_count": 25,
   "metadata": {},
   "outputs": [
    {
     "data": {
      "text/html": [
       "<dl class=dl-horizontal>\n",
       "\t<dt>Accuracy</dt>\n",
       "\t\t<dd>0.736760925449871</dd>\n",
       "\t<dt>Kappa</dt>\n",
       "\t\t<dd>0.492023072795199</dd>\n",
       "</dl>\n"
      ],
      "text/latex": [
       "\\begin{description*}\n",
       "\\item[Accuracy] 0.736760925449871\n",
       "\\item[Kappa] 0.492023072795199\n",
       "\\end{description*}\n"
      ],
      "text/markdown": [
       "Accuracy\n",
       ":   0.736760925449871Kappa\n",
       ":   0.492023072795199\n",
       "\n"
      ],
      "text/plain": [
       " Accuracy     Kappa \n",
       "0.7367609 0.4920231 "
      ]
     },
     "metadata": {},
     "output_type": "display_data"
    }
   ],
   "source": [
    "# Apply to a dataset where highly correlated variables are dropped\n",
    "\n",
    "partition_fcorr <- createDataPartition(iphone.f_corr$iphonesentiment, p = .70, list = FALSE)\n",
    "\n",
    "training_fcorr <- iphone.f_corr[partition_fcorr,]\n",
    "testing_fcorr <- iphone.f_corr[-partition_fcorr,]\n",
    "\n",
    "# Train Random Forest model\n",
    "\n",
    "rfcFit <- train(iphonesentiment~., data = training_fcorr, method = \"rf\", metric = 'Kappa', trControl=fitControl0, tuneLength = 1)\n",
    "\n",
    "rfcPred <- predict(rfcFit, testing_fcorr)\n",
    "\n",
    "postResample(rfcPred, testing_fcorr$iphonesentiment)"
   ]
  },
  {
   "cell_type": "code",
   "execution_count": 26,
   "metadata": {},
   "outputs": [
    {
     "data": {
      "text/html": [
       "<dl class=dl-horizontal>\n",
       "\t<dt>Accuracy</dt>\n",
       "\t\t<dd>0.776092544987147</dd>\n",
       "\t<dt>Kappa</dt>\n",
       "\t\t<dd>0.566193406970476</dd>\n",
       "</dl>\n"
      ],
      "text/latex": [
       "\\begin{description*}\n",
       "\\item[Accuracy] 0.776092544987147\n",
       "\\item[Kappa] 0.566193406970476\n",
       "\\end{description*}\n"
      ],
      "text/markdown": [
       "Accuracy\n",
       ":   0.776092544987147Kappa\n",
       ":   0.566193406970476\n",
       "\n"
      ],
      "text/plain": [
       " Accuracy     Kappa \n",
       "0.7760925 0.5661934 "
      ]
     },
     "metadata": {},
     "output_type": "display_data"
    }
   ],
   "source": [
    "# Apply to a dataset where variables are those selected by Recursive Feature Elimination\n",
    "\n",
    "partition_rfe <- createDataPartition(iphoneRFE$iphonesentiment, p = .70, list = FALSE)\n",
    "\n",
    "training_rfe <- iphoneRFE[partition_rfe,]\n",
    "testing_rfe <- iphoneRFE[-partition_rfe,]\n",
    "\n",
    "# Train Random Forest model\n",
    "\n",
    "rfeFit <- train(iphonesentiment~., data = training_rfe, method = \"rf\", metric = 'Kappa', trControl=fitControl0, tuneLength = 1)\n",
    "\n",
    "rfePred <- predict(rfeFit, testing_rfe)\n",
    "\n",
    "postResample(rfePred, testing_rfe$iphonesentiment)"
   ]
  },
  {
   "cell_type": "code",
   "execution_count": 27,
   "metadata": {},
   "outputs": [
    {
     "data": {
      "text/plain": [
       "\n",
       "Call:\n",
       "summary.resamples(object = modeldata)\n",
       "\n",
       "Models: C50, kNN, RF_base, RF_corr, RF_rfe \n",
       "Number of resamples: 5 \n",
       "\n",
       "Accuracy \n",
       "             Min.   1st Qu.    Median      Mean   3rd Qu.      Max. NA's\n",
       "C50     0.7561915 0.7662266 0.7714758 0.7714430 0.7774105 0.7859108    0\n",
       "kNN     0.3063806 0.3094714 0.3098514 0.3108018 0.3126032 0.3157025    0\n",
       "RF_base 0.7611447 0.7692731 0.7787562 0.7752948 0.7835903 0.7837094    0\n",
       "RF_corr 0.7187672 0.7319758 0.7360882 0.7332390 0.7376238 0.7417401    0\n",
       "RF_rfe  0.7623762 0.7684675 0.7762507 0.7761766 0.7830396 0.7907489    0\n",
       "\n",
       "Kappa \n",
       "             Min.   1st Qu.    Median      Mean   3rd Qu.      Max. NA's\n",
       "C50     0.5213311 0.5445564 0.5564256 0.5557969 0.5683674 0.5883037    0\n",
       "kNN     0.1445354 0.1520539 0.1548253 0.1536174 0.1573519 0.1593204    0\n",
       "RF_base 0.5344670 0.5516039 0.5758863 0.5658899 0.5826423 0.5848501    0\n",
       "RF_corr 0.4494521 0.4842918 0.4867574 0.4822184 0.4914772 0.4991134    0\n",
       "RF_rfe  0.5335012 0.5483215 0.5687710 0.5664283 0.5802356 0.6013124    0\n"
      ]
     },
     "metadata": {},
     "output_type": "display_data"
    }
   ],
   "source": [
    "###\n",
    "\n",
    "modeldata <- resamples(list(C50 = C5Fit, kNN = kknnFit, RF_base = rfFit, RF_corr = rfcFit, RF_rfe = rfeFit))\n",
    "\n",
    "summary(modeldata)"
   ]
  },
  {
   "cell_type": "code",
   "execution_count": 28,
   "metadata": {},
   "outputs": [
    {
     "data": {
      "text/plain": [
       "\n",
       "Call:\n",
       "summary.diff.resamples(object = kappaDiffs)\n",
       "\n",
       "p-value adjustment: bonferroni \n",
       "Upper diagonal: estimates of the difference\n",
       "Lower diagonal: p-value for H0: difference = 0\n",
       "\n",
       "Kappa \n",
       "        C50       kNN        RF_base    RF_corr    RF_rfe    \n",
       "C50                0.4021795 -0.0100931  0.0735785 -0.0106315\n",
       "kNN     2.841e-05            -0.4122725 -0.3286010 -0.4128110\n",
       "RF_base 1.000000  2.270e-05              0.0836715 -0.0005384\n",
       "RF_corr 0.056790  6.674e-05  0.004874              -0.0842100\n",
       "RF_rfe  1.000000  2.149e-05  1.000000   0.090588             \n"
      ]
     },
     "metadata": {},
     "output_type": "display_data"
    }
   ],
   "source": [
    "###\n",
    "\n",
    "kappaDiffs <- diff(modeldata, metric = \"Kappa\")\n",
    "summary(kappaDiffs)"
   ]
  },
  {
   "cell_type": "code",
   "execution_count": 29,
   "metadata": {},
   "outputs": [
    {
     "data": {
      "image/png": "[encoded data removed]",
      "text/plain": [
       "plot without title"
      ]
     },
     "metadata": {
      "image/png": {
       "height": 420,
       "width": 420
      },
      "text/plain": {
       "height": 420,
       "width": 420
      }
     },
     "output_type": "display_data"
    }
   ],
   "source": [
    "parallelplot(modeldata, metric = \"Kappa\")"
   ]
  },
  {
   "cell_type": "code",
   "execution_count": 30,
   "metadata": {},
   "outputs": [
    {
     "data": {
      "image/png": "[encoded data removed]",
      "text/plain": [
       "plot without title"
      ]
     },
     "metadata": {
      "image/png": {
       "height": 420,
       "width": 420
      },
      "text/plain": {
       "height": 420,
       "width": 420
      }
     },
     "output_type": "display_data"
    }
   ],
   "source": [
    "dotplot(modeldata, metric = \"Kappa\")"
   ]
  },
  {
   "cell_type": "code",
   "execution_count": 31,
   "metadata": {},
   "outputs": [
    {
     "data": {
      "text/plain": [
       "Confusion Matrix and Statistics\n",
       "\n",
       "          Reference\n",
       "Prediction    0    1    2    3    4    5\n",
       "         0  397    0    1    0    4    3\n",
       "         1    0    1    0    0    0    0\n",
       "         2    0    0   20    0    0    2\n",
       "         3    2    0    3  222    3    9\n",
       "         4    3    0    1    4  137   13\n",
       "         5  186  116  111  130  287 2235\n",
       "\n",
       "Overall Statistics\n",
       "                                          \n",
       "               Accuracy : 0.7743          \n",
       "                 95% CI : (0.7608, 0.7873)\n",
       "    No Information Rate : 0.5815          \n",
       "    P-Value [Acc > NIR] : < 2.2e-16       \n",
       "                                          \n",
       "                  Kappa : 0.5624          \n",
       "                                          \n",
       " Mcnemar's Test P-Value : NA              \n",
       "\n",
       "Statistics by Class:\n",
       "\n",
       "                     Class: 0  Class: 1 Class: 2 Class: 3 Class: 4 Class: 5\n",
       "Sensitivity            0.6752 0.0085470 0.147059  0.62360  0.31787   0.9881\n",
       "Specificity            0.9976 1.0000000 0.999467  0.99519  0.99393   0.4902\n",
       "Pos Pred Value         0.9802 1.0000000 0.909091  0.92887  0.86709   0.7292\n",
       "Neg Pred Value         0.9452 0.9701723 0.970010  0.96330  0.92122   0.9673\n",
       "Prevalence             0.1512 0.0300771 0.034961  0.09152  0.11080   0.5815\n",
       "Detection Rate         0.1021 0.0002571 0.005141  0.05707  0.03522   0.5746\n",
       "Detection Prevalence   0.1041 0.0002571 0.005656  0.06144  0.04062   0.7879\n",
       "Balanced Accuracy      0.8364 0.5042735 0.573263  0.80939  0.65590   0.7391"
      ]
     },
     "metadata": {},
     "output_type": "display_data"
    }
   ],
   "source": [
    "cmRF <- confusionMatrix(rfPred, testing$iphonesentiment) \n",
    "cmRF"
   ]
  },
  {
   "cell_type": "markdown",
   "metadata": {},
   "source": [
    "<b>Feature Engineering</b>"
   ]
  },
  {
   "cell_type": "code",
   "execution_count": 32,
   "metadata": {},
   "outputs": [
    {
     "name": "stderr",
     "output_type": "stream",
     "text": [
      "\n",
      "Attaching package: 'dplyr'\n",
      "\n",
      "\n",
      "The following objects are masked from 'package:stats':\n",
      "\n",
      "    filter, lag\n",
      "\n",
      "\n",
      "The following objects are masked from 'package:base':\n",
      "\n",
      "    intersect, setdiff, setequal, union\n",
      "\n",
      "\n"
     ]
    },
    {
     "data": {
      "text/plain": [
       "     iphone       samsunggalaxy       sonyxperia       nokialumina      \n",
       " Min.   : 0.000   Min.   :0.00000   Min.   :0.00000   Min.   :0.000000  \n",
       " 1st Qu.: 1.000   1st Qu.:0.00000   1st Qu.:0.00000   1st Qu.:0.000000  \n",
       " Median : 1.000   Median :0.00000   Median :0.00000   Median :0.000000  \n",
       " Mean   : 2.148   Mean   :0.07115   Mean   :0.02405   Mean   :0.002312  \n",
       " 3rd Qu.: 1.000   3rd Qu.:0.00000   3rd Qu.:0.00000   3rd Qu.:0.000000  \n",
       " Max.   :46.000   Max.   :8.00000   Max.   :8.00000   Max.   :2.000000  \n",
       "    htcphone             ios         googleandroid      iphonecampos     \n",
       " Min.   :  0.0000   Min.   :0.0000   Min.   :0.00000   Min.   :  0.0000  \n",
       " 1st Qu.:  0.0000   1st Qu.:0.0000   1st Qu.:0.00000   1st Qu.:  0.0000  \n",
       " Median :  0.0000   Median :0.0000   Median :0.00000   Median :  0.0000  \n",
       " Mean   :  0.1371   Mean   :0.1523   Mean   :0.03962   Mean   :  0.2896  \n",
       " 3rd Qu.:  0.0000   3rd Qu.:0.0000   3rd Qu.:0.00000   3rd Qu.:  0.0000  \n",
       " Max.   :479.0000   Max.   :6.0000   Max.   :6.00000   Max.   :156.0000  \n",
       " samsungcampos        sonycampos        nokiacampos         htccampos       \n",
       " Min.   : 0.00000   Min.   :0.000000   Min.   : 0.00000   Min.   :  0.0000  \n",
       " 1st Qu.: 0.00000   1st Qu.:0.000000   1st Qu.: 0.00000   1st Qu.:  0.0000  \n",
       " Median : 0.00000   Median :0.000000   Median : 0.00000   Median :  0.0000  \n",
       " Mean   : 0.05373   Mean   :0.009944   Mean   : 0.00686   Mean   :  0.1132  \n",
       " 3rd Qu.: 0.00000   3rd Qu.:0.000000   3rd Qu.: 0.00000   3rd Qu.:  0.0000  \n",
       " Max.   :65.00000   Max.   :8.000000   Max.   :17.00000   Max.   :156.0000  \n",
       "  iphonecamneg     samsungcamneg        sonycamneg        nokiacamneg       \n",
       " Min.   : 0.0000   Min.   : 0.00000   Min.   :0.000000   Min.   : 0.000000  \n",
       " 1st Qu.: 0.0000   1st Qu.: 0.00000   1st Qu.:0.000000   1st Qu.: 0.000000  \n",
       " Median : 0.0000   Median : 0.00000   Median :0.000000   Median : 0.000000  \n",
       " Mean   : 0.2346   Mean   : 0.05473   Mean   :0.002312   Mean   : 0.006167  \n",
       " 3rd Qu.: 0.0000   3rd Qu.: 0.00000   3rd Qu.:0.000000   3rd Qu.: 0.000000  \n",
       " Max.   :31.0000   Max.   :17.00000   Max.   :5.000000   Max.   :12.000000  \n",
       "   htccamneg         iphonecamunc     samsungcamunc        sonycamunc      \n",
       " Min.   : 0.00000   Min.   : 0.0000   Min.   : 0.00000   Min.   :0.000000  \n",
       " 1st Qu.: 0.00000   1st Qu.: 0.0000   1st Qu.: 0.00000   1st Qu.:0.000000  \n",
       " Median : 0.00000   Median : 0.0000   Median : 0.00000   Median :0.000000  \n",
       " Mean   : 0.09296   Mean   : 0.2535   Mean   : 0.01873   Mean   :0.003237  \n",
       " 3rd Qu.: 0.00000   3rd Qu.: 0.0000   3rd Qu.: 0.00000   3rd Qu.:0.000000  \n",
       " Max.   :21.00000   Max.   :45.0000   Max.   :11.00000   Max.   :4.000000  \n",
       "  nokiacamunc          htccamunc        iphonedispos     samsungdispos     \n",
       " Min.   : 0.000000   Min.   : 0.0000   Min.   : 0.0000   Min.   : 0.00000  \n",
       " 1st Qu.: 0.000000   1st Qu.: 0.0000   1st Qu.: 0.0000   1st Qu.: 0.00000  \n",
       " Median : 0.000000   Median : 0.0000   Median : 0.0000   Median : 0.00000  \n",
       " Mean   : 0.003623   Mean   : 0.0471   Mean   : 0.7172   Mean   : 0.06313  \n",
       " 3rd Qu.: 0.000000   3rd Qu.: 0.0000   3rd Qu.: 0.0000   3rd Qu.: 0.00000  \n",
       " Max.   :10.000000   Max.   :20.0000   Max.   :66.0000   Max.   :51.00000  \n",
       "   sonydispos        nokiadispos          htcdispos         iphonedisneg     \n",
       " Min.   : 0.00000   Min.   : 0.000000   Min.   :  0.0000   Min.   :  0.0000  \n",
       " 1st Qu.: 0.00000   1st Qu.: 0.000000   1st Qu.:  0.0000   1st Qu.:  0.0000  \n",
       " Median : 0.00000   Median : 0.000000   Median :  0.0000   Median :  0.0000  \n",
       " Mean   : 0.01141   Mean   : 0.009944   Mean   :  0.1581   Mean   :  0.6085  \n",
       " 3rd Qu.: 0.00000   3rd Qu.: 0.000000   3rd Qu.:  0.0000   3rd Qu.:  0.0000  \n",
       " Max.   :32.00000   Max.   :23.000000   Max.   :479.0000   Max.   :120.0000  \n",
       " samsungdisneg        sonydisneg        nokiadisneg         htcdisneg      \n",
       " Min.   : 0.00000   Min.   : 0.00000   Min.   : 0.00000   Min.   : 0.0000  \n",
       " 1st Qu.: 0.00000   1st Qu.: 0.00000   1st Qu.: 0.00000   1st Qu.: 0.0000  \n",
       " Median : 0.00000   Median : 0.00000   Median : 0.00000   Median : 0.0000  \n",
       " Mean   : 0.06598   Mean   : 0.01241   Mean   : 0.00794   Mean   : 0.1163  \n",
       " 3rd Qu.: 0.00000   3rd Qu.: 0.00000   3rd Qu.: 0.00000   3rd Qu.: 0.0000  \n",
       " Max.   :48.00000   Max.   :97.00000   Max.   :18.00000   Max.   :48.0000  \n",
       "  iphonedisunc     samsungdisunc        sonydisunc         nokiadisunc       \n",
       " Min.   : 0.0000   Min.   : 0.00000   Min.   : 0.000000   Min.   : 0.000000  \n",
       " 1st Qu.: 0.0000   1st Qu.: 0.00000   1st Qu.: 0.000000   1st Qu.: 0.000000  \n",
       " Median : 0.0000   Median : 0.00000   Median : 0.000000   Median : 0.000000  \n",
       " Mean   : 0.5049   Mean   : 0.02713   Mean   : 0.004548   Mean   : 0.004933  \n",
       " 3rd Qu.: 0.0000   3rd Qu.: 0.00000   3rd Qu.: 0.000000   3rd Qu.: 0.000000  \n",
       " Max.   :77.0000   Max.   :42.00000   Max.   :11.000000   Max.   :16.000000  \n",
       "   htcdisunc         iphoneperpos     samsungperpos       sonyperpos       \n",
       " Min.   : 0.00000   Min.   : 0.0000   Min.   : 0.0000   Min.   : 0.000000  \n",
       " 1st Qu.: 0.00000   1st Qu.: 0.0000   1st Qu.: 0.0000   1st Qu.: 0.000000  \n",
       " Median : 0.00000   Median : 0.0000   Median : 0.0000   Median : 0.000000  \n",
       " Mean   : 0.06259   Mean   : 0.6054   Mean   : 0.0619   Mean   : 0.008633  \n",
       " 3rd Qu.: 0.00000   3rd Qu.: 0.0000   3rd Qu.: 0.0000   3rd Qu.: 0.000000  \n",
       " Max.   :42.00000   Max.   :46.0000   Max.   :57.0000   Max.   :14.000000  \n",
       "  nokiaperpos         htcperpos       iphoneperneg     samsungperneg     \n",
       " Min.   : 0.00000   Min.   : 0.000   Min.   : 0.0000   Min.   : 0.00000  \n",
       " 1st Qu.: 0.00000   1st Qu.: 0.000   1st Qu.: 0.0000   1st Qu.: 0.00000  \n",
       " Median : 0.00000   Median : 0.000   Median : 0.0000   Median : 0.00000  \n",
       " Mean   : 0.01064   Mean   : 0.128   Mean   : 0.4866   Mean   : 0.06413  \n",
       " 3rd Qu.: 0.00000   3rd Qu.: 0.000   3rd Qu.: 0.0000   3rd Qu.: 0.00000  \n",
       " Max.   :21.00000   Max.   :65.000   Max.   :33.0000   Max.   :33.00000  \n",
       "   sonyperneg         nokiaperneg         htcperneg        iphoneperunc    \n",
       " Min.   : 0.000000   Min.   : 0.00000   Min.   : 0.0000   Min.   : 0.0000  \n",
       " 1st Qu.: 0.000000   1st Qu.: 0.00000   1st Qu.: 0.0000   1st Qu.: 0.0000  \n",
       " Median : 0.000000   Median : 0.00000   Median : 0.0000   Median : 0.0000  \n",
       " Mean   : 0.006398   Mean   : 0.01025   Mean   : 0.1204   Mean   : 0.2991  \n",
       " 3rd Qu.: 0.000000   3rd Qu.: 0.00000   3rd Qu.: 0.0000   3rd Qu.: 0.0000  \n",
       " Max.   :28.000000   Max.   :18.00000   Max.   :33.0000   Max.   :31.0000  \n",
       " samsungperunc        sonyperunc        nokiaperunc         htcperunc       \n",
       " Min.   : 0.00000   Min.   :0.000000   Min.   : 0.00000   Min.   : 0.00000  \n",
       " 1st Qu.: 0.00000   1st Qu.:0.000000   1st Qu.: 0.00000   1st Qu.: 0.00000  \n",
       " Median : 0.00000   Median :0.000000   Median : 0.00000   Median : 0.00000  \n",
       " Mean   : 0.02212   Mean   :0.002312   Mean   : 0.00555   Mean   : 0.06413  \n",
       " 3rd Qu.: 0.00000   3rd Qu.:0.000000   3rd Qu.: 0.00000   3rd Qu.: 0.00000  \n",
       " Max.   :31.00000   Max.   :5.000000   Max.   :13.00000   Max.   :59.00000  \n",
       "   iosperpos        googleperpos        iosperneg         googleperneg    \n",
       " Min.   : 0.0000   Min.   : 0.00000   Min.   : 0.00000   Min.   : 0.0000  \n",
       " 1st Qu.: 0.0000   1st Qu.: 0.00000   1st Qu.: 0.00000   1st Qu.: 0.0000  \n",
       " Median : 0.0000   Median : 0.00000   Median : 0.00000   Median : 0.0000  \n",
       " Mean   : 0.0592   Mean   : 0.03854   Mean   : 0.05758   Mean   : 0.0582  \n",
       " 3rd Qu.: 0.0000   3rd Qu.: 0.00000   3rd Qu.: 0.00000   3rd Qu.: 0.0000  \n",
       " Max.   :26.0000   Max.   :24.00000   Max.   :20.00000   Max.   :25.0000  \n",
       "   iosperunc         googleperunc      iphonesentiment\n",
       " Min.   : 0.00000   Min.   : 0.00000   Min.   :1.000  \n",
       " 1st Qu.: 0.00000   1st Qu.: 0.00000   1st Qu.:3.000  \n",
       " Median : 0.00000   Median : 0.00000   Median :4.000  \n",
       " Mean   : 0.03307   Mean   : 0.01611   Mean   :3.295  \n",
       " 3rd Qu.: 0.00000   3rd Qu.: 0.00000   3rd Qu.:4.000  \n",
       " Max.   :10.00000   Max.   :24.00000   Max.   :4.000  "
      ]
     },
     "metadata": {},
     "output_type": "display_data"
    },
    {
     "name": "stdout",
     "output_type": "stream",
     "text": [
      "'data.frame':\t12973 obs. of  59 variables:\n",
      " $ iphone         : int  1 1 1 1 1 41 1 1 1 1 ...\n",
      " $ samsunggalaxy  : int  0 0 0 0 0 0 0 0 0 0 ...\n",
      " $ sonyxperia     : int  0 0 0 0 0 0 0 0 0 0 ...\n",
      " $ nokialumina    : int  0 0 0 0 0 0 0 0 0 0 ...\n",
      " $ htcphone       : int  0 0 0 0 0 0 0 0 0 0 ...\n",
      " $ ios            : int  0 0 0 0 0 6 0 0 0 0 ...\n",
      " $ googleandroid  : int  0 0 0 0 0 0 0 0 0 0 ...\n",
      " $ iphonecampos   : int  0 0 0 0 0 1 1 0 0 0 ...\n",
      " $ samsungcampos  : int  0 0 0 0 0 0 0 0 0 0 ...\n",
      " $ sonycampos     : int  0 0 0 0 0 0 0 0 0 0 ...\n",
      " $ nokiacampos    : int  0 0 0 0 0 0 0 0 0 0 ...\n",
      " $ htccampos      : int  0 0 0 0 0 0 0 0 0 0 ...\n",
      " $ iphonecamneg   : int  0 0 0 0 0 3 1 0 0 0 ...\n",
      " $ samsungcamneg  : int  0 0 0 0 0 0 0 0 0 0 ...\n",
      " $ sonycamneg     : int  0 0 0 0 0 0 0 0 0 0 ...\n",
      " $ nokiacamneg    : int  0 0 0 0 0 0 0 0 0 0 ...\n",
      " $ htccamneg      : int  0 0 0 0 0 0 0 0 0 0 ...\n",
      " $ iphonecamunc   : int  0 0 0 0 0 7 1 0 0 0 ...\n",
      " $ samsungcamunc  : int  0 0 0 0 0 0 0 0 0 0 ...\n",
      " $ sonycamunc     : int  0 0 0 0 0 0 0 0 0 0 ...\n",
      " $ nokiacamunc    : int  0 0 0 0 0 0 0 0 0 0 ...\n",
      " $ htccamunc      : int  0 0 0 0 0 0 0 0 0 0 ...\n",
      " $ iphonedispos   : int  0 0 0 0 0 1 13 0 0 0 ...\n",
      " $ samsungdispos  : int  0 0 0 0 0 0 0 0 0 0 ...\n",
      " $ sonydispos     : int  0 0 0 0 0 0 0 0 0 0 ...\n",
      " $ nokiadispos    : int  0 0 0 0 0 0 0 0 0 0 ...\n",
      " $ htcdispos      : int  0 0 0 0 0 0 0 0 0 0 ...\n",
      " $ iphonedisneg   : int  0 0 0 0 0 3 10 0 0 0 ...\n",
      " $ samsungdisneg  : int  0 0 0 0 0 0 0 0 0 0 ...\n",
      " $ sonydisneg     : int  0 0 0 0 0 0 0 0 0 0 ...\n",
      " $ nokiadisneg    : int  0 0 0 0 0 0 0 0 0 0 ...\n",
      " $ htcdisneg      : int  0 0 0 0 0 0 0 0 0 0 ...\n",
      " $ iphonedisunc   : int  0 0 0 0 0 4 9 0 0 0 ...\n",
      " $ samsungdisunc  : int  0 0 0 0 0 0 0 0 0 0 ...\n",
      " $ sonydisunc     : int  0 0 0 0 0 0 0 0 0 0 ...\n",
      " $ nokiadisunc    : int  0 0 0 0 0 0 0 0 0 0 ...\n",
      " $ htcdisunc      : int  0 0 0 0 0 0 0 0 0 0 ...\n",
      " $ iphoneperpos   : int  0 1 0 1 1 0 5 3 0 0 ...\n",
      " $ samsungperpos  : int  0 0 0 0 0 0 0 0 0 0 ...\n",
      " $ sonyperpos     : int  0 0 0 0 0 0 0 0 0 0 ...\n",
      " $ nokiaperpos    : int  0 0 0 0 0 0 0 0 0 0 ...\n",
      " $ htcperpos      : int  0 0 0 0 0 0 0 0 0 0 ...\n",
      " $ iphoneperneg   : int  0 0 0 0 0 0 4 1 0 0 ...\n",
      " $ samsungperneg  : int  0 0 0 0 0 0 0 0 0 0 ...\n",
      " $ sonyperneg     : int  0 0 0 0 0 0 0 0 0 0 ...\n",
      " $ nokiaperneg    : int  0 0 0 0 0 0 0 0 0 0 ...\n",
      " $ htcperneg      : int  0 0 0 0 0 0 0 0 0 0 ...\n",
      " $ iphoneperunc   : int  0 0 0 1 0 0 5 0 0 0 ...\n",
      " $ samsungperunc  : int  0 0 0 0 0 0 0 0 0 0 ...\n",
      " $ sonyperunc     : int  0 0 0 0 0 0 0 0 0 0 ...\n",
      " $ nokiaperunc    : int  0 0 0 0 0 0 0 0 0 0 ...\n",
      " $ htcperunc      : int  0 0 0 0 0 0 0 0 0 0 ...\n",
      " $ iosperpos      : int  0 0 0 0 0 0 0 0 0 0 ...\n",
      " $ googleperpos   : int  0 0 0 0 0 0 0 0 0 0 ...\n",
      " $ iosperneg      : int  0 0 0 0 0 0 0 0 0 0 ...\n",
      " $ googleperneg   : int  0 0 0 0 0 0 0 0 0 0 ...\n",
      " $ iosperunc      : int  0 0 0 0 0 0 0 0 0 0 ...\n",
      " $ googleperunc   : int  0 0 0 0 0 0 0 0 0 0 ...\n",
      " $ iphonesentiment: num  1 1 1 1 1 4 4 1 1 1 ...\n"
     ]
    }
   ],
   "source": [
    "library('dplyr')\n",
    "\n",
    "# create a new dataset that will be used for recoding sentiment\n",
    "iphoneRC <- iphone\n",
    "\n",
    "# recode sentiment to combine factor levels 0 & 1 and 4 & 5\n",
    "iphoneRC$iphonesentiment <- recode(iphoneRC$iphonesentiment, '0' = 1, '1' = 1, '2' = 2, '3' = 3, '4' = 4, '5' = 4) \n",
    "\n",
    "# inspect results\n",
    "summary(iphoneRC)\n",
    "str(iphoneRC)\n",
    "\n",
    "# make iphonesentiment a factor\n",
    "iphoneRC$iphonesentiment <- as.factor(iphoneRC$iphonesentiment)"
   ]
  },
  {
   "cell_type": "code",
   "execution_count": 33,
   "metadata": {},
   "outputs": [
    {
     "data": {
      "text/html": [
       "<dl class=dl-horizontal>\n",
       "\t<dt>Accuracy</dt>\n",
       "\t\t<dd>0.850899742930591</dd>\n",
       "\t<dt>Kappa</dt>\n",
       "\t\t<dd>0.629926879311909</dd>\n",
       "</dl>\n"
      ],
      "text/latex": [
       "\\begin{description*}\n",
       "\\item[Accuracy] 0.850899742930591\n",
       "\\item[Kappa] 0.629926879311909\n",
       "\\end{description*}\n"
      ],
      "text/markdown": [
       "Accuracy\n",
       ":   0.850899742930591Kappa\n",
       ":   0.629926879311909\n",
       "\n"
      ],
      "text/plain": [
       " Accuracy     Kappa \n",
       "0.8508997 0.6299269 "
      ]
     },
     "metadata": {},
     "output_type": "display_data"
    }
   ],
   "source": [
    "# Apply Random Forest to recoded dataset\n",
    "\n",
    "partition_rc <- createDataPartition(iphoneRC$iphonesentiment, p = .70, list = FALSE)\n",
    "\n",
    "training_rc <- iphoneRC[partition_rc,]\n",
    "testing_rc <- iphoneRC[-partition_rc,]\n",
    "\n",
    "# Train Random Forest model\n",
    "\n",
    "rcFit <- train(iphonesentiment~., data = training_rc, method = \"rf\", metric = 'Kappa', trControl=fitControl0, tuneLength = 1)\n",
    "\n",
    "rcPred <- predict(rcFit, testing_rc)\n",
    "\n",
    "postResample(rcPred, testing_rc$iphonesentiment)"
   ]
  },
  {
   "cell_type": "code",
   "execution_count": 34,
   "metadata": {},
   "outputs": [
    {
     "data": {
      "text/plain": [
       "Confusion Matrix and Statistics\n",
       "\n",
       "          Reference\n",
       "Prediction    1    2    3    4\n",
       "         1  397    1    2   14\n",
       "         2    0   12    0    0\n",
       "         3    4    1  234   12\n",
       "         4  304  122  120 2667\n",
       "\n",
       "Overall Statistics\n",
       "                                         \n",
       "               Accuracy : 0.8509         \n",
       "                 95% CI : (0.8393, 0.862)\n",
       "    No Information Rate : 0.6923         \n",
       "    P-Value [Acc > NIR] : < 2.2e-16      \n",
       "                                         \n",
       "                  Kappa : 0.6299         \n",
       "                                         \n",
       " Mcnemar's Test P-Value : < 2.2e-16      \n",
       "\n",
       "Statistics by Class:\n",
       "\n",
       "                     Class: 1 Class: 2 Class: 3 Class: 4\n",
       "Sensitivity            0.5631 0.088235  0.65730   0.9903\n",
       "Specificity            0.9947 1.000000  0.99519   0.5439\n",
       "Pos Pred Value         0.9589 1.000000  0.93227   0.8301\n",
       "Neg Pred Value         0.9114 0.968025  0.96647   0.9616\n",
       "Prevalence             0.1812 0.034961  0.09152   0.6923\n",
       "Detection Rate         0.1021 0.003085  0.06015   0.6856\n",
       "Detection Prevalence   0.1064 0.003085  0.06452   0.8260\n",
       "Balanced Accuracy      0.7789 0.544118  0.82625   0.7671"
      ]
     },
     "metadata": {},
     "output_type": "display_data"
    }
   ],
   "source": [
    "cmRFrc <- confusionMatrix(rcPred, testing_rc$iphonesentiment) \n",
    "cmRFrc"
   ]
  },
  {
   "cell_type": "markdown",
   "metadata": {},
   "source": [
    "Accuracy increased significantly, as well as a kappa score."
   ]
  },
  {
   "cell_type": "markdown",
   "metadata": {},
   "source": [
    "PCA"
   ]
  },
  {
   "cell_type": "code",
   "execution_count": 35,
   "metadata": {},
   "outputs": [
    {
     "name": "stdout",
     "output_type": "stream",
     "text": [
      "Created from 9083 samples and 58 variables\n",
      "\n",
      "Pre-processing:\n",
      "  - centered (58)\n",
      "  - ignored (0)\n",
      "  - principal component signal extraction (58)\n",
      "  - scaled (58)\n",
      "\n",
      "PCA needed 24 components to capture 95 percent of the variance\n"
     ]
    }
   ],
   "source": [
    "# data = training and testing from iphoneDF (no feature selection) \n",
    "# create object containing centered, scaled PCA components from training set\n",
    "# excluded the dependent variable and set threshold to .95\n",
    "\n",
    "preprocessParams <- preProcess(training[,-59], method=c(\"center\", \"scale\", \"pca\"), thresh = 0.95)\n",
    "\n",
    "print(preprocessParams)"
   ]
  },
  {
   "cell_type": "code",
   "execution_count": 36,
   "metadata": {},
   "outputs": [
    {
     "name": "stdout",
     "output_type": "stream",
     "text": [
      "'data.frame':\t9083 obs. of  25 variables:\n",
      " $ PC1            : num  -0.692 -0.536 -0.633 -0.692 -0.692 ...\n",
      " $ PC2            : num  0.00637 -0.01305 0.00136 0.00637 0.00637 ...\n",
      " $ PC3            : num  -0.4724 -0.0231 -0.2996 -0.4724 -0.4724 ...\n",
      " $ PC4            : num  0.33 0.143 0.259 0.33 0.33 ...\n",
      " $ PC5            : num  -0.157 -0.2 -0.151 -0.157 -0.157 ...\n",
      " $ PC6            : num  0.241 0.375 0.277 0.241 0.241 ...\n",
      " $ PC7            : num  -0.115 -0.184 -0.118 -0.115 -0.115 ...\n",
      " $ PC8            : num  -0.0731 0.094 0.0105 -0.0731 -0.0731 ...\n",
      " $ PC9            : num  -0.012 -0.0169 -0.0175 -0.012 -0.012 ...\n",
      " $ PC10           : num  0.134 0.121 0.125 0.134 0.134 ...\n",
      " $ PC11           : num  0.146 0.216 0.225 0.146 0.146 ...\n",
      " $ PC12           : num  -0.236 -0.237 -0.236 -0.236 -0.236 ...\n",
      " $ PC13           : num  -0.0508 0.023 -0.0153 -0.0508 -0.0508 ...\n",
      " $ PC14           : num  0.0289 0.0478 0.0409 0.0289 0.0289 ...\n",
      " $ PC15           : num  0.00968 0.09977 0.04373 0.00968 0.00968 ...\n",
      " $ PC16           : num  0.06716 -0.19873 0.00222 0.06716 0.06716 ...\n",
      " $ PC17           : num  0.021 0.105 0.0267 0.021 0.021 ...\n",
      " $ PC18           : num  -0.0935 0.4672 0.1463 -0.0935 -0.0935 ...\n",
      " $ PC19           : num  -0.031 -0.0819 -0.099 -0.031 -0.031 ...\n",
      " $ PC20           : num  -0.0382 0.0443 0.0151 -0.0382 -0.0382 ...\n",
      " $ PC21           : num  -0.08028 0.00389 -0.09143 -0.08028 -0.08028 ...\n",
      " $ PC22           : num  0.044 -0.06179 0.00689 0.044 0.044 ...\n",
      " $ PC23           : num  -0.0207 -0.2174 0.0384 -0.0207 -0.0207 ...\n",
      " $ PC24           : num  -0.0161 -0.1077 0.0394 -0.0161 -0.0161 ...\n",
      " $ iphonesentiment: Factor w/ 6 levels \"0\",\"1\",\"2\",\"3\",..: 1 1 1 1 1 1 1 1 1 1 ...\n",
      "'data.frame':\t3890 obs. of  25 variables:\n",
      " $ PC1            : num  -0.692 -0.633 0.531 1.671 -0.437 ...\n",
      " $ PC2            : num  0.00637 0.00136 -0.20593 -0.32492 -0.01744 ...\n",
      " $ PC3            : num  -0.472 -0.3 3.472 6.831 0.225 ...\n",
      " $ PC4            : num  0.3297 0.2591 -1.5065 -2.8479 0.0376 ...\n",
      " $ PC5            : num  -0.157 -0.151 1.481 -0.472 -0.185 ...\n",
      " $ PC6            : num  0.241 0.277 -7.583 0.228 0.381 ...\n",
      " $ PC7            : num  -0.115 -0.118 0.252 -2.6 -0.111 ...\n",
      " $ PC8            : num  -0.0731 0.0105 -7.5818 2.1858 0.2859 ...\n",
      " $ PC9            : num  -0.012 -0.0175 -0.1595 0.1371 -0.0289 ...\n",
      " $ PC10           : num  0.1344 0.1246 -0.0511 0.0572 0.1287 ...\n",
      " $ PC11           : num  0.146 0.225 -1.727 -0.745 0.332 ...\n",
      " $ PC12           : num  -0.236 -0.236 0.365 0.117 -0.244 ...\n",
      " $ PC13           : num  -0.0508 -0.0153 -0.7121 -0.6246 0.0778 ...\n",
      " $ PC14           : num  0.0289 0.0409 0.1543 -0.0984 0.0725 ...\n",
      " $ PC15           : num  0.00968 0.04373 -0.02518 -0.0373 0.13657 ...\n",
      " $ PC16           : num  0.06716 0.00222 0.5552 0.02503 -0.21461 ...\n",
      " $ PC17           : num  0.021 0.0267 -0.4079 0.2052 0.0518 ...\n",
      " $ PC18           : num  -0.0935 0.1463 0.6613 -0.2843 0.7705 ...\n",
      " $ PC19           : num  -0.031 -0.099 -0.263 0.255 -0.302 ...\n",
      " $ PC20           : num  -0.0382 0.0151 0.1259 -0.1764 0.1807 ...\n",
      " $ PC21           : num  -0.0803 -0.0914 -0.0315 0.3074 -0.1787 ...\n",
      " $ PC22           : num  0.044 0.00689 -0.01981 -0.0547 -0.04927 ...\n",
      " $ PC23           : num  -0.0207 0.0384 0.0998 -0.5347 0.2163 ...\n",
      " $ PC24           : num  -0.0161 0.0394 0.0698 -0.4637 0.2634 ...\n",
      " $ iphonesentiment: Factor w/ 6 levels \"0\",\"1\",\"2\",\"3\",..: 1 1 5 5 1 1 4 1 1 1 ...\n"
     ]
    }
   ],
   "source": [
    "# use predict to apply pca parameters, create training, exclude dependant\n",
    "train.pca <- predict(preprocessParams, training[,-59])\n",
    "\n",
    "# add the dependent to training\n",
    "train.pca$iphonesentiment <- training$iphonesentiment\n",
    "\n",
    "# use predict to apply pca parameters, create testing, exclude dependant\n",
    "test.pca <- predict(preprocessParams, testing[,-59])\n",
    "\n",
    "# add the dependent to training\n",
    "test.pca$iphonesentiment <- testing$iphonesentiment\n",
    "\n",
    "# inspect results\n",
    "str(train.pca)\n",
    "str(test.pca)"
   ]
  },
  {
   "cell_type": "code",
   "execution_count": 37,
   "metadata": {},
   "outputs": [
    {
     "data": {
      "text/html": [
       "<dl class=dl-horizontal>\n",
       "\t<dt>Accuracy</dt>\n",
       "\t\t<dd>0.763496143958869</dd>\n",
       "\t<dt>Kappa</dt>\n",
       "\t\t<dd>0.544795966506609</dd>\n",
       "</dl>\n"
      ],
      "text/latex": [
       "\\begin{description*}\n",
       "\\item[Accuracy] 0.763496143958869\n",
       "\\item[Kappa] 0.544795966506609\n",
       "\\end{description*}\n"
      ],
      "text/markdown": [
       "Accuracy\n",
       ":   0.763496143958869Kappa\n",
       ":   0.544795966506609\n",
       "\n"
      ],
      "text/plain": [
       " Accuracy     Kappa \n",
       "0.7634961 0.5447960 "
      ]
     },
     "metadata": {},
     "output_type": "display_data"
    }
   ],
   "source": [
    "# Apply Random Forest to PCA transformed dataset\n",
    "\n",
    "# Train Random Forest model\n",
    "\n",
    "pcaFit <- train(iphonesentiment~., data = train.pca, method = \"rf\", metric = 'Kappa', trControl=fitControl0, tuneLength = 1)\n",
    "\n",
    "pcaPred <- predict(pcaFit, test.pca)\n",
    "\n",
    "postResample(pcaPred, test.pca$iphonesentiment)"
   ]
  },
  {
   "cell_type": "code",
   "execution_count": 38,
   "metadata": {},
   "outputs": [
    {
     "data": {
      "text/plain": [
       "Confusion Matrix and Statistics\n",
       "\n",
       "          Reference\n",
       "Prediction    0    1    2    3    4    5\n",
       "         0  401    0    6    8   13   23\n",
       "         1    0    1    0    0    0    2\n",
       "         2    3    1   20    0    0    9\n",
       "         3    0    0    0  212    0    6\n",
       "         4    5    0    1    4  129   15\n",
       "         5  179  115  109  132  289 2207\n",
       "\n",
       "Overall Statistics\n",
       "                                          \n",
       "               Accuracy : 0.7635          \n",
       "                 95% CI : (0.7498, 0.7768)\n",
       "    No Information Rate : 0.5815          \n",
       "    P-Value [Acc > NIR] : < 2.2e-16       \n",
       "                                          \n",
       "                  Kappa : 0.5448          \n",
       "                                          \n",
       " Mcnemar's Test P-Value : NA              \n",
       "\n",
       "Statistics by Class:\n",
       "\n",
       "                     Class: 0  Class: 1 Class: 2 Class: 3 Class: 4 Class: 5\n",
       "Sensitivity            0.6820 0.0085470 0.147059  0.59551  0.29930   0.9757\n",
       "Specificity            0.9849 0.9994699 0.996537  0.99830  0.99277   0.4939\n",
       "Pos Pred Value         0.8891 0.3333333 0.606061  0.97248  0.83766   0.7281\n",
       "Neg Pred Value         0.9456 0.9701569 0.969925  0.96078  0.91916   0.9360\n",
       "Prevalence             0.1512 0.0300771 0.034961  0.09152  0.11080   0.5815\n",
       "Detection Rate         0.1031 0.0002571 0.005141  0.05450  0.03316   0.5674\n",
       "Detection Prevalence   0.1159 0.0007712 0.008483  0.05604  0.03959   0.7792\n",
       "Balanced Accuracy      0.8334 0.5040085 0.571798  0.79690  0.64604   0.7348"
      ]
     },
     "metadata": {},
     "output_type": "display_data"
    }
   ],
   "source": [
    "cmRFpca <- confusionMatrix(pcaPred, test.pca$iphonesentiment) \n",
    "cmRFpca"
   ]
  },
  {
   "cell_type": "code",
   "execution_count": 39,
   "metadata": {},
   "outputs": [
    {
     "data": {
      "text/plain": [
       "     iphone       samsunggalaxy       sonyxperia       nokialumina      \n",
       " Min.   : 0.000   Min.   :0.00000   Min.   :0.00000   Min.   :0.000000  \n",
       " 1st Qu.: 1.000   1st Qu.:0.00000   1st Qu.:0.00000   1st Qu.:0.000000  \n",
       " Median : 1.000   Median :0.00000   Median :0.00000   Median :0.000000  \n",
       " Mean   : 2.148   Mean   :0.07115   Mean   :0.02405   Mean   :0.002312  \n",
       " 3rd Qu.: 1.000   3rd Qu.:0.00000   3rd Qu.:0.00000   3rd Qu.:0.000000  \n",
       " Max.   :46.000   Max.   :8.00000   Max.   :8.00000   Max.   :2.000000  \n",
       "    htcphone             ios         googleandroid      iphonecampos     \n",
       " Min.   :  0.0000   Min.   :0.0000   Min.   :0.00000   Min.   :  0.0000  \n",
       " 1st Qu.:  0.0000   1st Qu.:0.0000   1st Qu.:0.00000   1st Qu.:  0.0000  \n",
       " Median :  0.0000   Median :0.0000   Median :0.00000   Median :  0.0000  \n",
       " Mean   :  0.1371   Mean   :0.1523   Mean   :0.03962   Mean   :  0.2896  \n",
       " 3rd Qu.:  0.0000   3rd Qu.:0.0000   3rd Qu.:0.00000   3rd Qu.:  0.0000  \n",
       " Max.   :479.0000   Max.   :6.0000   Max.   :6.00000   Max.   :156.0000  \n",
       " samsungcampos        sonycampos        nokiacampos         htccampos       \n",
       " Min.   : 0.00000   Min.   :0.000000   Min.   : 0.00000   Min.   :  0.0000  \n",
       " 1st Qu.: 0.00000   1st Qu.:0.000000   1st Qu.: 0.00000   1st Qu.:  0.0000  \n",
       " Median : 0.00000   Median :0.000000   Median : 0.00000   Median :  0.0000  \n",
       " Mean   : 0.05373   Mean   :0.009944   Mean   : 0.00686   Mean   :  0.1132  \n",
       " 3rd Qu.: 0.00000   3rd Qu.:0.000000   3rd Qu.: 0.00000   3rd Qu.:  0.0000  \n",
       " Max.   :65.00000   Max.   :8.000000   Max.   :17.00000   Max.   :156.0000  \n",
       "  iphonecamneg     samsungcamneg        sonycamneg        nokiacamneg       \n",
       " Min.   : 0.0000   Min.   : 0.00000   Min.   :0.000000   Min.   : 0.000000  \n",
       " 1st Qu.: 0.0000   1st Qu.: 0.00000   1st Qu.:0.000000   1st Qu.: 0.000000  \n",
       " Median : 0.0000   Median : 0.00000   Median :0.000000   Median : 0.000000  \n",
       " Mean   : 0.2346   Mean   : 0.05473   Mean   :0.002312   Mean   : 0.006167  \n",
       " 3rd Qu.: 0.0000   3rd Qu.: 0.00000   3rd Qu.:0.000000   3rd Qu.: 0.000000  \n",
       " Max.   :31.0000   Max.   :17.00000   Max.   :5.000000   Max.   :12.000000  \n",
       "   htccamneg         iphonecamunc     samsungcamunc        sonycamunc      \n",
       " Min.   : 0.00000   Min.   : 0.0000   Min.   : 0.00000   Min.   :0.000000  \n",
       " 1st Qu.: 0.00000   1st Qu.: 0.0000   1st Qu.: 0.00000   1st Qu.:0.000000  \n",
       " Median : 0.00000   Median : 0.0000   Median : 0.00000   Median :0.000000  \n",
       " Mean   : 0.09296   Mean   : 0.2535   Mean   : 0.01873   Mean   :0.003237  \n",
       " 3rd Qu.: 0.00000   3rd Qu.: 0.0000   3rd Qu.: 0.00000   3rd Qu.:0.000000  \n",
       " Max.   :21.00000   Max.   :45.0000   Max.   :11.00000   Max.   :4.000000  \n",
       "  nokiacamunc          htccamunc        iphonedispos     samsungdispos     \n",
       " Min.   : 0.000000   Min.   : 0.0000   Min.   : 0.0000   Min.   : 0.00000  \n",
       " 1st Qu.: 0.000000   1st Qu.: 0.0000   1st Qu.: 0.0000   1st Qu.: 0.00000  \n",
       " Median : 0.000000   Median : 0.0000   Median : 0.0000   Median : 0.00000  \n",
       " Mean   : 0.003623   Mean   : 0.0471   Mean   : 0.7172   Mean   : 0.06313  \n",
       " 3rd Qu.: 0.000000   3rd Qu.: 0.0000   3rd Qu.: 0.0000   3rd Qu.: 0.00000  \n",
       " Max.   :10.000000   Max.   :20.0000   Max.   :66.0000   Max.   :51.00000  \n",
       "   sonydispos        nokiadispos          htcdispos         iphonedisneg     \n",
       " Min.   : 0.00000   Min.   : 0.000000   Min.   :  0.0000   Min.   :  0.0000  \n",
       " 1st Qu.: 0.00000   1st Qu.: 0.000000   1st Qu.:  0.0000   1st Qu.:  0.0000  \n",
       " Median : 0.00000   Median : 0.000000   Median :  0.0000   Median :  0.0000  \n",
       " Mean   : 0.01141   Mean   : 0.009944   Mean   :  0.1581   Mean   :  0.6085  \n",
       " 3rd Qu.: 0.00000   3rd Qu.: 0.000000   3rd Qu.:  0.0000   3rd Qu.:  0.0000  \n",
       " Max.   :32.00000   Max.   :23.000000   Max.   :479.0000   Max.   :120.0000  \n",
       " samsungdisneg        sonydisneg        nokiadisneg         htcdisneg      \n",
       " Min.   : 0.00000   Min.   : 0.00000   Min.   : 0.00000   Min.   : 0.0000  \n",
       " 1st Qu.: 0.00000   1st Qu.: 0.00000   1st Qu.: 0.00000   1st Qu.: 0.0000  \n",
       " Median : 0.00000   Median : 0.00000   Median : 0.00000   Median : 0.0000  \n",
       " Mean   : 0.06598   Mean   : 0.01241   Mean   : 0.00794   Mean   : 0.1163  \n",
       " 3rd Qu.: 0.00000   3rd Qu.: 0.00000   3rd Qu.: 0.00000   3rd Qu.: 0.0000  \n",
       " Max.   :48.00000   Max.   :97.00000   Max.   :18.00000   Max.   :48.0000  \n",
       "  iphonedisunc     samsungdisunc        sonydisunc         nokiadisunc       \n",
       " Min.   : 0.0000   Min.   : 0.00000   Min.   : 0.000000   Min.   : 0.000000  \n",
       " 1st Qu.: 0.0000   1st Qu.: 0.00000   1st Qu.: 0.000000   1st Qu.: 0.000000  \n",
       " Median : 0.0000   Median : 0.00000   Median : 0.000000   Median : 0.000000  \n",
       " Mean   : 0.5049   Mean   : 0.02713   Mean   : 0.004548   Mean   : 0.004933  \n",
       " 3rd Qu.: 0.0000   3rd Qu.: 0.00000   3rd Qu.: 0.000000   3rd Qu.: 0.000000  \n",
       " Max.   :77.0000   Max.   :42.00000   Max.   :11.000000   Max.   :16.000000  \n",
       "   htcdisunc         iphoneperpos     samsungperpos       sonyperpos       \n",
       " Min.   : 0.00000   Min.   : 0.0000   Min.   : 0.0000   Min.   : 0.000000  \n",
       " 1st Qu.: 0.00000   1st Qu.: 0.0000   1st Qu.: 0.0000   1st Qu.: 0.000000  \n",
       " Median : 0.00000   Median : 0.0000   Median : 0.0000   Median : 0.000000  \n",
       " Mean   : 0.06259   Mean   : 0.6054   Mean   : 0.0619   Mean   : 0.008633  \n",
       " 3rd Qu.: 0.00000   3rd Qu.: 0.0000   3rd Qu.: 0.0000   3rd Qu.: 0.000000  \n",
       " Max.   :42.00000   Max.   :46.0000   Max.   :57.0000   Max.   :14.000000  \n",
       "  nokiaperpos         htcperpos       iphoneperneg     samsungperneg     \n",
       " Min.   : 0.00000   Min.   : 0.000   Min.   : 0.0000   Min.   : 0.00000  \n",
       " 1st Qu.: 0.00000   1st Qu.: 0.000   1st Qu.: 0.0000   1st Qu.: 0.00000  \n",
       " Median : 0.00000   Median : 0.000   Median : 0.0000   Median : 0.00000  \n",
       " Mean   : 0.01064   Mean   : 0.128   Mean   : 0.4866   Mean   : 0.06413  \n",
       " 3rd Qu.: 0.00000   3rd Qu.: 0.000   3rd Qu.: 0.0000   3rd Qu.: 0.00000  \n",
       " Max.   :21.00000   Max.   :65.000   Max.   :33.0000   Max.   :33.00000  \n",
       "   sonyperneg         nokiaperneg         htcperneg        iphoneperunc    \n",
       " Min.   : 0.000000   Min.   : 0.00000   Min.   : 0.0000   Min.   : 0.0000  \n",
       " 1st Qu.: 0.000000   1st Qu.: 0.00000   1st Qu.: 0.0000   1st Qu.: 0.0000  \n",
       " Median : 0.000000   Median : 0.00000   Median : 0.0000   Median : 0.0000  \n",
       " Mean   : 0.006398   Mean   : 0.01025   Mean   : 0.1204   Mean   : 0.2991  \n",
       " 3rd Qu.: 0.000000   3rd Qu.: 0.00000   3rd Qu.: 0.0000   3rd Qu.: 0.0000  \n",
       " Max.   :28.000000   Max.   :18.00000   Max.   :33.0000   Max.   :31.0000  \n",
       " samsungperunc        sonyperunc        nokiaperunc         htcperunc       \n",
       " Min.   : 0.00000   Min.   :0.000000   Min.   : 0.00000   Min.   : 0.00000  \n",
       " 1st Qu.: 0.00000   1st Qu.:0.000000   1st Qu.: 0.00000   1st Qu.: 0.00000  \n",
       " Median : 0.00000   Median :0.000000   Median : 0.00000   Median : 0.00000  \n",
       " Mean   : 0.02212   Mean   :0.002312   Mean   : 0.00555   Mean   : 0.06413  \n",
       " 3rd Qu.: 0.00000   3rd Qu.:0.000000   3rd Qu.: 0.00000   3rd Qu.: 0.00000  \n",
       " Max.   :31.00000   Max.   :5.000000   Max.   :13.00000   Max.   :59.00000  \n",
       "   iosperpos        googleperpos        iosperneg         googleperneg    \n",
       " Min.   : 0.0000   Min.   : 0.00000   Min.   : 0.00000   Min.   : 0.0000  \n",
       " 1st Qu.: 0.0000   1st Qu.: 0.00000   1st Qu.: 0.00000   1st Qu.: 0.0000  \n",
       " Median : 0.0000   Median : 0.00000   Median : 0.00000   Median : 0.0000  \n",
       " Mean   : 0.0592   Mean   : 0.03854   Mean   : 0.05758   Mean   : 0.0582  \n",
       " 3rd Qu.: 0.0000   3rd Qu.: 0.00000   3rd Qu.: 0.00000   3rd Qu.: 0.0000  \n",
       " Max.   :26.0000   Max.   :24.00000   Max.   :20.00000   Max.   :25.0000  \n",
       "   iosperunc         googleperunc      iphonesentiment\n",
       " Min.   : 0.00000   Min.   : 0.00000   Min.   :1.000  \n",
       " 1st Qu.: 0.00000   1st Qu.: 0.00000   1st Qu.:3.000  \n",
       " Median : 0.00000   Median : 0.00000   Median :4.000  \n",
       " Mean   : 0.03307   Mean   : 0.01611   Mean   :3.295  \n",
       " 3rd Qu.: 0.00000   3rd Qu.: 0.00000   3rd Qu.:4.000  \n",
       " Max.   :10.00000   Max.   :24.00000   Max.   :4.000  "
      ]
     },
     "metadata": {},
     "output_type": "display_data"
    },
    {
     "name": "stdout",
     "output_type": "stream",
     "text": [
      "'data.frame':\t12973 obs. of  59 variables:\n",
      " $ iphone         : int  1 1 1 1 1 41 1 1 1 1 ...\n",
      " $ samsunggalaxy  : int  0 0 0 0 0 0 0 0 0 0 ...\n",
      " $ sonyxperia     : int  0 0 0 0 0 0 0 0 0 0 ...\n",
      " $ nokialumina    : int  0 0 0 0 0 0 0 0 0 0 ...\n",
      " $ htcphone       : int  0 0 0 0 0 0 0 0 0 0 ...\n",
      " $ ios            : int  0 0 0 0 0 6 0 0 0 0 ...\n",
      " $ googleandroid  : int  0 0 0 0 0 0 0 0 0 0 ...\n",
      " $ iphonecampos   : int  0 0 0 0 0 1 1 0 0 0 ...\n",
      " $ samsungcampos  : int  0 0 0 0 0 0 0 0 0 0 ...\n",
      " $ sonycampos     : int  0 0 0 0 0 0 0 0 0 0 ...\n",
      " $ nokiacampos    : int  0 0 0 0 0 0 0 0 0 0 ...\n",
      " $ htccampos      : int  0 0 0 0 0 0 0 0 0 0 ...\n",
      " $ iphonecamneg   : int  0 0 0 0 0 3 1 0 0 0 ...\n",
      " $ samsungcamneg  : int  0 0 0 0 0 0 0 0 0 0 ...\n",
      " $ sonycamneg     : int  0 0 0 0 0 0 0 0 0 0 ...\n",
      " $ nokiacamneg    : int  0 0 0 0 0 0 0 0 0 0 ...\n",
      " $ htccamneg      : int  0 0 0 0 0 0 0 0 0 0 ...\n",
      " $ iphonecamunc   : int  0 0 0 0 0 7 1 0 0 0 ...\n",
      " $ samsungcamunc  : int  0 0 0 0 0 0 0 0 0 0 ...\n",
      " $ sonycamunc     : int  0 0 0 0 0 0 0 0 0 0 ...\n",
      " $ nokiacamunc    : int  0 0 0 0 0 0 0 0 0 0 ...\n",
      " $ htccamunc      : int  0 0 0 0 0 0 0 0 0 0 ...\n",
      " $ iphonedispos   : int  0 0 0 0 0 1 13 0 0 0 ...\n",
      " $ samsungdispos  : int  0 0 0 0 0 0 0 0 0 0 ...\n",
      " $ sonydispos     : int  0 0 0 0 0 0 0 0 0 0 ...\n",
      " $ nokiadispos    : int  0 0 0 0 0 0 0 0 0 0 ...\n",
      " $ htcdispos      : int  0 0 0 0 0 0 0 0 0 0 ...\n",
      " $ iphonedisneg   : int  0 0 0 0 0 3 10 0 0 0 ...\n",
      " $ samsungdisneg  : int  0 0 0 0 0 0 0 0 0 0 ...\n",
      " $ sonydisneg     : int  0 0 0 0 0 0 0 0 0 0 ...\n",
      " $ nokiadisneg    : int  0 0 0 0 0 0 0 0 0 0 ...\n",
      " $ htcdisneg      : int  0 0 0 0 0 0 0 0 0 0 ...\n",
      " $ iphonedisunc   : int  0 0 0 0 0 4 9 0 0 0 ...\n",
      " $ samsungdisunc  : int  0 0 0 0 0 0 0 0 0 0 ...\n",
      " $ sonydisunc     : int  0 0 0 0 0 0 0 0 0 0 ...\n",
      " $ nokiadisunc    : int  0 0 0 0 0 0 0 0 0 0 ...\n",
      " $ htcdisunc      : int  0 0 0 0 0 0 0 0 0 0 ...\n",
      " $ iphoneperpos   : int  0 1 0 1 1 0 5 3 0 0 ...\n",
      " $ samsungperpos  : int  0 0 0 0 0 0 0 0 0 0 ...\n",
      " $ sonyperpos     : int  0 0 0 0 0 0 0 0 0 0 ...\n",
      " $ nokiaperpos    : int  0 0 0 0 0 0 0 0 0 0 ...\n",
      " $ htcperpos      : int  0 0 0 0 0 0 0 0 0 0 ...\n",
      " $ iphoneperneg   : int  0 0 0 0 0 0 4 1 0 0 ...\n",
      " $ samsungperneg  : int  0 0 0 0 0 0 0 0 0 0 ...\n",
      " $ sonyperneg     : int  0 0 0 0 0 0 0 0 0 0 ...\n",
      " $ nokiaperneg    : int  0 0 0 0 0 0 0 0 0 0 ...\n",
      " $ htcperneg      : int  0 0 0 0 0 0 0 0 0 0 ...\n",
      " $ iphoneperunc   : int  0 0 0 1 0 0 5 0 0 0 ...\n",
      " $ samsungperunc  : int  0 0 0 0 0 0 0 0 0 0 ...\n",
      " $ sonyperunc     : int  0 0 0 0 0 0 0 0 0 0 ...\n",
      " $ nokiaperunc    : int  0 0 0 0 0 0 0 0 0 0 ...\n",
      " $ htcperunc      : int  0 0 0 0 0 0 0 0 0 0 ...\n",
      " $ iosperpos      : int  0 0 0 0 0 0 0 0 0 0 ...\n",
      " $ googleperpos   : int  0 0 0 0 0 0 0 0 0 0 ...\n",
      " $ iosperneg      : int  0 0 0 0 0 0 0 0 0 0 ...\n",
      " $ googleperneg   : int  0 0 0 0 0 0 0 0 0 0 ...\n",
      " $ iosperunc      : int  0 0 0 0 0 0 0 0 0 0 ...\n",
      " $ googleperunc   : int  0 0 0 0 0 0 0 0 0 0 ...\n",
      " $ iphonesentiment: num  1 1 1 1 1 4 4 1 1 1 ...\n"
     ]
    }
   ],
   "source": [
    "# Combine Recode + PCA\n",
    "\n",
    "library('dplyr')\n",
    "\n",
    "# create a new dataset that will be used for recoding sentiment\n",
    "iphoneRC_PCA <- iphone\n",
    "\n",
    "# recode sentiment to combine factor levels 0 & 1 and 4 & 5\n",
    "iphoneRC_PCA$iphonesentiment <- recode(iphoneRC_PCA$iphonesentiment, '0' = 1, '1' = 1, '2' = 2, '3' = 3, '4' = 4, '5' = 4) \n",
    "\n",
    "# inspect results\n",
    "summary(iphoneRC_PCA)\n",
    "str(iphoneRC_PCA)\n",
    "\n",
    "# make iphonesentiment a factor\n",
    "iphoneRC_PCA$iphonesentiment <- as.factor(iphoneRC_PCA$iphonesentiment)"
   ]
  },
  {
   "cell_type": "code",
   "execution_count": 40,
   "metadata": {},
   "outputs": [
    {
     "name": "stdout",
     "output_type": "stream",
     "text": [
      "'data.frame':\t9083 obs. of  25 variables:\n",
      " $ PC1            : num  -0.692 -0.633 -0.437 -0.692 -0.143 ...\n",
      " $ PC2            : num  0.00637 0.00136 -0.01744 0.00637 -0.15164 ...\n",
      " $ PC3            : num  -0.472 -0.3 0.225 -0.472 -0.771 ...\n",
      " $ PC4            : num  0.3297 0.2591 0.0376 0.3297 0.4416 ...\n",
      " $ PC5            : num  -0.157 -0.151 -0.185 -0.157 -0.417 ...\n",
      " $ PC6            : num  0.241 0.277 0.381 0.241 -0.59 ...\n",
      " $ PC7            : num  -0.115 -0.118 -0.111 -0.115 0.276 ...\n",
      " $ PC8            : num  -0.0731 0.0105 0.2859 -0.0731 0.7505 ...\n",
      " $ PC9            : num  -0.01204 -0.01752 -0.02888 -0.01204 0.00799 ...\n",
      " $ PC10           : num  0.134 0.125 0.129 0.134 0.691 ...\n",
      " $ PC11           : num  0.1462 0.2253 0.332 0.1462 -0.0717 ...\n",
      " $ PC12           : num  -0.236 -0.236 -0.244 -0.236 -0.651 ...\n",
      " $ PC13           : num  -0.0508 -0.0153 0.0778 -0.0508 0.6152 ...\n",
      " $ PC14           : num  0.0289 0.0409 0.0725 0.0289 0.1572 ...\n",
      " $ PC15           : num  0.00968 0.04373 0.13657 0.00968 -0.3642 ...\n",
      " $ PC16           : num  0.06716 0.00222 -0.21461 0.06716 1.25351 ...\n",
      " $ PC17           : num  0.021 0.0267 0.0518 0.021 0.0855 ...\n",
      " $ PC18           : num  -0.0935 0.1463 0.7705 -0.0935 0.568 ...\n",
      " $ PC19           : num  -0.031 -0.099 -0.302 -0.031 1.174 ...\n",
      " $ PC20           : num  -0.0382 0.0151 0.1807 -0.0382 -0.9612 ...\n",
      " $ PC21           : num  -0.0803 -0.0914 -0.1787 -0.0803 2.115 ...\n",
      " $ PC22           : num  0.044 0.00689 -0.04927 0.044 -1.25522 ...\n",
      " $ PC23           : num  -0.0207 0.0384 0.2163 -0.0207 0.2575 ...\n",
      " $ PC24           : num  -0.0161 0.0394 0.2634 -0.0161 0.9456 ...\n",
      " $ iphonesentiment: Factor w/ 4 levels \"1\",\"2\",\"3\",\"4\": 1 1 1 1 3 1 1 1 1 1 ...\n",
      "'data.frame':\t3890 obs. of  25 variables:\n",
      " $ PC1            : num  -0.633 -0.692 -0.536 0.531 1.671 ...\n",
      " $ PC2            : num  0.00136 0.00637 -0.01305 -0.20593 -0.32492 ...\n",
      " $ PC3            : num  -0.2996 -0.4724 -0.0231 3.4716 6.8313 ...\n",
      " $ PC4            : num  0.259 0.33 0.143 -1.506 -2.848 ...\n",
      " $ PC5            : num  -0.151 -0.157 -0.2 1.481 -0.472 ...\n",
      " $ PC6            : num  0.277 0.241 0.375 -7.583 0.228 ...\n",
      " $ PC7            : num  -0.118 -0.115 -0.184 0.252 -2.6 ...\n",
      " $ PC8            : num  0.0105 -0.0731 0.094 -7.5818 2.1858 ...\n",
      " $ PC9            : num  -0.0175 -0.012 -0.0169 -0.1595 0.1371 ...\n",
      " $ PC10           : num  0.1246 0.1344 0.1214 -0.0511 0.0572 ...\n",
      " $ PC11           : num  0.225 0.146 0.216 -1.727 -0.745 ...\n",
      " $ PC12           : num  -0.236 -0.236 -0.237 0.365 0.117 ...\n",
      " $ PC13           : num  -0.0153 -0.0508 0.023 -0.7121 -0.6246 ...\n",
      " $ PC14           : num  0.0409 0.0289 0.0478 0.1543 -0.0984 ...\n",
      " $ PC15           : num  0.04373 0.00968 0.09977 -0.02518 -0.0373 ...\n",
      " $ PC16           : num  0.00222 0.06716 -0.19873 0.5552 0.02503 ...\n",
      " $ PC17           : num  0.0267 0.021 0.105 -0.4079 0.2052 ...\n",
      " $ PC18           : num  0.1463 -0.0935 0.4672 0.6613 -0.2843 ...\n",
      " $ PC19           : num  -0.099 -0.031 -0.0819 -0.2628 0.2548 ...\n",
      " $ PC20           : num  0.0151 -0.0382 0.0443 0.1259 -0.1764 ...\n",
      " $ PC21           : num  -0.09143 -0.08028 0.00389 -0.03145 0.3074 ...\n",
      " $ PC22           : num  0.00689 0.044 -0.06179 -0.01981 -0.0547 ...\n",
      " $ PC23           : num  0.0384 -0.0207 -0.2174 0.0998 -0.5347 ...\n",
      " $ PC24           : num  0.0394 -0.0161 -0.1077 0.0698 -0.4637 ...\n",
      " $ iphonesentiment: Factor w/ 4 levels \"1\",\"2\",\"3\",\"4\": 1 1 1 4 4 1 1 1 1 1 ...\n"
     ]
    }
   ],
   "source": [
    "# use predict to apply pca parameters, create training, exclude dependant\n",
    "trainRC.pca <- predict(preprocessParams, training_rc[,-59])\n",
    "\n",
    "# add the dependent to training\n",
    "trainRC.pca$iphonesentiment <- training_rc$iphonesentiment\n",
    "\n",
    "# use predict to apply pca parameters, create testing, exclude dependant\n",
    "testRC.pca <- predict(preprocessParams, testing_rc[,-59])\n",
    "\n",
    "# add the dependent to training\n",
    "testRC.pca$iphonesentiment <- testing_rc$iphonesentiment\n",
    "\n",
    "# inspect results\n",
    "str(trainRC.pca)\n",
    "str(testRC.pca)"
   ]
  },
  {
   "cell_type": "code",
   "execution_count": 41,
   "metadata": {},
   "outputs": [
    {
     "data": {
      "text/html": [
       "<dl class=dl-horizontal>\n",
       "\t<dt>Accuracy</dt>\n",
       "\t\t<dd>0.841902313624679</dd>\n",
       "\t<dt>Kappa</dt>\n",
       "\t\t<dd>0.607059412892709</dd>\n",
       "</dl>\n"
      ],
      "text/latex": [
       "\\begin{description*}\n",
       "\\item[Accuracy] 0.841902313624679\n",
       "\\item[Kappa] 0.607059412892709\n",
       "\\end{description*}\n"
      ],
      "text/markdown": [
       "Accuracy\n",
       ":   0.841902313624679Kappa\n",
       ":   0.607059412892709\n",
       "\n"
      ],
      "text/plain": [
       " Accuracy     Kappa \n",
       "0.8419023 0.6070594 "
      ]
     },
     "metadata": {},
     "output_type": "display_data"
    }
   ],
   "source": [
    "# Apply Random Forest to RC + PCA transformed dataset\n",
    "\n",
    "# Train Random Forest model\n",
    "\n",
    "rc_pcaFit <- train(iphonesentiment~., data = trainRC.pca, method = \"rf\", metric = 'Kappa', trControl=fitControl0, tuneLength = 1)\n",
    "\n",
    "rc_pcaPred <- predict(rc_pcaFit, testRC.pca)\n",
    "\n",
    "postResample(rc_pcaPred, testRC.pca$iphonesentiment)"
   ]
  },
  {
   "cell_type": "markdown",
   "metadata": {},
   "source": [
    "Applying PCA do not improne neither Accuracy nor Kappa."
   ]
  },
  {
   "cell_type": "code",
   "execution_count": 42,
   "metadata": {},
   "outputs": [],
   "source": [
    "large_matrix = read.csv('LargeMatrix.csv')"
   ]
  },
  {
   "cell_type": "code",
   "execution_count": 43,
   "metadata": {},
   "outputs": [],
   "source": [
    "large_matrix$iphonesentiment <- 0"
   ]
  },
  {
   "cell_type": "code",
   "execution_count": 44,
   "metadata": {},
   "outputs": [],
   "source": [
    "# Predicting target values using recoded model:\n",
    "\n",
    "Pred <- predict(rcFit, large_matrix)\n"
   ]
  },
  {
   "cell_type": "code",
   "execution_count": 45,
   "metadata": {},
   "outputs": [],
   "source": [
    "large_matrix$iphonesentiment <- Pred"
   ]
  },
  {
   "cell_type": "code",
   "execution_count": 46,
   "metadata": {},
   "outputs": [
    {
     "data": {
      "text/html": [
       "<dl class=dl-horizontal>\n",
       "\t<dt>1</dt>\n",
       "\t\t<dd>9226</dd>\n",
       "\t<dt>2</dt>\n",
       "\t\t<dd>579</dd>\n",
       "\t<dt>3</dt>\n",
       "\t\t<dd>1428</dd>\n",
       "\t<dt>4</dt>\n",
       "\t\t<dd>10575</dd>\n",
       "</dl>\n"
      ],
      "text/latex": [
       "\\begin{description*}\n",
       "\\item[1] 9226\n",
       "\\item[2] 579\n",
       "\\item[3] 1428\n",
       "\\item[4] 10575\n",
       "\\end{description*}\n"
      ],
      "text/markdown": [
       "1\n",
       ":   92262\n",
       ":   5793\n",
       ":   14284\n",
       ":   10575\n",
       "\n"
      ],
      "text/plain": [
       "    1     2     3     4 \n",
       " 9226   579  1428 10575 "
      ]
     },
     "metadata": {},
     "output_type": "display_data"
    }
   ],
   "source": [
    "summary(Pred) "
   ]
  },
  {
   "cell_type": "code",
   "execution_count": 47,
   "metadata": {},
   "outputs": [
    {
     "data": {
      "image/png": "[encoded data removed]",
      "text/plain": [
       "plot without title"
      ]
     },
     "metadata": {
      "image/png": {
       "height": 420,
       "width": 420
      },
      "text/plain": {
       "height": 420,
       "width": 420
      }
     },
     "output_type": "display_data"
    }
   ],
   "source": [
    "barplot(table(large_matrix$iphonesentiment))"
   ]
  },
  {
   "cell_type": "code",
   "execution_count": 51,
   "metadata": {},
   "outputs": [
    {
     "data": {
      "image/png": "[encoded data removed]",
      "text/plain": [
       "Plot with title \"Sentiments Frequency \n",
       " iPhone (small matrix)\""
      ]
     },
     "metadata": {
      "image/png": {
       "height": 420,
       "width": 420
      },
      "text/plain": {
       "height": 420,
       "width": 420
      }
     },
     "output_type": "display_data"
    }
   ],
   "source": [
    "barplot(table(iphone$iphonesentiment), main = 'Sentiments Frequency \\n iPhone (small matrix)')"
   ]
  },
  {
   "cell_type": "code",
   "execution_count": null,
   "metadata": {},
   "outputs": [],
   "source": []
  }
 ],
 "metadata": {
  "kernelspec": {
   "display_name": "R",
   "language": "R",
   "name": "ir"
  },
  "language_info": {
   "codemirror_mode": "r",
   "file_extension": ".r",
   "mimetype": "text/x-r-source",
   "name": "R",
   "pygments_lexer": "r",
   "version": "3.6.1"
  }
 },
 "nbformat": 4,
 "nbformat_minor": 2
}
